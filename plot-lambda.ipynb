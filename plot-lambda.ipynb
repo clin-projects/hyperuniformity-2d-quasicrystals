{
 "metadata": {
  "name": "",
  "signature": "sha256:b1226adfe10b0f77a057e95eaf479524f9d0feb1cc38bece7f2d0f6cec53a821"
 },
 "nbformat": 3,
 "nbformat_minor": 0,
 "worksheets": [
  {
   "cells": [
    {
     "cell_type": "heading",
     "level": 2,
     "metadata": {},
     "source": [
      "Plots the degree of hyperuniformity for various local isomorphism classes"
     ]
    },
    {
     "cell_type": "heading",
     "level": 3,
     "metadata": {},
     "source": [
      "Author: Chaney Lin\n",
      "Date: April 2018"
     ]
    },
    {
     "cell_type": "code",
     "collapsed": false,
     "input": [
      "import glob\n",
      "import matplotlib as mpl\n",
      "import matplotlib.pyplot as plt\n",
      "import numpy as np\n",
      "import os\n",
      "from matplotlib.pyplot import cm \n",
      "from scipy.optimize import curve_fit\n",
      "\n",
      "def f(x,a,b):\n",
      "    return a + b/x\n",
      "\n",
      "%matplotlib inline\n",
      "\n",
      "mpl.rc(\"savefig\", dpi=100)\n",
      "\n",
      "font = {'family' : 'Times New Roman',\n",
      "        'weight' : 'normal',\n",
      "        'size'   : 20}\n",
      "\n",
      "# mpl.rcParams['text.usetex'] = True\n",
      "# mpl.rcParams['text.latex.preamble'] = [r'\\usepackage{amsmath}'] #for \\text command\n",
      "\n",
      "mpl.rc('font', **font)\n",
      "\n",
      "def CalcSmoothN(x,y,n):\n",
      "    # does cumulative average\n",
      "    # applies trapezoidal rule, returns new [x,y]\n",
      "    #\n",
      "    smoothy = []\n",
      "    midpt_x = []\n",
      "    cursum = 0\n",
      "    N = len(y)\n",
      "    x0 = (x[0] + x[1])/2\n",
      "    for i in range(1,N-1):\n",
      "        cur_integrand = (y[i]*x[i]**n + y[i+1]*x[i+1]**n)/2\n",
      "        cur_x = (x[i] +x[i+1])/2\n",
      "        dx = x[i+1] - x[i]\n",
      "        cursum += cur_integrand * dx\n",
      "        smoothy.append(cursum / (cur_x - x0)**(n+1))\n",
      "        midpt_x.append(cur_x)\n",
      "    return np.array(midpt_x), np.array(smoothy)\n",
      "\n",
      "def EquivGam(g):\n",
      "    if g % 1 <= 0.5:\n",
      "        return g % 1\n",
      "    else:\n",
      "        return 1 - g % 1\n",
      "\n",
      "tau = (1+5**.5) / 2\n",
      "rho = 2*(tau+1) / (tau+2) / (3-tau)**.5"
     ],
     "language": "python",
     "metadata": {},
     "outputs": [],
     "prompt_number": 49
    },
    {
     "cell_type": "code",
     "collapsed": false,
     "input": [
      "files = glob.glob('./dat/*rmax_400*.npz')\n",
      "\n",
      "m = len(files)\n",
      "\n",
      "gam = []\n",
      "kmax = []\n",
      "seeds = []\n",
      "for i in range(m):\n",
      "    print files[i]\n",
      "    t = np.load(files[i])\n",
      "    \n",
      "    gammasum = float(t['gammasum'])\n",
      "    kmax.append(int(t['kmax']))\n",
      "    seeds.append(int(t['seed']))\n",
      "    gam.append(round(gammasum % 1,10))\n",
      "    \n",
      "    fsplit = files[i].split('_')\n",
      "    ind = fsplit.index('g')+1\n",
      "    cur_g_str = fsplit[ind]\n",
      "    \n",
      "    if round(gammasum % 1,10) != float(cur_g_str):\n",
      "        print i\n",
      "        fsplit = files[i].split('_')\n",
      "        ind = fsplit.index('g')+1\n",
      "        cur_g_str = fsplit[ind]\n",
      "        new_fname = files[i].replace('g_'+cur_g_str,'g_'+str(round(gammasum % 1, 10)))\n",
      "        os.rename(files[i], new_fname)\n",
      "\n",
      "kmax = np.array(kmax)\n",
      "seeds = np.array(seeds)\n",
      "gam = np.array(gam)\n",
      "unique_gam = np.unique(gam)\n",
      "\n",
      "print len(unique_gam)\n",
      "for i in unique_gam:\n",
      "    print i,','"
     ],
     "language": "python",
     "metadata": {},
     "outputs": [
      {
       "output_type": "stream",
       "stream": "stdout",
       "text": [
        "./dat/var_g_0.0000_s_10_k_400_win_10000_int_2000_N_3472670_lin_rmax_400.npz\n",
        "./dat/var_g_0.0000_s_1_k_400_win_10000_int_2000_N_3480477_lin_rmax_400.npz\n",
        "./dat/var_g_0.0000_s_2_k_400_win_10000_int_2000_N_3472660_lin_rmax_400.npz\n",
        "./dat/var_g_0.0000_s_3_k_400_win_10000_int_2000_N_3480473_lin_rmax_400.npz\n",
        "./dat/var_g_0.0000_s_4_k_400_win_10000_int_2000_N_3480511_lin_rmax_400.npz\n",
        "./dat/var_g_0.0000_s_5_k_400_win_10000_int_2000_N_3464926_lin_rmax_400.npz\n",
        "./dat/var_g_0.0000_s_6_k_400_win_10000_int_2000_N_3472652_lin_rmax_400.npz\n",
        "./dat/var_g_0.0000_s_7_k_400_win_10000_int_2000_N_3480489_lin_rmax_400.npz\n",
        "./dat/var_g_0.0000_s_8_k_400_win_10000_int_2000_N_3480472_lin_rmax_400.npz\n",
        "./dat/var_g_0.0000_s_9_k_400_win_10000_int_2000_N_3472669_lin_rmax_400.npz"
       ]
      },
      {
       "output_type": "stream",
       "stream": "stdout",
       "text": [
        "\n",
        "./dat/var_g_0.0050_s_2_k_400_win_10000_int_2000_N_3472659_lin_rmax_400.npz\n",
        "./dat/var_g_0.0050_s_3_k_400_win_10000_int_2000_N_3480474_lin_rmax_400.npz\n",
        "./dat/var_g_0.0050_s_6_k_400_win_10000_int_2000_N_3472653_lin_rmax_400.npz\n",
        "./dat/var_g_0.005_s_10_k_400_win_10000_int_2000_N_3472667_lin_rmax_400.npz\n",
        "./dat/var_g_0.005_s_1_k_400_win_10000_int_2000_N_3480477_lin_rmax_400.npz\n",
        "./dat/var_g_0.005_s_4_k_400_win_10000_int_2000_N_3480513_lin_rmax_400.npz\n",
        "./dat/var_g_0.005_s_5_k_400_win_10000_int_2000_N_3464925_lin_rmax_400.npz\n",
        "./dat/var_g_0.005_s_7_k_400_win_10000_int_2000_N_3480490_lin_rmax_400.npz\n",
        "./dat/var_g_0.005_s_8_k_400_win_10000_int_2000_N_3480473_lin_rmax_400.npz\n",
        "./dat/var_g_0.005_s_9_k_400_win_10000_int_2000_N_3472670_lin_rmax_400.npz\n",
        "./dat/var_g_0.015_s_10_k_400_win_10000_int_2000_N_3472665_lin_rmax_400.npz\n",
        "./dat/var_g_0.015_s_10_k_400_win_10000_int_2000_N_3472666_lin_rmax_400.npz\n",
        "./dat/var_g_0.015_s_1_k_400_win_10000_int_2000_N_3480478_lin_rmax_400.npz\n",
        "./dat/var_g_0.015_s_2_k_400_win_10000_int_2000_N_3472659_lin_rmax_400.npz\n",
        "./dat/var_g_0.015_s_3_k_400_win_10000_int_2000_N_3480474_lin_rmax_400.npz\n",
        "./dat/var_g_0.015_s_4_k_400_win_10000_int_2000_N_3480512_lin_rmax_400.npz\n",
        "./dat/var_g_0.015_s_5_k_400_win_10000_int_2000_N_3464914_lin_rmax_400.npz\n",
        "./dat/var_g_0.015_s_6_k_400_win_10000_int_2000_N_3472653_lin_rmax_400.npz\n",
        "./dat/var_g_0.015_s_7_k_400_win_10000_int_2000_N_3480491_lin_rmax_400.npz\n",
        "./dat/var_g_0.015_s_8_k_400_win_10000_int_2000_N_3480474_lin_rmax_400.npz\n",
        "./dat/var_g_0.015_s_9_k_400_win_10000_int_2000_N_3472669_lin_rmax_400.npz"
       ]
      },
      {
       "output_type": "stream",
       "stream": "stdout",
       "text": [
        "\n",
        "./dat/var_g_0.01_s_10_k_400_win_10000_int_2000_N_3472666_lin_rmax_400.npz\n",
        "./dat/var_g_0.01_s_1_k_400_win_10000_int_2000_N_3480475_lin_rmax_400.npz\n",
        "./dat/var_g_0.01_s_2_k_400_win_10000_int_2000_N_3472657_lin_rmax_400.npz\n",
        "./dat/var_g_0.01_s_3_k_400_win_10000_int_2000_N_3480473_lin_rmax_400.npz\n",
        "./dat/var_g_0.01_s_4_k_400_win_10000_int_2000_N_3480513_lin_rmax_400.npz\n",
        "./dat/var_g_0.01_s_5_k_400_win_10000_int_2000_N_3464913_lin_rmax_400.npz\n",
        "./dat/var_g_0.01_s_6_k_400_win_10000_int_2000_N_3472657_lin_rmax_400.npz\n",
        "./dat/var_g_0.01_s_7_k_400_win_10000_int_2000_N_3480490_lin_rmax_400.npz\n",
        "./dat/var_g_0.01_s_8_k_400_win_10000_int_2000_N_3480476_lin_rmax_400.npz\n",
        "./dat/var_g_0.01_s_9_k_400_win_10000_int_2000_N_3472669_lin_rmax_400.npz\n",
        "./dat/var_g_0.025_s_10_k_400_win_10000_int_2000_N_3472662_lin_rmax_400.npz\n",
        "./dat/var_g_0.025_s_1_k_400_win_10000_int_2000_N_3480474_lin_rmax_400.npz\n",
        "./dat/var_g_0.025_s_2_k_400_win_10000_int_2000_N_3472653_lin_rmax_400.npz\n",
        "./dat/var_g_0.025_s_3_k_400_win_10000_int_2000_N_3480477_lin_rmax_400.npz\n",
        "./dat/var_g_0.025_s_4_k_400_win_10000_int_2000_N_3480509_lin_rmax_400.npz\n",
        "./dat/var_g_0.025_s_5_k_400_win_10000_int_2000_N_3464922_lin_rmax_400.npz\n",
        "./dat/var_g_0.025_s_6_k_400_win_10000_int_2000_N_3472657_lin_rmax_400.npz\n",
        "./dat/var_g_0.025_s_7_k_400_win_10000_int_2000_N_3480486_lin_rmax_400.npz\n",
        "./dat/var_g_0.025_s_8_k_400_win_10000_int_2000_N_3480472_lin_rmax_400.npz\n",
        "./dat/var_g_0.025_s_9_k_400_win_10000_int_2000_N_3472663_lin_rmax_400.npz\n",
        "./dat/var_g_0.02_s_10_k_400_win_10000_int_2000_N_3472664_lin_rmax_400.npz"
       ]
      },
      {
       "output_type": "stream",
       "stream": "stdout",
       "text": [
        "\n",
        "./dat/var_g_0.02_s_1_k_400_win_10000_int_2000_N_3480477_lin_rmax_400.npz\n",
        "./dat/var_g_0.02_s_2_k_400_win_10000_int_2000_N_3472654_lin_rmax_400.npz\n",
        "./dat/var_g_0.02_s_3_k_400_win_10000_int_2000_N_3480474_lin_rmax_400.npz\n",
        "./dat/var_g_0.02_s_4_k_400_win_10000_int_2000_N_3480511_lin_rmax_400.npz\n",
        "./dat/var_g_0.02_s_5_k_400_win_10000_int_2000_N_3464922_lin_rmax_400.npz\n",
        "./dat/var_g_0.02_s_6_k_400_win_10000_int_2000_N_3472654_lin_rmax_400.npz\n",
        "./dat/var_g_0.02_s_7_k_400_win_10000_int_2000_N_3480486_lin_rmax_400.npz\n",
        "./dat/var_g_0.02_s_8_k_400_win_10000_int_2000_N_3480476_lin_rmax_400.npz\n",
        "./dat/var_g_0.02_s_9_k_400_win_10000_int_2000_N_3472666_lin_rmax_400.npz\n",
        "./dat/var_g_0.0344418537_s_10_k_400_win_10000_int_2000_N_3472660_lin_rmax_400.npz\n",
        "./dat/var_g_0.0344418537_s_1_k_400_win_10000_int_2000_N_3480470_lin_rmax_400.npz\n",
        "./dat/var_g_0.0344418537_s_2_k_400_win_10000_int_2000_N_3472656_lin_rmax_400.npz\n",
        "./dat/var_g_0.0344418537_s_3_k_400_win_10000_int_2000_N_3480473_lin_rmax_400.npz\n",
        "./dat/var_g_0.0344418537_s_4_k_400_win_10000_int_2000_N_3480506_lin_rmax_400.npz\n",
        "./dat/var_g_0.0344418537_s_5_k_400_win_10000_int_2000_N_3464927_lin_rmax_400.npz\n",
        "./dat/var_g_0.0344418537_s_6_k_400_win_10000_int_2000_N_3472649_lin_rmax_400.npz\n",
        "./dat/var_g_0.0344418537_s_7_k_400_win_10000_int_2000_N_3480486_lin_rmax_400.npz\n",
        "./dat/var_g_0.0344418537_s_8_k_400_win_10000_int_2000_N_3480479_lin_rmax_400.npz\n",
        "./dat/var_g_0.0344418537_s_9_k_400_win_10000_int_2000_N_3472663_lin_rmax_400.npz\n",
        "./dat/var_g_0.035_s_10_k_400_win_10000_int_2000_N_3472660_lin_rmax_400.npz\n",
        "./dat/var_g_0.035_s_1_k_400_win_10000_int_2000_N_3480470_lin_rmax_400.npz\n",
        "./dat/var_g_0.035_s_2_k_400_win_10000_int_2000_N_3472656_lin_rmax_400.npz"
       ]
      },
      {
       "output_type": "stream",
       "stream": "stdout",
       "text": [
        "\n",
        "./dat/var_g_0.035_s_3_k_400_win_10000_int_2000_N_3480473_lin_rmax_400.npz\n",
        "./dat/var_g_0.035_s_4_k_400_win_10000_int_2000_N_3480505_lin_rmax_400.npz\n",
        "./dat/var_g_0.035_s_5_k_400_win_10000_int_2000_N_3464927_lin_rmax_400.npz\n",
        "./dat/var_g_0.035_s_6_k_400_win_10000_int_2000_N_3472649_lin_rmax_400.npz\n",
        "./dat/var_g_0.035_s_7_k_400_win_10000_int_2000_N_3480484_lin_rmax_400.npz\n",
        "./dat/var_g_0.035_s_8_k_400_win_10000_int_2000_N_3480480_lin_rmax_400.npz\n",
        "./dat/var_g_0.035_s_9_k_400_win_10000_int_2000_N_3472663_lin_rmax_400.npz\n",
        "./dat/var_g_0.03_s_10_k_400_win_10000_int_2000_N_3472661_lin_rmax_400.npz\n",
        "./dat/var_g_0.03_s_1_k_400_win_10000_int_2000_N_3480473_lin_rmax_400.npz\n",
        "./dat/var_g_0.03_s_2_k_400_win_10000_int_2000_N_3472656_lin_rmax_400.npz\n",
        "./dat/var_g_0.03_s_3_k_400_win_10000_int_2000_N_3480478_lin_rmax_400.npz\n",
        "./dat/var_g_0.03_s_4_k_400_win_10000_int_2000_N_3480506_lin_rmax_400.npz\n",
        "./dat/var_g_0.03_s_5_k_400_win_10000_int_2000_N_3464928_lin_rmax_400.npz\n",
        "./dat/var_g_0.03_s_6_k_400_win_10000_int_2000_N_3472647_lin_rmax_400.npz\n",
        "./dat/var_g_0.03_s_7_k_400_win_10000_int_2000_N_3480486_lin_rmax_400.npz\n",
        "./dat/var_g_0.03_s_8_k_400_win_10000_int_2000_N_3480474_lin_rmax_400.npz\n",
        "./dat/var_g_0.03_s_9_k_400_win_10000_int_2000_N_3472662_lin_rmax_400.npz\n",
        "./dat/var_g_0.045_s_10_k_400_win_10000_int_2000_N_3472665_lin_rmax_400.npz\n",
        "./dat/var_g_0.045_s_1_k_400_win_10000_int_2000_N_3480472_lin_rmax_400.npz\n",
        "./dat/var_g_0.045_s_2_k_400_win_10000_int_2000_N_3472659_lin_rmax_400.npz\n",
        "./dat/var_g_0.045_s_3_k_400_win_10000_int_2000_N_3480474_lin_rmax_400.npz"
       ]
      },
      {
       "output_type": "stream",
       "stream": "stdout",
       "text": [
        "\n",
        "./dat/var_g_0.045_s_4_k_400_win_10000_int_2000_N_3480502_lin_rmax_400.npz\n",
        "./dat/var_g_0.045_s_5_k_400_win_10000_int_2000_N_3464929_lin_rmax_400.npz\n",
        "./dat/var_g_0.045_s_6_k_400_win_10000_int_2000_N_3472647_lin_rmax_400.npz\n",
        "./dat/var_g_0.045_s_7_k_400_win_10000_int_2000_N_3480491_lin_rmax_400.npz\n",
        "./dat/var_g_0.045_s_8_k_400_win_10000_int_2000_N_3480481_lin_rmax_400.npz\n",
        "./dat/var_g_0.045_s_9_k_400_win_10000_int_2000_N_3472667_lin_rmax_400.npz\n",
        "./dat/var_g_0.04_s_10_k_400_win_10000_int_2000_N_3472665_lin_rmax_400.npz\n",
        "./dat/var_g_0.04_s_1_k_400_win_10000_int_2000_N_3480471_lin_rmax_400.npz\n",
        "./dat/var_g_0.04_s_2_k_400_win_10000_int_2000_N_3472656_lin_rmax_400.npz\n",
        "./dat/var_g_0.04_s_3_k_400_win_10000_int_2000_N_3480472_lin_rmax_400.npz\n",
        "./dat/var_g_0.04_s_4_k_400_win_10000_int_2000_N_3480504_lin_rmax_400.npz\n",
        "./dat/var_g_0.04_s_5_k_400_win_10000_int_2000_N_3464927_lin_rmax_400.npz\n",
        "./dat/var_g_0.04_s_6_k_400_win_10000_int_2000_N_3472647_lin_rmax_400.npz\n",
        "./dat/var_g_0.04_s_7_k_400_win_10000_int_2000_N_3480486_lin_rmax_400.npz\n",
        "./dat/var_g_0.04_s_8_k_400_win_10000_int_2000_N_3480481_lin_rmax_400.npz\n",
        "./dat/var_g_0.04_s_9_k_400_win_10000_int_2000_N_3472665_lin_rmax_400.npz\n",
        "./dat/var_g_0.05572809_s_10_k_400_win_10000_int_2000_N_3472661_lin_rmax_400.npz\n",
        "./dat/var_g_0.05572809_s_1_k_400_win_10000_int_2000_N_3480474_lin_rmax_400.npz\n",
        "./dat/var_g_0.05572809_s_2_k_400_win_10000_int_2000_N_3472652_lin_rmax_400.npz\n",
        "./dat/var_g_0.05572809_s_3_k_400_win_10000_int_2000_N_3480472_lin_rmax_400.npz\n",
        "./dat/var_g_0.05572809_s_4_k_400_win_10000_int_2000_N_3480503_lin_rmax_400.npz"
       ]
      },
      {
       "output_type": "stream",
       "stream": "stdout",
       "text": [
        "\n",
        "./dat/var_g_0.05572809_s_5_k_400_win_10000_int_2000_N_3464931_lin_rmax_400.npz\n",
        "./dat/var_g_0.05572809_s_6_k_400_win_10000_int_2000_N_3472650_lin_rmax_400.npz\n",
        "./dat/var_g_0.05572809_s_7_k_400_win_10000_int_2000_N_3480490_lin_rmax_400.npz\n",
        "./dat/var_g_0.05572809_s_8_k_400_win_10000_int_2000_N_3480479_lin_rmax_400.npz\n",
        "./dat/var_g_0.05572809_s_9_k_400_win_10000_int_2000_N_3472662_lin_rmax_400.npz\n",
        "./dat/var_g_0.055_s_10_k_400_win_10000_int_2000_N_3472661_lin_rmax_400.npz\n",
        "./dat/var_g_0.055_s_1_k_400_win_10000_int_2000_N_3480474_lin_rmax_400.npz\n",
        "./dat/var_g_0.055_s_2_k_400_win_10000_int_2000_N_3472652_lin_rmax_400.npz\n",
        "./dat/var_g_0.055_s_3_k_400_win_10000_int_2000_N_3480472_lin_rmax_400.npz\n",
        "./dat/var_g_0.055_s_4_k_400_win_10000_int_2000_N_3480503_lin_rmax_400.npz\n",
        "./dat/var_g_0.055_s_5_k_400_win_10000_int_2000_N_3464931_lin_rmax_400.npz\n",
        "./dat/var_g_0.055_s_6_k_400_win_10000_int_2000_N_3472646_lin_rmax_400.npz\n",
        "./dat/var_g_0.055_s_7_k_400_win_10000_int_2000_N_3480494_lin_rmax_400.npz\n",
        "./dat/var_g_0.055_s_8_k_400_win_10000_int_2000_N_3480479_lin_rmax_400.npz\n",
        "./dat/var_g_0.055_s_9_k_400_win_10000_int_2000_N_3472662_lin_rmax_400.npz\n",
        "./dat/var_g_0.05_s_10_k_400_win_10000_int_2000_N_3472665_lin_rmax_400.npz\n",
        "./dat/var_g_0.05_s_1_k_400_win_10000_int_2000_N_3480472_lin_rmax_400.npz\n",
        "./dat/var_g_0.05_s_2_k_400_win_10000_int_2000_N_3472659_lin_rmax_400.npz\n",
        "./dat/var_g_0.05_s_3_k_400_win_10000_int_2000_N_3480475_lin_rmax_400.npz\n",
        "./dat/var_g_0.05_s_4_k_400_win_10000_int_2000_N_3480503_lin_rmax_400.npz\n",
        "./dat/var_g_0.05_s_5_k_400_win_10000_int_2000_N_3464928_lin_rmax_400.npz\n",
        "./dat/var_g_0.05_s_6_k_400_win_10000_int_2000_N_3472645_lin_rmax_400.npz"
       ]
      },
      {
       "output_type": "stream",
       "stream": "stdout",
       "text": [
        "\n",
        "./dat/var_g_0.05_s_7_k_400_win_10000_int_2000_N_3480491_lin_rmax_400.npz\n",
        "./dat/var_g_0.05_s_8_k_400_win_10000_int_2000_N_3480477_lin_rmax_400.npz\n",
        "./dat/var_g_0.05_s_9_k_400_win_10000_int_2000_N_3472664_lin_rmax_400.npz\n",
        "./dat/var_g_0.0650_s_3_k_400_win_10000_int_2000_N_3480472_lin_rmax_400.npz\n",
        "./dat/var_g_0.0650_s_8_k_400_win_10000_int_2000_N_3480476_lin_rmax_400.npz\n",
        "./dat/var_g_0.065_s_10_k_400_win_10000_int_2000_N_3472661_lin_rmax_400.npz\n",
        "./dat/var_g_0.065_s_1_k_400_win_10000_int_2000_N_3480482_lin_rmax_400.npz\n",
        "./dat/var_g_0.065_s_2_k_400_win_10000_int_2000_N_3472657_lin_rmax_400.npz\n",
        "./dat/var_g_0.065_s_4_k_400_win_10000_int_2000_N_3480505_lin_rmax_400.npz\n",
        "./dat/var_g_0.065_s_5_k_400_win_10000_int_2000_N_3464930_lin_rmax_400.npz\n",
        "./dat/var_g_0.065_s_6_k_400_win_10000_int_2000_N_3472641_lin_rmax_400.npz\n",
        "./dat/var_g_0.065_s_7_k_400_win_10000_int_2000_N_3480495_lin_rmax_400.npz\n",
        "./dat/var_g_0.065_s_9_k_400_win_10000_int_2000_N_3472662_lin_rmax_400.npz\n",
        "./dat/var_g_0.06_s_10_k_400_win_10000_int_2000_N_3472663_lin_rmax_400.npz\n",
        "./dat/var_g_0.06_s_1_k_400_win_10000_int_2000_N_3480476_lin_rmax_400.npz\n",
        "./dat/var_g_0.06_s_2_k_400_win_10000_int_2000_N_3472655_lin_rmax_400.npz\n",
        "./dat/var_g_0.06_s_3_k_400_win_10000_int_2000_N_3480478_lin_rmax_400.npz\n",
        "./dat/var_g_0.06_s_4_k_400_win_10000_int_2000_N_3480500_lin_rmax_400.npz\n",
        "./dat/var_g_0.06_s_5_k_400_win_10000_int_2000_N_3464930_lin_rmax_400.npz\n",
        "./dat/var_g_0.06_s_6_k_400_win_10000_int_2000_N_3472642_lin_rmax_400.npz"
       ]
      },
      {
       "output_type": "stream",
       "stream": "stdout",
       "text": [
        "\n",
        "./dat/var_g_0.06_s_7_k_400_win_10000_int_2000_N_3480493_lin_rmax_400.npz\n",
        "./dat/var_g_0.06_s_8_k_400_win_10000_int_2000_N_3480477_lin_rmax_400.npz\n",
        "./dat/var_g_0.06_s_9_k_400_win_10000_int_2000_N_3472662_lin_rmax_400.npz\n",
        "./dat/var_g_0.075_s_10_k_400_win_10000_int_2000_N_3472654_lin_rmax_400.npz\n",
        "./dat/var_g_0.075_s_1_k_400_win_10000_int_2000_N_3480480_lin_rmax_400.npz\n",
        "./dat/var_g_0.075_s_2_k_400_win_10000_int_2000_N_3472646_lin_rmax_400.npz\n",
        "./dat/var_g_0.075_s_3_k_400_win_10000_int_2000_N_3480472_lin_rmax_400.npz\n",
        "./dat/var_g_0.075_s_4_k_400_win_10000_int_2000_N_3480510_lin_rmax_400.npz\n",
        "./dat/var_g_0.075_s_5_k_400_win_10000_int_2000_N_3464934_lin_rmax_400.npz\n",
        "./dat/var_g_0.075_s_6_k_400_win_10000_int_2000_N_3472648_lin_rmax_400.npz\n",
        "./dat/var_g_0.075_s_7_k_400_win_10000_int_2000_N_3480494_lin_rmax_400.npz\n",
        "./dat/var_g_0.075_s_8_k_400_win_10000_int_2000_N_3480476_lin_rmax_400.npz\n",
        "./dat/var_g_0.075_s_9_k_400_win_10000_int_2000_N_3472663_lin_rmax_400.npz\n",
        "./dat/var_g_0.07_s_10_k_400_win_10000_int_2000_N_3472664_lin_rmax_400.npz\n",
        "./dat/var_g_0.07_s_1_k_400_win_10000_int_2000_N_3480475_lin_rmax_400.npz\n",
        "./dat/var_g_0.07_s_2_k_400_win_10000_int_2000_N_3472657_lin_rmax_400.npz\n",
        "./dat/var_g_0.07_s_3_k_400_win_10000_int_2000_N_3480470_lin_rmax_400.npz\n",
        "./dat/var_g_0.07_s_4_k_400_win_10000_int_2000_N_3480506_lin_rmax_400.npz\n",
        "./dat/var_g_0.07_s_5_k_400_win_10000_int_2000_N_3464928_lin_rmax_400.npz\n",
        "./dat/var_g_0.07_s_6_k_400_win_10000_int_2000_N_3472638_lin_rmax_400.npz\n",
        "./dat/var_g_0.07_s_7_k_400_win_10000_int_2000_N_3480496_lin_rmax_400.npz"
       ]
      },
      {
       "output_type": "stream",
       "stream": "stdout",
       "text": [
        "\n",
        "./dat/var_g_0.07_s_8_k_400_win_10000_int_2000_N_3480476_lin_rmax_400.npz\n",
        "./dat/var_g_0.07_s_9_k_400_win_10000_int_2000_N_3472664_lin_rmax_400.npz\n",
        "./dat/var_g_0.085_s_10_k_400_win_10000_int_2000_N_3472652_lin_rmax_400.npz\n",
        "./dat/var_g_0.085_s_1_k_400_win_10000_int_2000_N_3480480_lin_rmax_400.npz\n",
        "./dat/var_g_0.085_s_2_k_400_win_10000_int_2000_N_3472648_lin_rmax_400.npz\n",
        "./dat/var_g_0.085_s_3_k_400_win_10000_int_2000_N_3480472_lin_rmax_400.npz\n",
        "./dat/var_g_0.085_s_4_k_400_win_10000_int_2000_N_3480510_lin_rmax_400.npz\n",
        "./dat/var_g_0.085_s_5_k_400_win_10000_int_2000_N_3464931_lin_rmax_400.npz\n",
        "./dat/var_g_0.085_s_6_k_400_win_10000_int_2000_N_3472645_lin_rmax_400.npz\n",
        "./dat/var_g_0.085_s_7_k_400_win_10000_int_2000_N_3480498_lin_rmax_400.npz\n",
        "./dat/var_g_0.085_s_8_k_400_win_10000_int_2000_N_3480477_lin_rmax_400.npz\n",
        "./dat/var_g_0.085_s_9_k_400_win_10000_int_2000_N_3472669_lin_rmax_400.npz\n",
        "./dat/var_g_0.08_s_10_k_400_win_10000_int_2000_N_3472652_lin_rmax_400.npz\n",
        "./dat/var_g_0.08_s_1_k_400_win_10000_int_2000_N_3480480_lin_rmax_400.npz\n",
        "./dat/var_g_0.08_s_2_k_400_win_10000_int_2000_N_3472647_lin_rmax_400.npz\n",
        "./dat/var_g_0.08_s_3_k_400_win_10000_int_2000_N_3480473_lin_rmax_400.npz\n",
        "./dat/var_g_0.08_s_4_k_400_win_10000_int_2000_N_3480509_lin_rmax_400.npz\n",
        "./dat/var_g_0.08_s_5_k_400_win_10000_int_2000_N_3464932_lin_rmax_400.npz\n",
        "./dat/var_g_0.08_s_6_k_400_win_10000_int_2000_N_3472651_lin_rmax_400.npz\n",
        "./dat/var_g_0.08_s_7_k_400_win_10000_int_2000_N_3480493_lin_rmax_400.npz\n",
        "./dat/var_g_0.08_s_8_k_400_win_10000_int_2000_N_3480476_lin_rmax_400.npz"
       ]
      },
      {
       "output_type": "stream",
       "stream": "stdout",
       "text": [
        "\n",
        "./dat/var_g_0.08_s_9_k_400_win_10000_int_2000_N_3472664_lin_rmax_400.npz\n",
        "./dat/var_g_0.0901699437_s_10_k_400_win_10000_int_2000_N_3472648_lin_rmax_400.npz\n",
        "./dat/var_g_0.0901699437_s_1_k_400_win_10000_int_2000_N_3480481_lin_rmax_400.npz\n",
        "./dat/var_g_0.0901699437_s_2_k_400_win_10000_int_2000_N_3472646_lin_rmax_400.npz\n",
        "./dat/var_g_0.0901699437_s_3_k_400_win_10000_int_2000_N_3480476_lin_rmax_400.npz\n",
        "./dat/var_g_0.0901699437_s_4_k_400_win_10000_int_2000_N_3480503_lin_rmax_400.npz\n",
        "./dat/var_g_0.0901699437_s_5_k_400_win_10000_int_2000_N_3464932_lin_rmax_400.npz\n",
        "./dat/var_g_0.0901699437_s_6_k_400_win_10000_int_2000_N_3472646_lin_rmax_400.npz\n",
        "./dat/var_g_0.0901699437_s_7_k_400_win_10000_int_2000_N_3480496_lin_rmax_400.npz\n",
        "./dat/var_g_0.0901699437_s_8_k_400_win_10000_int_2000_N_3480476_lin_rmax_400.npz\n",
        "./dat/var_g_0.0901699437_s_9_k_400_win_10000_int_2000_N_3472673_lin_rmax_400.npz\n",
        "./dat/var_g_0.095_s_10_k_400_win_10000_int_2000_N_3472644_lin_rmax_400.npz\n",
        "./dat/var_g_0.095_s_1_k_400_win_10000_int_2000_N_3480485_lin_rmax_400.npz\n",
        "./dat/var_g_0.095_s_2_k_400_win_10000_int_2000_N_3472648_lin_rmax_400.npz\n",
        "./dat/var_g_0.095_s_3_k_400_win_10000_int_2000_N_3480478_lin_rmax_400.npz\n",
        "./dat/var_g_0.095_s_4_k_400_win_10000_int_2000_N_3480501_lin_rmax_400.npz\n",
        "./dat/var_g_0.095_s_5_k_400_win_10000_int_2000_N_3464931_lin_rmax_400.npz\n",
        "./dat/var_g_0.095_s_6_k_400_win_10000_int_2000_N_3472646_lin_rmax_400.npz\n",
        "./dat/var_g_0.095_s_7_k_400_win_10000_int_2000_N_3480496_lin_rmax_400.npz\n",
        "./dat/var_g_0.095_s_8_k_400_win_10000_int_2000_N_3480475_lin_rmax_400.npz"
       ]
      },
      {
       "output_type": "stream",
       "stream": "stdout",
       "text": [
        "\n",
        "./dat/var_g_0.095_s_9_k_400_win_10000_int_2000_N_3472673_lin_rmax_400.npz\n",
        "./dat/var_g_0.09_s_10_k_400_win_10000_int_2000_N_3472649_lin_rmax_400.npz\n",
        "./dat/var_g_0.09_s_1_k_400_win_10000_int_2000_N_3480481_lin_rmax_400.npz\n",
        "./dat/var_g_0.09_s_2_k_400_win_10000_int_2000_N_3472646_lin_rmax_400.npz\n",
        "./dat/var_g_0.09_s_3_k_400_win_10000_int_2000_N_3480476_lin_rmax_400.npz\n",
        "./dat/var_g_0.09_s_4_k_400_win_10000_int_2000_N_3480503_lin_rmax_400.npz\n",
        "./dat/var_g_0.09_s_5_k_400_win_10000_int_2000_N_3464932_lin_rmax_400.npz\n",
        "./dat/var_g_0.09_s_6_k_400_win_10000_int_2000_N_3472646_lin_rmax_400.npz\n",
        "./dat/var_g_0.09_s_7_k_400_win_10000_int_2000_N_3480496_lin_rmax_400.npz\n",
        "./dat/var_g_0.09_s_8_k_400_win_10000_int_2000_N_3480476_lin_rmax_400.npz\n",
        "./dat/var_g_0.09_s_9_k_400_win_10000_int_2000_N_3472673_lin_rmax_400.npz\n",
        "./dat/var_g_0.1000_s_10_k_400_win_10000_int_2000_N_3472644_lin_rmax_400.npz\n",
        "./dat/var_g_0.1000_s_1_k_400_win_10000_int_2000_N_3480468_lin_rmax_400.npz\n",
        "./dat/var_g_0.1000_s_2_k_400_win_10000_int_2000_N_3472648_lin_rmax_400.npz\n",
        "./dat/var_g_0.1000_s_3_k_400_win_10000_int_2000_N_3480471_lin_rmax_400.npz\n",
        "./dat/var_g_0.1000_s_4_k_400_win_10000_int_2000_N_3480497_lin_rmax_400.npz\n",
        "./dat/var_g_0.1000_s_5_k_400_win_10000_int_2000_N_3464933_lin_rmax_400.npz\n",
        "./dat/var_g_0.1000_s_6_k_400_win_10000_int_2000_N_3472646_lin_rmax_400.npz\n",
        "./dat/var_g_0.1000_s_7_k_400_win_10000_int_2000_N_3480498_lin_rmax_400.npz\n",
        "./dat/var_g_0.1000_s_8_k_400_win_10000_int_2000_N_3480476_lin_rmax_400.npz"
       ]
      },
      {
       "output_type": "stream",
       "stream": "stdout",
       "text": [
        "\n",
        "./dat/var_g_0.1000_s_9_k_400_win_10000_int_2000_N_3472675_lin_rmax_400.npz\n",
        "./dat/var_g_0.1050_s_7_k_400_win_10000_int_2000_N_3480496_lin_rmax_400.npz\n",
        "./dat/var_g_0.105_s_10_k_400_win_10000_int_2000_N_3472647_lin_rmax_400.npz\n",
        "./dat/var_g_0.105_s_1_k_400_win_10000_int_2000_N_3480463_lin_rmax_400.npz\n",
        "./dat/var_g_0.105_s_2_k_400_win_10000_int_2000_N_3472647_lin_rmax_400.npz\n",
        "./dat/var_g_0.105_s_3_k_400_win_10000_int_2000_N_3480468_lin_rmax_400.npz\n",
        "./dat/var_g_0.105_s_4_k_400_win_10000_int_2000_N_3480500_lin_rmax_400.npz\n",
        "./dat/var_g_0.105_s_5_k_400_win_10000_int_2000_N_3464930_lin_rmax_400.npz\n",
        "./dat/var_g_0.105_s_6_k_400_win_10000_int_2000_N_3472641_lin_rmax_400.npz\n",
        "./dat/var_g_0.105_s_8_k_400_win_10000_int_2000_N_3480470_lin_rmax_400.npz\n",
        "./dat/var_g_0.105_s_9_k_400_win_10000_int_2000_N_3472672_lin_rmax_400.npz\n",
        "./dat/var_g_0.1150_s_3_k_400_win_10000_int_2000_N_3480478_lin_rmax_400.npz\n",
        "./dat/var_g_0.1150_s_7_k_400_win_10000_int_2000_N_3480492_lin_rmax_400.npz\n",
        "./dat/var_g_0.115_s_10_k_400_win_10000_int_2000_N_3472653_lin_rmax_400.npz\n",
        "./dat/var_g_0.115_s_1_k_400_win_10000_int_2000_N_3480466_lin_rmax_400.npz\n",
        "./dat/var_g_0.115_s_2_k_400_win_10000_int_2000_N_3472636_lin_rmax_400.npz\n",
        "./dat/var_g_0.115_s_4_k_400_win_10000_int_2000_N_3480505_lin_rmax_400.npz\n",
        "./dat/var_g_0.115_s_5_k_400_win_10000_int_2000_N_3464932_lin_rmax_400.npz\n",
        "./dat/var_g_0.115_s_6_k_400_win_10000_int_2000_N_3472639_lin_rmax_400.npz\n",
        "./dat/var_g_0.115_s_8_k_400_win_10000_int_2000_N_3480474_lin_rmax_400.npz\n",
        "./dat/var_g_0.115_s_9_k_400_win_10000_int_2000_N_3472665_lin_rmax_400.npz\n",
        "./dat/var_g_0.11_s_10_k_400_win_10000_int_2000_N_3472649_lin_rmax_400.npz"
       ]
      },
      {
       "output_type": "stream",
       "stream": "stdout",
       "text": [
        "\n",
        "./dat/var_g_0.11_s_1_k_400_win_10000_int_2000_N_3480465_lin_rmax_400.npz\n",
        "./dat/var_g_0.11_s_2_k_400_win_10000_int_2000_N_3472647_lin_rmax_400.npz\n",
        "./dat/var_g_0.11_s_3_k_400_win_10000_int_2000_N_3480472_lin_rmax_400.npz\n",
        "./dat/var_g_0.11_s_4_k_400_win_10000_int_2000_N_3480500_lin_rmax_400.npz\n",
        "./dat/var_g_0.11_s_5_k_400_win_10000_int_2000_N_3464932_lin_rmax_400.npz\n",
        "./dat/var_g_0.11_s_6_k_400_win_10000_int_2000_N_3472640_lin_rmax_400.npz\n",
        "./dat/var_g_0.11_s_7_k_400_win_10000_int_2000_N_3480493_lin_rmax_400.npz\n",
        "./dat/var_g_0.11_s_8_k_400_win_10000_int_2000_N_3480469_lin_rmax_400.npz\n",
        "./dat/var_g_0.11_s_9_k_400_win_10000_int_2000_N_3472666_lin_rmax_400.npz\n",
        "./dat/var_g_0.125_s_10_k_400_win_10000_int_2000_N_3472651_lin_rmax_400.npz\n",
        "./dat/var_g_0.125_s_1_k_400_win_10000_int_2000_N_3480463_lin_rmax_400.npz\n",
        "./dat/var_g_0.125_s_2_k_400_win_10000_int_2000_N_3472633_lin_rmax_400.npz\n",
        "./dat/var_g_0.125_s_3_k_400_win_10000_int_2000_N_3480478_lin_rmax_400.npz\n",
        "./dat/var_g_0.125_s_4_k_400_win_10000_int_2000_N_3480506_lin_rmax_400.npz\n",
        "./dat/var_g_0.125_s_5_k_400_win_10000_int_2000_N_3464937_lin_rmax_400.npz\n",
        "./dat/var_g_0.125_s_6_k_400_win_10000_int_2000_N_3472641_lin_rmax_400.npz\n",
        "./dat/var_g_0.125_s_7_k_400_win_10000_int_2000_N_3480492_lin_rmax_400.npz\n",
        "./dat/var_g_0.125_s_8_k_400_win_10000_int_2000_N_3480483_lin_rmax_400.npz\n",
        "./dat/var_g_0.125_s_9_k_400_win_10000_int_2000_N_3472663_lin_rmax_400.npz\n",
        "./dat/var_g_0.12_s_10_k_400_win_10000_int_2000_N_3472652_lin_rmax_400.npz\n",
        "./dat/var_g_0.12_s_1_k_400_win_10000_int_2000_N_3480463_lin_rmax_400.npz\n",
        "./dat/var_g_0.12_s_2_k_400_win_10000_int_2000_N_3472636_lin_rmax_400.npz"
       ]
      },
      {
       "output_type": "stream",
       "stream": "stdout",
       "text": [
        "\n",
        "./dat/var_g_0.12_s_3_k_400_win_10000_int_2000_N_3480473_lin_rmax_400.npz\n",
        "./dat/var_g_0.12_s_4_k_400_win_10000_int_2000_N_3480509_lin_rmax_400.npz\n",
        "./dat/var_g_0.12_s_5_k_400_win_10000_int_2000_N_3464939_lin_rmax_400.npz\n",
        "./dat/var_g_0.12_s_6_k_400_win_10000_int_2000_N_3472641_lin_rmax_400.npz\n",
        "./dat/var_g_0.12_s_7_k_400_win_10000_int_2000_N_3480491_lin_rmax_400.npz\n",
        "./dat/var_g_0.12_s_8_k_400_win_10000_int_2000_N_3480477_lin_rmax_400.npz\n",
        "./dat/var_g_0.12_s_9_k_400_win_10000_int_2000_N_3472663_lin_rmax_400.npz\n",
        "./dat/var_g_0.1350_s_10_k_400_win_10000_int_2000_N_3472637_lin_rmax_400.npz\n",
        "./dat/var_g_0.135_s_1_k_400_win_10000_int_2000_N_3480462_lin_rmax_400.npz\n",
        "./dat/var_g_0.135_s_2_k_400_win_10000_int_2000_N_3472637_lin_rmax_400.npz\n",
        "./dat/var_g_0.135_s_3_k_400_win_10000_int_2000_N_3480478_lin_rmax_400.npz\n",
        "./dat/var_g_0.135_s_4_k_400_win_10000_int_2000_N_3480510_lin_rmax_400.npz\n",
        "./dat/var_g_0.135_s_5_k_400_win_10000_int_2000_N_3464936_lin_rmax_400.npz\n",
        "./dat/var_g_0.135_s_6_k_400_win_10000_int_2000_N_3472642_lin_rmax_400.npz\n",
        "./dat/var_g_0.135_s_7_k_400_win_10000_int_2000_N_3480491_lin_rmax_400.npz\n",
        "./dat/var_g_0.135_s_8_k_400_win_10000_int_2000_N_3480491_lin_rmax_400.npz\n",
        "./dat/var_g_0.135_s_9_k_400_win_10000_int_2000_N_3472666_lin_rmax_400.npz\n",
        "./dat/var_g_0.13_s_10_k_400_win_10000_int_2000_N_3472646_lin_rmax_400.npz\n",
        "./dat/var_g_0.13_s_1_k_400_win_10000_int_2000_N_3480464_lin_rmax_400.npz\n",
        "./dat/var_g_0.13_s_2_k_400_win_10000_int_2000_N_3472635_lin_rmax_400.npz\n",
        "./dat/var_g_0.13_s_3_k_400_win_10000_int_2000_N_3480479_lin_rmax_400.npz\n",
        "./dat/var_g_0.13_s_4_k_400_win_10000_int_2000_N_3480510_lin_rmax_400.npz\n",
        "./dat/var_g_0.13_s_5_k_400_win_10000_int_2000_N_3464936_lin_rmax_400.npz"
       ]
      },
      {
       "output_type": "stream",
       "stream": "stdout",
       "text": [
        "\n",
        "./dat/var_g_0.13_s_6_k_400_win_10000_int_2000_N_3472642_lin_rmax_400.npz\n",
        "./dat/var_g_0.13_s_7_k_400_win_10000_int_2000_N_3480495_lin_rmax_400.npz\n",
        "./dat/var_g_0.13_s_8_k_400_win_10000_int_2000_N_3480478_lin_rmax_400.npz\n",
        "./dat/var_g_0.13_s_9_k_400_win_10000_int_2000_N_3472665_lin_rmax_400.npz\n",
        "./dat/var_g_0.1458980338_s_10_k_400_win_10000_int_2000_N_3472637_lin_rmax_400.npz\n",
        "./dat/var_g_0.1458980338_s_1_k_400_win_10000_int_2000_N_3480457_lin_rmax_400.npz\n",
        "./dat/var_g_0.1458980338_s_2_k_400_win_10000_int_2000_N_3472628_lin_rmax_400.npz\n",
        "./dat/var_g_0.1458980338_s_3_k_400_win_10000_int_2000_N_3480480_lin_rmax_400.npz\n",
        "./dat/var_g_0.1458980338_s_4_k_400_win_10000_int_2000_N_3480514_lin_rmax_400.npz\n",
        "./dat/var_g_0.1458980338_s_5_k_400_win_10000_int_2000_N_3464937_lin_rmax_400.npz\n",
        "./dat/var_g_0.1458980338_s_6_k_400_win_10000_int_2000_N_3472643_lin_rmax_400.npz\n",
        "./dat/var_g_0.1458980338_s_7_k_400_win_10000_int_2000_N_3480483_lin_rmax_400.npz\n",
        "./dat/var_g_0.1458980338_s_8_k_400_win_10000_int_2000_N_3480488_lin_rmax_400.npz\n",
        "./dat/var_g_0.1458980338_s_9_k_400_win_10000_int_2000_N_3472664_lin_rmax_400.npz\n",
        "./dat/var_g_0.145_s_10_k_400_win_10000_int_2000_N_3472637_lin_rmax_400.npz\n",
        "./dat/var_g_0.145_s_1_k_400_win_10000_int_2000_N_3480457_lin_rmax_400.npz\n",
        "./dat/var_g_0.145_s_2_k_400_win_10000_int_2000_N_3472627_lin_rmax_400.npz\n",
        "./dat/var_g_0.145_s_3_k_400_win_10000_int_2000_N_3480480_lin_rmax_400.npz\n",
        "./dat/var_g_0.145_s_4_k_400_win_10000_int_2000_N_3480514_lin_rmax_400.npz\n",
        "./dat/var_g_0.145_s_5_k_400_win_10000_int_2000_N_3464938_lin_rmax_400.npz\n",
        "./dat/var_g_0.145_s_6_k_400_win_10000_int_2000_N_3472641_lin_rmax_400.npz\n",
        "./dat/var_g_0.145_s_7_k_400_win_10000_int_2000_N_3480485_lin_rmax_400.npz"
       ]
      },
      {
       "output_type": "stream",
       "stream": "stdout",
       "text": [
        "\n",
        "./dat/var_g_0.145_s_8_k_400_win_10000_int_2000_N_3480489_lin_rmax_400.npz\n",
        "./dat/var_g_0.145_s_9_k_400_win_10000_int_2000_N_3472664_lin_rmax_400.npz\n",
        "./dat/var_g_0.14_s_10_k_400_win_10000_int_2000_N_3472636_lin_rmax_400.npz\n",
        "./dat/var_g_0.14_s_1_k_400_win_10000_int_2000_N_3480461_lin_rmax_400.npz\n",
        "./dat/var_g_0.14_s_2_k_400_win_10000_int_2000_N_3472634_lin_rmax_400.npz\n",
        "./dat/var_g_0.14_s_3_k_400_win_10000_int_2000_N_3480483_lin_rmax_400.npz\n",
        "./dat/var_g_0.14_s_4_k_400_win_10000_int_2000_N_3480506_lin_rmax_400.npz\n",
        "./dat/var_g_0.14_s_5_k_400_win_10000_int_2000_N_3464942_lin_rmax_400.npz\n",
        "./dat/var_g_0.14_s_6_k_400_win_10000_int_2000_N_3472638_lin_rmax_400.npz\n",
        "./dat/var_g_0.14_s_7_k_400_win_10000_int_2000_N_3480488_lin_rmax_400.npz\n",
        "./dat/var_g_0.14_s_8_k_400_win_10000_int_2000_N_3480489_lin_rmax_400.npz\n",
        "./dat/var_g_0.14_s_9_k_400_win_10000_int_2000_N_3472665_lin_rmax_400.npz\n",
        "./dat/var_g_0.155_s_10_k_400_win_10000_int_2000_N_3472634_lin_rmax_400.npz\n",
        "./dat/var_g_0.155_s_1_k_400_win_10000_int_2000_N_3480454_lin_rmax_400.npz\n",
        "./dat/var_g_0.155_s_2_k_400_win_10000_int_2000_N_3472627_lin_rmax_400.npz\n",
        "./dat/var_g_0.155_s_3_k_400_win_10000_int_2000_N_3480479_lin_rmax_400.npz\n",
        "./dat/var_g_0.155_s_4_k_400_win_10000_int_2000_N_3480510_lin_rmax_400.npz\n",
        "./dat/var_g_0.155_s_5_k_400_win_10000_int_2000_N_3464935_lin_rmax_400.npz\n",
        "./dat/var_g_0.155_s_6_k_400_win_10000_int_2000_N_3472641_lin_rmax_400.npz\n",
        "./dat/var_g_0.155_s_7_k_400_win_10000_int_2000_N_3480490_lin_rmax_400.npz\n",
        "./dat/var_g_0.155_s_8_k_400_win_10000_int_2000_N_3480499_lin_rmax_400.npz\n",
        "./dat/var_g_0.155_s_9_k_400_win_10000_int_2000_N_3472663_lin_rmax_400.npz"
       ]
      },
      {
       "output_type": "stream",
       "stream": "stdout",
       "text": [
        "\n",
        "./dat/var_g_0.15_s_10_k_400_win_10000_int_2000_N_3472634_lin_rmax_400.npz\n",
        "./dat/var_g_0.15_s_1_k_400_win_10000_int_2000_N_3480460_lin_rmax_400.npz\n",
        "./dat/var_g_0.15_s_2_k_400_win_10000_int_2000_N_3472630_lin_rmax_400.npz\n",
        "./dat/var_g_0.15_s_3_k_400_win_10000_int_2000_N_3480479_lin_rmax_400.npz\n",
        "./dat/var_g_0.15_s_4_k_400_win_10000_int_2000_N_3480513_lin_rmax_400.npz\n",
        "./dat/var_g_0.15_s_5_k_400_win_10000_int_2000_N_3464934_lin_rmax_400.npz\n",
        "./dat/var_g_0.15_s_6_k_400_win_10000_int_2000_N_3472640_lin_rmax_400.npz\n",
        "./dat/var_g_0.15_s_7_k_400_win_10000_int_2000_N_3480485_lin_rmax_400.npz\n",
        "./dat/var_g_0.15_s_8_k_400_win_10000_int_2000_N_3480486_lin_rmax_400.npz\n",
        "./dat/var_g_0.15_s_9_k_400_win_10000_int_2000_N_3472665_lin_rmax_400.npz\n",
        "./dat/var_g_0.1650_s_10_k_400_win_10000_int_2000_N_3472639_lin_rmax_400.npz\n",
        "./dat/var_g_0.165_s_1_k_400_win_10000_int_2000_N_3480458_lin_rmax_400.npz\n",
        "./dat/var_g_0.165_s_2_k_400_win_10000_int_2000_N_3472624_lin_rmax_400.npz\n",
        "./dat/var_g_0.165_s_3_k_400_win_10000_int_2000_N_3480480_lin_rmax_400.npz\n",
        "./dat/var_g_0.165_s_4_k_400_win_10000_int_2000_N_3480518_lin_rmax_400.npz\n",
        "./dat/var_g_0.165_s_5_k_400_win_10000_int_2000_N_3464937_lin_rmax_400.npz\n",
        "./dat/var_g_0.165_s_6_k_400_win_10000_int_2000_N_3472642_lin_rmax_400.npz\n",
        "./dat/var_g_0.165_s_7_k_400_win_10000_int_2000_N_3480490_lin_rmax_400.npz\n",
        "./dat/var_g_0.165_s_8_k_400_win_10000_int_2000_N_3480495_lin_rmax_400.npz\n",
        "./dat/var_g_0.165_s_9_k_400_win_10000_int_2000_N_3472667_lin_rmax_400.npz\n",
        "./dat/var_g_0.16_s_10_k_400_win_10000_int_2000_N_3472639_lin_rmax_400.npz\n",
        "./dat/var_g_0.16_s_1_k_400_win_10000_int_2000_N_3480455_lin_rmax_400.npz"
       ]
      },
      {
       "output_type": "stream",
       "stream": "stdout",
       "text": [
        "\n",
        "./dat/var_g_0.16_s_2_k_400_win_10000_int_2000_N_3472628_lin_rmax_400.npz\n",
        "./dat/var_g_0.16_s_3_k_400_win_10000_int_2000_N_3480477_lin_rmax_400.npz\n",
        "./dat/var_g_0.16_s_4_k_400_win_10000_int_2000_N_3480515_lin_rmax_400.npz\n",
        "./dat/var_g_0.16_s_5_k_400_win_10000_int_2000_N_3464934_lin_rmax_400.npz\n",
        "./dat/var_g_0.16_s_6_k_400_win_10000_int_2000_N_3472646_lin_rmax_400.npz\n",
        "./dat/var_g_0.16_s_7_k_400_win_10000_int_2000_N_3480490_lin_rmax_400.npz\n",
        "./dat/var_g_0.16_s_8_k_400_win_10000_int_2000_N_3480498_lin_rmax_400.npz\n",
        "./dat/var_g_0.16_s_9_k_400_win_10000_int_2000_N_3472667_lin_rmax_400.npz\n",
        "./dat/var_g_0.175_s_10_k_400_win_10000_int_2000_N_3472639_lin_rmax_400.npz\n",
        "./dat/var_g_0.175_s_1_k_400_win_10000_int_2000_N_3480457_lin_rmax_400.npz\n",
        "./dat/var_g_0.175_s_2_k_400_win_10000_int_2000_N_3472629_lin_rmax_400.npz\n",
        "./dat/var_g_0.175_s_3_k_400_win_10000_int_2000_N_3480477_lin_rmax_400.npz\n",
        "./dat/var_g_0.175_s_4_k_400_win_10000_int_2000_N_3480516_lin_rmax_400.npz\n",
        "./dat/var_g_0.175_s_5_k_400_win_10000_int_2000_N_3464940_lin_rmax_400.npz\n",
        "./dat/var_g_0.175_s_6_k_400_win_10000_int_2000_N_3472644_lin_rmax_400.npz\n",
        "./dat/var_g_0.175_s_7_k_400_win_10000_int_2000_N_3480493_lin_rmax_400.npz\n",
        "./dat/var_g_0.175_s_8_k_400_win_10000_int_2000_N_3480492_lin_rmax_400.npz\n",
        "./dat/var_g_0.175_s_9_k_400_win_10000_int_2000_N_3472664_lin_rmax_400.npz\n",
        "./dat/var_g_0.17_s_10_k_400_win_10000_int_2000_N_3472643_lin_rmax_400.npz\n",
        "./dat/var_g_0.17_s_1_k_400_win_10000_int_2000_N_3480453_lin_rmax_400.npz\n",
        "./dat/var_g_0.17_s_2_k_400_win_10000_int_2000_N_3472627_lin_rmax_400.npz\n",
        "./dat/var_g_0.17_s_3_k_400_win_10000_int_2000_N_3480475_lin_rmax_400.npz\n",
        "./dat/var_g_0.17_s_4_k_400_win_10000_int_2000_N_3480517_lin_rmax_400.npz"
       ]
      },
      {
       "output_type": "stream",
       "stream": "stdout",
       "text": [
        "\n",
        "./dat/var_g_0.17_s_5_k_400_win_10000_int_2000_N_3464939_lin_rmax_400.npz\n",
        "./dat/var_g_0.17_s_6_k_400_win_10000_int_2000_N_3472644_lin_rmax_400.npz\n",
        "./dat/var_g_0.17_s_7_k_400_win_10000_int_2000_N_3480495_lin_rmax_400.npz\n",
        "./dat/var_g_0.17_s_8_k_400_win_10000_int_2000_N_3480494_lin_rmax_400.npz\n",
        "./dat/var_g_0.17_s_9_k_400_win_10000_int_2000_N_3472665_lin_rmax_400.npz\n",
        "./dat/var_g_0.1803398875_s_10_k_400_win_10000_int_2000_N_3472639_lin_rmax_400.npz\n",
        "./dat/var_g_0.1803398875_s_1_k_400_win_10000_int_2000_N_3480454_lin_rmax_400.npz\n",
        "./dat/var_g_0.1803398875_s_2_k_400_win_10000_int_2000_N_3472626_lin_rmax_400.npz\n",
        "./dat/var_g_0.1803398875_s_3_k_400_win_10000_int_2000_N_3480476_lin_rmax_400.npz\n",
        "./dat/var_g_0.1803398875_s_4_k_400_win_10000_int_2000_N_3480513_lin_rmax_400.npz\n",
        "./dat/var_g_0.1803398875_s_5_k_400_win_10000_int_2000_N_3464943_lin_rmax_400.npz\n",
        "./dat/var_g_0.1803398875_s_6_k_400_win_10000_int_2000_N_3472650_lin_rmax_400.npz\n",
        "./dat/var_g_0.1803398875_s_7_k_400_win_10000_int_2000_N_3480491_lin_rmax_400.npz\n",
        "./dat/var_g_0.1803398875_s_8_k_400_win_10000_int_2000_N_3480494_lin_rmax_400.npz\n",
        "./dat/var_g_0.1803398875_s_9_k_400_win_10000_int_2000_N_3472657_lin_rmax_400.npz\n",
        "./dat/var_g_0.185_s_10_k_400_win_10000_int_2000_N_3472639_lin_rmax_400.npz\n",
        "./dat/var_g_0.185_s_1_k_400_win_10000_int_2000_N_3480453_lin_rmax_400.npz\n",
        "./dat/var_g_0.185_s_2_k_400_win_10000_int_2000_N_3472627_lin_rmax_400.npz\n",
        "./dat/var_g_0.185_s_3_k_400_win_10000_int_2000_N_3480479_lin_rmax_400.npz\n",
        "./dat/var_g_0.185_s_4_k_400_win_10000_int_2000_N_3480514_lin_rmax_400.npz\n",
        "./dat/var_g_0.185_s_5_k_400_win_10000_int_2000_N_3464943_lin_rmax_400.npz\n",
        "./dat/var_g_0.185_s_6_k_400_win_10000_int_2000_N_3472651_lin_rmax_400.npz\n",
        "./dat/var_g_0.185_s_7_k_400_win_10000_int_2000_N_3480493_lin_rmax_400.npz"
       ]
      },
      {
       "output_type": "stream",
       "stream": "stdout",
       "text": [
        "\n",
        "./dat/var_g_0.185_s_8_k_400_win_10000_int_2000_N_3480496_lin_rmax_400.npz\n",
        "./dat/var_g_0.185_s_9_k_400_win_10000_int_2000_N_3472656_lin_rmax_400.npz\n",
        "./dat/var_g_0.18_s_10_k_400_win_10000_int_2000_N_3472640_lin_rmax_400.npz\n",
        "./dat/var_g_0.18_s_1_k_400_win_10000_int_2000_N_3480454_lin_rmax_400.npz\n",
        "./dat/var_g_0.18_s_2_k_400_win_10000_int_2000_N_3472628_lin_rmax_400.npz\n",
        "./dat/var_g_0.18_s_3_k_400_win_10000_int_2000_N_3480476_lin_rmax_400.npz\n",
        "./dat/var_g_0.18_s_4_k_400_win_10000_int_2000_N_3480513_lin_rmax_400.npz\n",
        "./dat/var_g_0.18_s_5_k_400_win_10000_int_2000_N_3464943_lin_rmax_400.npz\n",
        "./dat/var_g_0.18_s_6_k_400_win_10000_int_2000_N_3472650_lin_rmax_400.npz\n",
        "./dat/var_g_0.18_s_7_k_400_win_10000_int_2000_N_3480491_lin_rmax_400.npz\n",
        "./dat/var_g_0.18_s_8_k_400_win_10000_int_2000_N_3480494_lin_rmax_400.npz\n",
        "./dat/var_g_0.18_s_9_k_400_win_10000_int_2000_N_3472666_lin_rmax_400.npz\n",
        "./dat/var_g_0.195_s_10_k_400_win_10000_int_2000_N_3472637_lin_rmax_400.npz\n",
        "./dat/var_g_0.195_s_1_k_400_win_10000_int_2000_N_3480465_lin_rmax_400.npz\n",
        "./dat/var_g_0.195_s_2_k_400_win_10000_int_2000_N_3472637_lin_rmax_400.npz\n",
        "./dat/var_g_0.195_s_3_k_400_win_10000_int_2000_N_3480475_lin_rmax_400.npz\n",
        "./dat/var_g_0.195_s_4_k_400_win_10000_int_2000_N_3480517_lin_rmax_400.npz\n",
        "./dat/var_g_0.195_s_5_k_400_win_10000_int_2000_N_3464947_lin_rmax_400.npz\n",
        "./dat/var_g_0.195_s_6_k_400_win_10000_int_2000_N_3472647_lin_rmax_400.npz\n",
        "./dat/var_g_0.195_s_7_k_400_win_10000_int_2000_N_3480494_lin_rmax_400.npz\n",
        "./dat/var_g_0.195_s_8_k_400_win_10000_int_2000_N_3480495_lin_rmax_400.npz\n",
        "./dat/var_g_0.195_s_9_k_400_win_10000_int_2000_N_3472663_lin_rmax_400.npz\n",
        "./dat/var_g_0.19_s_10_k_400_win_10000_int_2000_N_3472641_lin_rmax_400.npz"
       ]
      },
      {
       "output_type": "stream",
       "stream": "stdout",
       "text": [
        "\n",
        "./dat/var_g_0.19_s_1_k_400_win_10000_int_2000_N_3480452_lin_rmax_400.npz\n",
        "./dat/var_g_0.19_s_2_k_400_win_10000_int_2000_N_3472637_lin_rmax_400.npz\n",
        "./dat/var_g_0.19_s_3_k_400_win_10000_int_2000_N_3480473_lin_rmax_400.npz\n",
        "./dat/var_g_0.19_s_4_k_400_win_10000_int_2000_N_3480517_lin_rmax_400.npz\n",
        "./dat/var_g_0.19_s_5_k_400_win_10000_int_2000_N_3464946_lin_rmax_400.npz\n",
        "./dat/var_g_0.19_s_6_k_400_win_10000_int_2000_N_3472651_lin_rmax_400.npz\n",
        "./dat/var_g_0.19_s_7_k_400_win_10000_int_2000_N_3480495_lin_rmax_400.npz\n",
        "./dat/var_g_0.19_s_8_k_400_win_10000_int_2000_N_3480496_lin_rmax_400.npz\n",
        "./dat/var_g_0.19_s_9_k_400_win_10000_int_2000_N_3472653_lin_rmax_400.npz\n",
        "./dat/var_g_0.2000_s_10_k_400_win_10000_int_2000_N_3472641_lin_rmax_400.npz\n",
        "./dat/var_g_0.2000_s_1_k_400_win_10000_int_2000_N_3480465_lin_rmax_400.npz\n",
        "./dat/var_g_0.2000_s_2_k_400_win_10000_int_2000_N_3472632_lin_rmax_400.npz\n",
        "./dat/var_g_0.2000_s_3_k_400_win_10000_int_2000_N_3480477_lin_rmax_400.npz\n",
        "./dat/var_g_0.2000_s_4_k_400_win_10000_int_2000_N_3480525_lin_rmax_400.npz\n",
        "./dat/var_g_0.2000_s_5_k_400_win_10000_int_2000_N_3464949_lin_rmax_400.npz\n",
        "./dat/var_g_0.2000_s_6_k_400_win_10000_int_2000_N_3472648_lin_rmax_400.npz\n",
        "./dat/var_g_0.2000_s_7_k_400_win_10000_int_2000_N_3480495_lin_rmax_400.npz\n",
        "./dat/var_g_0.2000_s_8_k_400_win_10000_int_2000_N_3480496_lin_rmax_400.npz\n",
        "./dat/var_g_0.2000_s_9_k_400_win_10000_int_2000_N_3472660_lin_rmax_400.npz\n",
        "./dat/var_g_0.2016261238_s_10_k_400_win_10000_int_2000_N_3472641_lin_rmax_400.npz\n",
        "./dat/var_g_0.2016261238_s_1_k_400_win_10000_int_2000_N_3480464_lin_rmax_400.npz"
       ]
      },
      {
       "output_type": "stream",
       "stream": "stdout",
       "text": [
        "\n",
        "./dat/var_g_0.2016261238_s_2_k_400_win_10000_int_2000_N_3472634_lin_rmax_400.npz\n",
        "./dat/var_g_0.2016261238_s_3_k_400_win_10000_int_2000_N_3480477_lin_rmax_400.npz\n",
        "./dat/var_g_0.2016261238_s_4_k_400_win_10000_int_2000_N_3480522_lin_rmax_400.npz\n",
        "./dat/var_g_0.2016261238_s_5_k_400_win_10000_int_2000_N_3464946_lin_rmax_400.npz\n",
        "./dat/var_g_0.2016261238_s_6_k_400_win_10000_int_2000_N_3472650_lin_rmax_400.npz\n",
        "./dat/var_g_0.2016261238_s_7_k_400_win_10000_int_2000_N_3480495_lin_rmax_400.npz\n",
        "./dat/var_g_0.2016261238_s_8_k_400_win_10000_int_2000_N_3480498_lin_rmax_400.npz\n",
        "./dat/var_g_0.2016261238_s_9_k_400_win_10000_int_2000_N_3472660_lin_rmax_400.npz\n",
        "./dat/var_g_0.2050_s_5_k_400_win_10000_int_2000_N_3464947_lin_rmax_400.npz\n",
        "./dat/var_g_0.205_s_10_k_400_win_10000_int_2000_N_3472645_lin_rmax_400.npz\n",
        "./dat/var_g_0.205_s_1_k_400_win_10000_int_2000_N_3480461_lin_rmax_400.npz\n",
        "./dat/var_g_0.205_s_2_k_400_win_10000_int_2000_N_3472635_lin_rmax_400.npz\n",
        "./dat/var_g_0.205_s_3_k_400_win_10000_int_2000_N_3480478_lin_rmax_400.npz\n",
        "./dat/var_g_0.205_s_4_k_400_win_10000_int_2000_N_3480521_lin_rmax_400.npz\n",
        "./dat/var_g_0.205_s_6_k_400_win_10000_int_2000_N_3472654_lin_rmax_400.npz\n",
        "./dat/var_g_0.205_s_7_k_400_win_10000_int_2000_N_3480505_lin_rmax_400.npz\n",
        "./dat/var_g_0.205_s_8_k_400_win_10000_int_2000_N_3480494_lin_rmax_400.npz\n",
        "./dat/var_g_0.205_s_9_k_400_win_10000_int_2000_N_3472658_lin_rmax_400.npz\n",
        "./dat/var_g_0.215_s_10_k_400_win_10000_int_2000_N_3472645_lin_rmax_400.npz\n",
        "./dat/var_g_0.215_s_1_k_400_win_10000_int_2000_N_3480460_lin_rmax_400.npz\n",
        "./dat/var_g_0.215_s_2_k_400_win_10000_int_2000_N_3472636_lin_rmax_400.npz"
       ]
      },
      {
       "output_type": "stream",
       "stream": "stdout",
       "text": [
        "\n",
        "./dat/var_g_0.215_s_3_k_400_win_10000_int_2000_N_3480482_lin_rmax_400.npz\n",
        "./dat/var_g_0.215_s_4_k_400_win_10000_int_2000_N_3480521_lin_rmax_400.npz\n",
        "./dat/var_g_0.215_s_5_k_400_win_10000_int_2000_N_3464944_lin_rmax_400.npz\n",
        "./dat/var_g_0.215_s_6_k_400_win_10000_int_2000_N_3472658_lin_rmax_400.npz\n",
        "./dat/var_g_0.215_s_7_k_400_win_10000_int_2000_N_3480514_lin_rmax_400.npz\n",
        "./dat/var_g_0.215_s_8_k_400_win_10000_int_2000_N_3480491_lin_rmax_400.npz\n",
        "./dat/var_g_0.215_s_9_k_400_win_10000_int_2000_N_3472664_lin_rmax_400.npz\n",
        "./dat/var_g_0.21_s_10_k_400_win_10000_int_2000_N_3472643_lin_rmax_400.npz\n",
        "./dat/var_g_0.21_s_1_k_400_win_10000_int_2000_N_3480459_lin_rmax_400.npz\n",
        "./dat/var_g_0.21_s_2_k_400_win_10000_int_2000_N_3472635_lin_rmax_400.npz\n",
        "./dat/var_g_0.21_s_3_k_400_win_10000_int_2000_N_3480479_lin_rmax_400.npz\n",
        "./dat/var_g_0.21_s_4_k_400_win_10000_int_2000_N_3480521_lin_rmax_400.npz\n",
        "./dat/var_g_0.21_s_5_k_400_win_10000_int_2000_N_3464945_lin_rmax_400.npz\n",
        "./dat/var_g_0.21_s_6_k_400_win_10000_int_2000_N_3472656_lin_rmax_400.npz\n",
        "./dat/var_g_0.21_s_7_k_400_win_10000_int_2000_N_3480510_lin_rmax_400.npz\n",
        "./dat/var_g_0.21_s_8_k_400_win_10000_int_2000_N_3480490_lin_rmax_400.npz\n",
        "./dat/var_g_0.21_s_9_k_400_win_10000_int_2000_N_3472659_lin_rmax_400.npz\n",
        "./dat/var_g_0.225_s_10_k_400_win_10000_int_2000_N_3472648_lin_rmax_400.npz\n",
        "./dat/var_g_0.225_s_1_k_400_win_10000_int_2000_N_3480463_lin_rmax_400.npz\n",
        "./dat/var_g_0.225_s_2_k_400_win_10000_int_2000_N_3472634_lin_rmax_400.npz\n",
        "./dat/var_g_0.225_s_3_k_400_win_10000_int_2000_N_3480483_lin_rmax_400.npz"
       ]
      },
      {
       "output_type": "stream",
       "stream": "stdout",
       "text": [
        "\n",
        "./dat/var_g_0.225_s_4_k_400_win_10000_int_2000_N_3480519_lin_rmax_400.npz\n",
        "./dat/var_g_0.225_s_5_k_400_win_10000_int_2000_N_3464955_lin_rmax_400.npz\n",
        "./dat/var_g_0.225_s_6_k_400_win_10000_int_2000_N_3472661_lin_rmax_400.npz\n",
        "./dat/var_g_0.225_s_7_k_400_win_10000_int_2000_N_3480512_lin_rmax_400.npz\n",
        "./dat/var_g_0.225_s_8_k_400_win_10000_int_2000_N_3480490_lin_rmax_400.npz\n",
        "./dat/var_g_0.225_s_9_k_400_win_10000_int_2000_N_3472661_lin_rmax_400.npz\n",
        "./dat/var_g_0.22_s_10_k_400_win_10000_int_2000_N_3472647_lin_rmax_400.npz\n",
        "./dat/var_g_0.22_s_1_k_400_win_10000_int_2000_N_3480465_lin_rmax_400.npz\n",
        "./dat/var_g_0.22_s_2_k_400_win_10000_int_2000_N_3472635_lin_rmax_400.npz\n",
        "./dat/var_g_0.22_s_3_k_400_win_10000_int_2000_N_3480482_lin_rmax_400.npz\n",
        "./dat/var_g_0.22_s_4_k_400_win_10000_int_2000_N_3480520_lin_rmax_400.npz\n",
        "./dat/var_g_0.22_s_5_k_400_win_10000_int_2000_N_3464951_lin_rmax_400.npz\n",
        "./dat/var_g_0.22_s_6_k_400_win_10000_int_2000_N_3472654_lin_rmax_400.npz\n",
        "./dat/var_g_0.22_s_7_k_400_win_10000_int_2000_N_3480513_lin_rmax_400.npz\n",
        "./dat/var_g_0.22_s_8_k_400_win_10000_int_2000_N_3480489_lin_rmax_400.npz\n",
        "./dat/var_g_0.22_s_9_k_400_win_10000_int_2000_N_3472661_lin_rmax_400.npz\n",
        "./dat/var_g_0.235_s_10_k_400_win_10000_int_2000_N_3472650_lin_rmax_400.npz\n",
        "./dat/var_g_0.235_s_1_k_400_win_10000_int_2000_N_3480467_lin_rmax_400.npz\n",
        "./dat/var_g_0.235_s_2_k_400_win_10000_int_2000_N_3472631_lin_rmax_400.npz\n",
        "./dat/var_g_0.235_s_3_k_400_win_10000_int_2000_N_3480482_lin_rmax_400.npz\n",
        "./dat/var_g_0.235_s_4_k_400_win_10000_int_2000_N_3480521_lin_rmax_400.npz"
       ]
      },
      {
       "output_type": "stream",
       "stream": "stdout",
       "text": [
        "\n",
        "./dat/var_g_0.235_s_5_k_400_win_10000_int_2000_N_3464951_lin_rmax_400.npz\n",
        "./dat/var_g_0.235_s_6_k_400_win_10000_int_2000_N_3472663_lin_rmax_400.npz\n",
        "./dat/var_g_0.235_s_7_k_400_win_10000_int_2000_N_3480514_lin_rmax_400.npz\n",
        "./dat/var_g_0.235_s_8_k_400_win_10000_int_2000_N_3480488_lin_rmax_400.npz\n",
        "./dat/var_g_0.235_s_9_k_400_win_10000_int_2000_N_3472655_lin_rmax_400.npz\n",
        "./dat/var_g_0.2360679775_s_10_k_400_win_10000_int_2000_N_3472650_lin_rmax_400.npz\n",
        "./dat/var_g_0.2360679775_s_1_k_400_win_10000_int_2000_N_3480467_lin_rmax_400.npz\n",
        "./dat/var_g_0.2360679775_s_2_k_400_win_10000_int_2000_N_3472633_lin_rmax_400.npz\n",
        "./dat/var_g_0.2360679775_s_3_k_400_win_10000_int_2000_N_3480483_lin_rmax_400.npz\n",
        "./dat/var_g_0.2360679775_s_4_k_400_win_10000_int_2000_N_3480521_lin_rmax_400.npz\n",
        "./dat/var_g_0.2360679775_s_5_k_400_win_10000_int_2000_N_3464951_lin_rmax_400.npz\n",
        "./dat/var_g_0.2360679775_s_6_k_400_win_10000_int_2000_N_3472663_lin_rmax_400.npz\n",
        "./dat/var_g_0.2360679775_s_7_k_400_win_10000_int_2000_N_3480514_lin_rmax_400.npz\n",
        "./dat/var_g_0.2360679775_s_8_k_400_win_10000_int_2000_N_3480489_lin_rmax_400.npz\n",
        "./dat/var_g_0.2360679775_s_9_k_400_win_10000_int_2000_N_3472651_lin_rmax_400.npz\n",
        "./dat/var_g_0.23_s_10_k_400_win_10000_int_2000_N_3472648_lin_rmax_400.npz\n",
        "./dat/var_g_0.23_s_1_k_400_win_10000_int_2000_N_3480463_lin_rmax_400.npz\n",
        "./dat/var_g_0.23_s_2_k_400_win_10000_int_2000_N_3472633_lin_rmax_400.npz\n",
        "./dat/var_g_0.23_s_3_k_400_win_10000_int_2000_N_3480485_lin_rmax_400.npz\n",
        "./dat/var_g_0.23_s_4_k_400_win_10000_int_2000_N_3480519_lin_rmax_400.npz\n",
        "./dat/var_g_0.23_s_5_k_400_win_10000_int_2000_N_3464948_lin_rmax_400.npz"
       ]
      },
      {
       "output_type": "stream",
       "stream": "stdout",
       "text": [
        "\n",
        "./dat/var_g_0.23_s_6_k_400_win_10000_int_2000_N_3472655_lin_rmax_400.npz\n",
        "./dat/var_g_0.23_s_7_k_400_win_10000_int_2000_N_3480513_lin_rmax_400.npz\n",
        "./dat/var_g_0.23_s_8_k_400_win_10000_int_2000_N_3480489_lin_rmax_400.npz\n",
        "./dat/var_g_0.23_s_9_k_400_win_10000_int_2000_N_3472653_lin_rmax_400.npz\n",
        "./dat/var_g_0.2400_s_1_k_400_win_10000_int_2000_N_3480467_lin_rmax_400.npz\n",
        "./dat/var_g_0.2400_s_3_k_400_win_10000_int_2000_N_3480483_lin_rmax_400.npz\n",
        "./dat/var_g_0.2400_s_6_k_400_win_10000_int_2000_N_3472663_lin_rmax_400.npz\n",
        "./dat/var_g_0.245_s_10_k_400_win_10000_int_2000_N_3472651_lin_rmax_400.npz\n",
        "./dat/var_g_0.245_s_1_k_400_win_10000_int_2000_N_3480466_lin_rmax_400.npz\n",
        "./dat/var_g_0.245_s_2_k_400_win_10000_int_2000_N_3472635_lin_rmax_400.npz\n",
        "./dat/var_g_0.245_s_3_k_400_win_10000_int_2000_N_3480481_lin_rmax_400.npz\n",
        "./dat/var_g_0.245_s_4_k_400_win_10000_int_2000_N_3480520_lin_rmax_400.npz\n",
        "./dat/var_g_0.245_s_5_k_400_win_10000_int_2000_N_3464956_lin_rmax_400.npz\n",
        "./dat/var_g_0.245_s_6_k_400_win_10000_int_2000_N_3472659_lin_rmax_400.npz\n",
        "./dat/var_g_0.245_s_7_k_400_win_10000_int_2000_N_3480511_lin_rmax_400.npz\n",
        "./dat/var_g_0.245_s_8_k_400_win_10000_int_2000_N_3480501_lin_rmax_400.npz\n",
        "./dat/var_g_0.245_s_9_k_400_win_10000_int_2000_N_3472651_lin_rmax_400.npz\n",
        "./dat/var_g_0.24_s_10_k_400_win_10000_int_2000_N_3472649_lin_rmax_400.npz\n",
        "./dat/var_g_0.24_s_2_k_400_win_10000_int_2000_N_3472634_lin_rmax_400.npz\n",
        "./dat/var_g_0.24_s_4_k_400_win_10000_int_2000_N_3480519_lin_rmax_400.npz\n",
        "./dat/var_g_0.24_s_5_k_400_win_10000_int_2000_N_3464949_lin_rmax_400.npz"
       ]
      },
      {
       "output_type": "stream",
       "stream": "stdout",
       "text": [
        "\n",
        "./dat/var_g_0.24_s_7_k_400_win_10000_int_2000_N_3480510_lin_rmax_400.npz\n",
        "./dat/var_g_0.24_s_8_k_400_win_10000_int_2000_N_3480494_lin_rmax_400.npz\n",
        "./dat/var_g_0.24_s_9_k_400_win_10000_int_2000_N_3472654_lin_rmax_400.npz\n",
        "./dat/var_g_0.255_s_10_k_400_win_10000_int_2000_N_3472655_lin_rmax_400.npz\n",
        "./dat/var_g_0.255_s_1_k_400_win_10000_int_2000_N_3480473_lin_rmax_400.npz\n",
        "./dat/var_g_0.255_s_2_k_400_win_10000_int_2000_N_3472626_lin_rmax_400.npz\n",
        "./dat/var_g_0.255_s_3_k_400_win_10000_int_2000_N_3480479_lin_rmax_400.npz\n",
        "./dat/var_g_0.255_s_4_k_400_win_10000_int_2000_N_3480521_lin_rmax_400.npz\n",
        "./dat/var_g_0.255_s_5_k_400_win_10000_int_2000_N_3464954_lin_rmax_400.npz\n",
        "./dat/var_g_0.255_s_6_k_400_win_10000_int_2000_N_3472656_lin_rmax_400.npz\n",
        "./dat/var_g_0.255_s_7_k_400_win_10000_int_2000_N_3480511_lin_rmax_400.npz\n",
        "./dat/var_g_0.255_s_8_k_400_win_10000_int_2000_N_3480499_lin_rmax_400.npz\n",
        "./dat/var_g_0.255_s_9_k_400_win_10000_int_2000_N_3472653_lin_rmax_400.npz\n",
        "./dat/var_g_0.25_s_10_k_400_win_10000_int_2000_N_3472652_lin_rmax_400.npz\n",
        "./dat/var_g_0.25_s_1_k_400_win_10000_int_2000_N_3480461_lin_rmax_400.npz\n",
        "./dat/var_g_0.25_s_2_k_400_win_10000_int_2000_N_3472635_lin_rmax_400.npz\n",
        "./dat/var_g_0.25_s_3_k_400_win_10000_int_2000_N_3480481_lin_rmax_400.npz\n",
        "./dat/var_g_0.25_s_4_k_400_win_10000_int_2000_N_3480521_lin_rmax_400.npz\n",
        "./dat/var_g_0.25_s_5_k_400_win_10000_int_2000_N_3464955_lin_rmax_400.npz\n",
        "./dat/var_g_0.25_s_6_k_400_win_10000_int_2000_N_3472654_lin_rmax_400.npz\n",
        "./dat/var_g_0.25_s_7_k_400_win_10000_int_2000_N_3480513_lin_rmax_400.npz\n",
        "./dat/var_g_0.25_s_8_k_400_win_10000_int_2000_N_3480498_lin_rmax_400.npz\n",
        "./dat/var_g_0.25_s_9_k_400_win_10000_int_2000_N_3472652_lin_rmax_400.npz"
       ]
      },
      {
       "output_type": "stream",
       "stream": "stdout",
       "text": [
        "\n",
        "./dat/var_g_0.265_s_10_k_400_win_10000_int_2000_N_3472656_lin_rmax_400.npz\n",
        "./dat/var_g_0.265_s_1_k_400_win_10000_int_2000_N_3480468_lin_rmax_400.npz\n",
        "./dat/var_g_0.265_s_2_k_400_win_10000_int_2000_N_3472639_lin_rmax_400.npz\n",
        "./dat/var_g_0.265_s_3_k_400_win_10000_int_2000_N_3480480_lin_rmax_400.npz\n",
        "./dat/var_g_0.265_s_4_k_400_win_10000_int_2000_N_3480516_lin_rmax_400.npz\n",
        "./dat/var_g_0.265_s_5_k_400_win_10000_int_2000_N_3464959_lin_rmax_400.npz\n",
        "./dat/var_g_0.265_s_6_k_400_win_10000_int_2000_N_3472661_lin_rmax_400.npz\n",
        "./dat/var_g_0.265_s_7_k_400_win_10000_int_2000_N_3480510_lin_rmax_400.npz\n",
        "./dat/var_g_0.265_s_8_k_400_win_10000_int_2000_N_3480497_lin_rmax_400.npz\n",
        "./dat/var_g_0.265_s_9_k_400_win_10000_int_2000_N_3472653_lin_rmax_400.npz\n",
        "./dat/var_g_0.26_s_10_k_400_win_10000_int_2000_N_3472655_lin_rmax_400.npz\n",
        "./dat/var_g_0.26_s_1_k_400_win_10000_int_2000_N_3480472_lin_rmax_400.npz\n",
        "./dat/var_g_0.26_s_2_k_400_win_10000_int_2000_N_3472633_lin_rmax_400.npz\n",
        "./dat/var_g_0.26_s_3_k_400_win_10000_int_2000_N_3480483_lin_rmax_400.npz\n",
        "./dat/var_g_0.26_s_4_k_400_win_10000_int_2000_N_3480520_lin_rmax_400.npz\n",
        "./dat/var_g_0.26_s_5_k_400_win_10000_int_2000_N_3464955_lin_rmax_400.npz\n",
        "./dat/var_g_0.26_s_6_k_400_win_10000_int_2000_N_3472657_lin_rmax_400.npz\n",
        "./dat/var_g_0.26_s_7_k_400_win_10000_int_2000_N_3480510_lin_rmax_400.npz\n",
        "./dat/var_g_0.26_s_8_k_400_win_10000_int_2000_N_3480497_lin_rmax_400.npz\n",
        "./dat/var_g_0.26_s_9_k_400_win_10000_int_2000_N_3472653_lin_rmax_400.npz\n",
        "./dat/var_g_0.2705098312_s_10_k_400_win_10000_int_2000_N_3472658_lin_rmax_400.npz\n",
        "./dat/var_g_0.2705098312_s_1_k_400_win_10000_int_2000_N_3480465_lin_rmax_400.npz\n",
        "./dat/var_g_0.2705098312_s_2_k_400_win_10000_int_2000_N_3472643_lin_rmax_400.npz"
       ]
      },
      {
       "output_type": "stream",
       "stream": "stdout",
       "text": [
        "\n",
        "./dat/var_g_0.2705098312_s_3_k_400_win_10000_int_2000_N_3480479_lin_rmax_400.npz\n",
        "./dat/var_g_0.2705098312_s_4_k_400_win_10000_int_2000_N_3480517_lin_rmax_400.npz\n",
        "./dat/var_g_0.2705098312_s_5_k_400_win_10000_int_2000_N_3464959_lin_rmax_400.npz\n",
        "./dat/var_g_0.2705098312_s_6_k_400_win_10000_int_2000_N_3472663_lin_rmax_400.npz\n",
        "./dat/var_g_0.2705098312_s_7_k_400_win_10000_int_2000_N_3480514_lin_rmax_400.npz\n",
        "./dat/var_g_0.2705098312_s_8_k_400_win_10000_int_2000_N_3480497_lin_rmax_400.npz\n",
        "./dat/var_g_0.2705098312_s_9_k_400_win_10000_int_2000_N_3472653_lin_rmax_400.npz\n",
        "./dat/var_g_0.2750_s_7_k_400_win_10000_int_2000_N_3480516_lin_rmax_400.npz\n",
        "./dat/var_g_0.275_s_10_k_400_win_10000_int_2000_N_3472658_lin_rmax_400.npz\n",
        "./dat/var_g_0.275_s_1_k_400_win_10000_int_2000_N_3480469_lin_rmax_400.npz\n",
        "./dat/var_g_0.275_s_2_k_400_win_10000_int_2000_N_3472641_lin_rmax_400.npz\n",
        "./dat/var_g_0.275_s_3_k_400_win_10000_int_2000_N_3480478_lin_rmax_400.npz\n",
        "./dat/var_g_0.275_s_4_k_400_win_10000_int_2000_N_3480518_lin_rmax_400.npz\n",
        "./dat/var_g_0.275_s_5_k_400_win_10000_int_2000_N_3464960_lin_rmax_400.npz\n",
        "./dat/var_g_0.275_s_6_k_400_win_10000_int_2000_N_3472661_lin_rmax_400.npz\n",
        "./dat/var_g_0.275_s_8_k_400_win_10000_int_2000_N_3480497_lin_rmax_400.npz\n",
        "./dat/var_g_0.275_s_9_k_400_win_10000_int_2000_N_3472656_lin_rmax_400.npz\n",
        "./dat/var_g_0.27_s_10_k_400_win_10000_int_2000_N_3472658_lin_rmax_400.npz\n",
        "./dat/var_g_0.27_s_1_k_400_win_10000_int_2000_N_3480465_lin_rmax_400.npz\n",
        "./dat/var_g_0.27_s_2_k_400_win_10000_int_2000_N_3472643_lin_rmax_400.npz\n",
        "./dat/var_g_0.27_s_3_k_400_win_10000_int_2000_N_3480479_lin_rmax_400.npz\n",
        "./dat/var_g_0.27_s_4_k_400_win_10000_int_2000_N_3480517_lin_rmax_400.npz\n",
        "./dat/var_g_0.27_s_5_k_400_win_10000_int_2000_N_3464959_lin_rmax_400.npz"
       ]
      },
      {
       "output_type": "stream",
       "stream": "stdout",
       "text": [
        "\n",
        "./dat/var_g_0.27_s_6_k_400_win_10000_int_2000_N_3472663_lin_rmax_400.npz\n",
        "./dat/var_g_0.27_s_7_k_400_win_10000_int_2000_N_3480514_lin_rmax_400.npz\n",
        "./dat/var_g_0.27_s_8_k_400_win_10000_int_2000_N_3480497_lin_rmax_400.npz\n",
        "./dat/var_g_0.27_s_9_k_400_win_10000_int_2000_N_3472653_lin_rmax_400.npz\n",
        "./dat/var_g_0.285_s_10_k_400_win_10000_int_2000_N_3472652_lin_rmax_400.npz\n",
        "./dat/var_g_0.285_s_1_k_400_win_10000_int_2000_N_3480466_lin_rmax_400.npz\n",
        "./dat/var_g_0.285_s_2_k_400_win_10000_int_2000_N_3474802_lin_rmax_400.npz\n",
        "./dat/var_g_0.285_s_3_k_400_win_10000_int_2000_N_3480470_lin_rmax_400.npz\n",
        "./dat/var_g_0.285_s_4_k_400_win_10000_int_2000_N_3480516_lin_rmax_400.npz\n",
        "./dat/var_g_0.285_s_5_k_400_win_10000_int_2000_N_3464969_lin_rmax_400.npz\n",
        "./dat/var_g_0.285_s_6_k_400_win_10000_int_2000_N_3472668_lin_rmax_400.npz\n",
        "./dat/var_g_0.285_s_7_k_400_win_10000_int_2000_N_3480516_lin_rmax_400.npz\n",
        "./dat/var_g_0.285_s_8_k_400_win_10000_int_2000_N_3480499_lin_rmax_400.npz\n",
        "./dat/var_g_0.285_s_9_k_400_win_10000_int_2000_N_3472648_lin_rmax_400.npz\n",
        "./dat/var_g_0.28_s_10_k_400_win_10000_int_2000_N_3472657_lin_rmax_400.npz\n",
        "./dat/var_g_0.28_s_1_k_400_win_10000_int_2000_N_3480466_lin_rmax_400.npz\n",
        "./dat/var_g_0.28_s_2_k_400_win_10000_int_2000_N_3472643_lin_rmax_400.npz\n",
        "./dat/var_g_0.28_s_3_k_400_win_10000_int_2000_N_3480481_lin_rmax_400.npz\n",
        "./dat/var_g_0.28_s_4_k_400_win_10000_int_2000_N_3480515_lin_rmax_400.npz\n",
        "./dat/var_g_0.28_s_5_k_400_win_10000_int_2000_N_3464969_lin_rmax_400.npz\n",
        "./dat/var_g_0.28_s_6_k_400_win_10000_int_2000_N_3472667_lin_rmax_400.npz"
       ]
      },
      {
       "output_type": "stream",
       "stream": "stdout",
       "text": [
        "\n",
        "./dat/var_g_0.28_s_7_k_400_win_10000_int_2000_N_3480519_lin_rmax_400.npz\n",
        "./dat/var_g_0.28_s_8_k_400_win_10000_int_2000_N_3480500_lin_rmax_400.npz\n",
        "./dat/var_g_0.28_s_9_k_400_win_10000_int_2000_N_3472648_lin_rmax_400.npz\n",
        "./dat/var_g_0.2917960675_s_10_k_400_win_10000_int_2000_N_3472659_lin_rmax_400.npz\n",
        "./dat/var_g_0.2917960675_s_1_k_400_win_10000_int_2000_N_3480468_lin_rmax_400.npz\n",
        "./dat/var_g_0.2917960675_s_2_k_400_win_10000_int_2000_N_3474800_lin_rmax_400.npz\n",
        "./dat/var_g_0.2917960675_s_3_k_400_win_10000_int_2000_N_3480464_lin_rmax_400.npz\n",
        "./dat/var_g_0.2917960675_s_4_k_400_win_10000_int_2000_N_3480524_lin_rmax_400.npz\n",
        "./dat/var_g_0.2917960675_s_5_k_400_win_10000_int_2000_N_3464971_lin_rmax_400.npz\n",
        "./dat/var_g_0.2917960675_s_6_k_400_win_10000_int_2000_N_3472676_lin_rmax_400.npz\n",
        "./dat/var_g_0.2917960675_s_7_k_400_win_10000_int_2000_N_3480519_lin_rmax_400.npz\n",
        "./dat/var_g_0.2917960675_s_8_k_400_win_10000_int_2000_N_3480501_lin_rmax_400.npz\n",
        "./dat/var_g_0.2917960675_s_9_k_400_win_10000_int_2000_N_3472654_lin_rmax_400.npz\n",
        "./dat/var_g_0.295_s_10_k_400_win_10000_int_2000_N_3472659_lin_rmax_400.npz\n",
        "./dat/var_g_0.295_s_1_k_400_win_10000_int_2000_N_3480470_lin_rmax_400.npz\n",
        "./dat/var_g_0.295_s_2_k_400_win_10000_int_2000_N_3474800_lin_rmax_400.npz\n",
        "./dat/var_g_0.295_s_3_k_400_win_10000_int_2000_N_3480464_lin_rmax_400.npz\n",
        "./dat/var_g_0.295_s_4_k_400_win_10000_int_2000_N_3480524_lin_rmax_400.npz\n",
        "./dat/var_g_0.295_s_5_k_400_win_10000_int_2000_N_3464972_lin_rmax_400.npz\n",
        "./dat/var_g_0.295_s_6_k_400_win_10000_int_2000_N_3472674_lin_rmax_400.npz\n",
        "./dat/var_g_0.295_s_7_k_400_win_10000_int_2000_N_3480520_lin_rmax_400.npz\n",
        "./dat/var_g_0.295_s_8_k_400_win_10000_int_2000_N_3480502_lin_rmax_400.npz"
       ]
      },
      {
       "output_type": "stream",
       "stream": "stdout",
       "text": [
        "\n",
        "./dat/var_g_0.295_s_9_k_400_win_10000_int_2000_N_3472654_lin_rmax_400.npz\n",
        "./dat/var_g_0.29_s_10_k_400_win_10000_int_2000_N_3472658_lin_rmax_400.npz\n",
        "./dat/var_g_0.29_s_1_k_400_win_10000_int_2000_N_3480469_lin_rmax_400.npz\n",
        "./dat/var_g_0.29_s_2_k_400_win_10000_int_2000_N_3474800_lin_rmax_400.npz\n",
        "./dat/var_g_0.29_s_3_k_400_win_10000_int_2000_N_3480465_lin_rmax_400.npz\n",
        "./dat/var_g_0.29_s_4_k_400_win_10000_int_2000_N_3480523_lin_rmax_400.npz\n",
        "./dat/var_g_0.29_s_5_k_400_win_10000_int_2000_N_3464972_lin_rmax_400.npz\n",
        "./dat/var_g_0.29_s_6_k_400_win_10000_int_2000_N_3472674_lin_rmax_400.npz\n",
        "./dat/var_g_0.29_s_7_k_400_win_10000_int_2000_N_3480516_lin_rmax_400.npz\n",
        "./dat/var_g_0.29_s_8_k_400_win_10000_int_2000_N_3480502_lin_rmax_400.npz\n",
        "./dat/var_g_0.29_s_9_k_400_win_10000_int_2000_N_3472654_lin_rmax_400.npz\n",
        "./dat/var_g_0.3000_s_10_k_400_win_10000_int_2000_N_3472659_lin_rmax_400.npz\n",
        "./dat/var_g_0.3000_s_1_k_400_win_10000_int_2000_N_3480468_lin_rmax_400.npz\n",
        "./dat/var_g_0.3000_s_2_k_400_win_10000_int_2000_N_3474801_lin_rmax_400.npz\n",
        "./dat/var_g_0.3000_s_3_k_400_win_10000_int_2000_N_3480461_lin_rmax_400.npz\n",
        "./dat/var_g_0.3000_s_4_k_400_win_10000_int_2000_N_3480522_lin_rmax_400.npz\n",
        "./dat/var_g_0.3000_s_5_k_400_win_10000_int_2000_N_3464964_lin_rmax_400.npz\n",
        "./dat/var_g_0.3000_s_6_k_400_win_10000_int_2000_N_3472676_lin_rmax_400.npz\n",
        "./dat/var_g_0.3000_s_7_k_400_win_10000_int_2000_N_3480524_lin_rmax_400.npz\n",
        "./dat/var_g_0.3000_s_8_k_400_win_10000_int_2000_N_3480497_lin_rmax_400.npz\n",
        "./dat/var_g_0.3000_s_9_k_400_win_10000_int_2000_N_3472650_lin_rmax_400.npz\n",
        "./dat/var_g_0.305_s_10_k_400_win_10000_int_2000_N_3474805_lin_rmax_400.npz"
       ]
      },
      {
       "output_type": "stream",
       "stream": "stdout",
       "text": [
        "\n",
        "./dat/var_g_0.305_s_1_k_400_win_10000_int_2000_N_3480469_lin_rmax_400.npz\n",
        "./dat/var_g_0.305_s_2_k_400_win_10000_int_2000_N_3474799_lin_rmax_400.npz\n",
        "./dat/var_g_0.305_s_3_k_400_win_10000_int_2000_N_3480460_lin_rmax_400.npz\n",
        "./dat/var_g_0.305_s_4_k_400_win_10000_int_2000_N_3480525_lin_rmax_400.npz\n",
        "./dat/var_g_0.305_s_5_k_400_win_10000_int_2000_N_3464959_lin_rmax_400.npz\n",
        "./dat/var_g_0.305_s_6_k_400_win_10000_int_2000_N_3472674_lin_rmax_400.npz\n",
        "./dat/var_g_0.305_s_7_k_400_win_10000_int_2000_N_3480522_lin_rmax_400.npz\n",
        "./dat/var_g_0.305_s_8_k_400_win_10000_int_2000_N_3480501_lin_rmax_400.npz\n",
        "./dat/var_g_0.305_s_9_k_400_win_10000_int_2000_N_3472654_lin_rmax_400.npz\n",
        "./dat/var_g_0.315_s_10_k_400_win_10000_int_2000_N_3474800_lin_rmax_400.npz\n",
        "./dat/var_g_0.315_s_1_k_400_win_10000_int_2000_N_3480470_lin_rmax_400.npz\n",
        "./dat/var_g_0.315_s_2_k_400_win_10000_int_2000_N_3474803_lin_rmax_400.npz\n",
        "./dat/var_g_0.315_s_3_k_400_win_10000_int_2000_N_3480464_lin_rmax_400.npz\n",
        "./dat/var_g_0.315_s_4_k_400_win_10000_int_2000_N_3480525_lin_rmax_400.npz\n",
        "./dat/var_g_0.315_s_5_k_400_win_10000_int_2000_N_3464964_lin_rmax_400.npz\n",
        "./dat/var_g_0.315_s_6_k_400_win_10000_int_2000_N_3472688_lin_rmax_400.npz\n",
        "./dat/var_g_0.315_s_7_k_400_win_10000_int_2000_N_3480520_lin_rmax_400.npz\n",
        "./dat/var_g_0.315_s_8_k_400_win_10000_int_2000_N_3480504_lin_rmax_400.npz\n",
        "./dat/var_g_0.315_s_9_k_400_win_10000_int_2000_N_3472658_lin_rmax_400.npz\n",
        "./dat/var_g_0.31_s_10_k_400_win_10000_int_2000_N_3474802_lin_rmax_400.npz\n",
        "./dat/var_g_0.31_s_1_k_400_win_10000_int_2000_N_3480471_lin_rmax_400.npz\n",
        "./dat/var_g_0.31_s_2_k_400_win_10000_int_2000_N_3474800_lin_rmax_400.npz"
       ]
      },
      {
       "output_type": "stream",
       "stream": "stdout",
       "text": [
        "\n",
        "./dat/var_g_0.31_s_3_k_400_win_10000_int_2000_N_3480461_lin_rmax_400.npz\n",
        "./dat/var_g_0.31_s_4_k_400_win_10000_int_2000_N_3480525_lin_rmax_400.npz\n",
        "./dat/var_g_0.31_s_5_k_400_win_10000_int_2000_N_3464962_lin_rmax_400.npz\n",
        "./dat/var_g_0.31_s_6_k_400_win_10000_int_2000_N_3472674_lin_rmax_400.npz\n",
        "./dat/var_g_0.31_s_7_k_400_win_10000_int_2000_N_3480523_lin_rmax_400.npz\n",
        "./dat/var_g_0.31_s_8_k_400_win_10000_int_2000_N_3480502_lin_rmax_400.npz\n",
        "./dat/var_g_0.31_s_9_k_400_win_10000_int_2000_N_3472659_lin_rmax_400.npz\n",
        "./dat/var_g_0.3250_s_1_k_400_win_10000_int_2000_N_3480477_lin_rmax_400.npz\n",
        "./dat/var_g_0.3250_s_2_k_400_win_10000_int_2000_N_3474800_lin_rmax_400.npz\n",
        "./dat/var_g_0.3250_s_3_k_400_win_10000_int_2000_N_3480466_lin_rmax_400.npz\n",
        "./dat/var_g_0.3250_s_6_k_400_win_10000_int_2000_N_3472692_lin_rmax_400.npz\n",
        "./dat/var_g_0.325_s_10_k_400_win_10000_int_2000_N_3474803_lin_rmax_400.npz\n",
        "./dat/var_g_0.325_s_4_k_400_win_10000_int_2000_N_3480525_lin_rmax_400.npz\n",
        "./dat/var_g_0.325_s_5_k_400_win_10000_int_2000_N_3464967_lin_rmax_400.npz\n",
        "./dat/var_g_0.325_s_7_k_400_win_10000_int_2000_N_3480522_lin_rmax_400.npz\n",
        "./dat/var_g_0.325_s_8_k_400_win_10000_int_2000_N_3480508_lin_rmax_400.npz\n",
        "./dat/var_g_0.325_s_9_k_400_win_10000_int_2000_N_3472656_lin_rmax_400.npz\n",
        "./dat/var_g_0.3262379212_s_10_k_400_win_10000_int_2000_N_3474804_lin_rmax_400.npz\n",
        "./dat/var_g_0.3262379212_s_1_k_400_win_10000_int_2000_N_3480477_lin_rmax_400.npz\n",
        "./dat/var_g_0.3262379212_s_2_k_400_win_10000_int_2000_N_3474800_lin_rmax_400.npz\n",
        "./dat/var_g_0.3262379212_s_3_k_400_win_10000_int_2000_N_3480466_lin_rmax_400.npz\n",
        "./dat/var_g_0.3262379212_s_4_k_400_win_10000_int_2000_N_3480526_lin_rmax_400.npz\n",
        "./dat/var_g_0.3262379212_s_5_k_400_win_10000_int_2000_N_3464968_lin_rmax_400.npz"
       ]
      },
      {
       "output_type": "stream",
       "stream": "stdout",
       "text": [
        "\n",
        "./dat/var_g_0.3262379212_s_6_k_400_win_10000_int_2000_N_3472692_lin_rmax_400.npz\n",
        "./dat/var_g_0.3262379212_s_7_k_400_win_10000_int_2000_N_3480521_lin_rmax_400.npz\n",
        "./dat/var_g_0.3262379212_s_8_k_400_win_10000_int_2000_N_3480509_lin_rmax_400.npz\n",
        "./dat/var_g_0.3262379212_s_9_k_400_win_10000_int_2000_N_3472654_lin_rmax_400.npz\n",
        "./dat/var_g_0.32_s_10_k_400_win_10000_int_2000_N_3474803_lin_rmax_400.npz\n",
        "./dat/var_g_0.32_s_1_k_400_win_10000_int_2000_N_3480474_lin_rmax_400.npz\n",
        "./dat/var_g_0.32_s_2_k_400_win_10000_int_2000_N_3474801_lin_rmax_400.npz\n",
        "./dat/var_g_0.32_s_3_k_400_win_10000_int_2000_N_3480471_lin_rmax_400.npz\n",
        "./dat/var_g_0.32_s_4_k_400_win_10000_int_2000_N_3480524_lin_rmax_400.npz\n",
        "./dat/var_g_0.32_s_5_k_400_win_10000_int_2000_N_3464966_lin_rmax_400.npz\n",
        "./dat/var_g_0.32_s_6_k_400_win_10000_int_2000_N_3472692_lin_rmax_400.npz\n",
        "./dat/var_g_0.32_s_7_k_400_win_10000_int_2000_N_3480524_lin_rmax_400.npz\n",
        "./dat/var_g_0.32_s_8_k_400_win_10000_int_2000_N_3480508_lin_rmax_400.npz\n",
        "./dat/var_g_0.32_s_9_k_400_win_10000_int_2000_N_3472653_lin_rmax_400.npz\n",
        "./dat/var_g_0.335_s_10_k_400_win_10000_int_2000_N_3474804_lin_rmax_400.npz\n",
        "./dat/var_g_0.335_s_1_k_400_win_10000_int_2000_N_3480476_lin_rmax_400.npz\n",
        "./dat/var_g_0.335_s_2_k_400_win_10000_int_2000_N_3474806_lin_rmax_400.npz\n",
        "./dat/var_g_0.335_s_3_k_400_win_10000_int_2000_N_3480460_lin_rmax_400.npz\n",
        "./dat/var_g_0.335_s_4_k_400_win_10000_int_2000_N_3480522_lin_rmax_400.npz\n",
        "./dat/var_g_0.335_s_5_k_400_win_10000_int_2000_N_3464976_lin_rmax_400.npz\n",
        "./dat/var_g_0.335_s_6_k_400_win_10000_int_2000_N_3472700_lin_rmax_400.npz\n",
        "./dat/var_g_0.335_s_7_k_400_win_10000_int_2000_N_3480520_lin_rmax_400.npz\n",
        "./dat/var_g_0.335_s_8_k_400_win_10000_int_2000_N_3480508_lin_rmax_400.npz\n",
        "./dat/var_g_0.335_s_9_k_400_win_10000_int_2000_N_3472657_lin_rmax_400.npz"
       ]
      },
      {
       "output_type": "stream",
       "stream": "stdout",
       "text": [
        "\n",
        "./dat/var_g_0.33_s_10_k_400_win_10000_int_2000_N_3474802_lin_rmax_400.npz\n",
        "./dat/var_g_0.33_s_1_k_400_win_10000_int_2000_N_3480476_lin_rmax_400.npz\n",
        "./dat/var_g_0.33_s_2_k_400_win_10000_int_2000_N_3474804_lin_rmax_400.npz\n",
        "./dat/var_g_0.33_s_3_k_400_win_10000_int_2000_N_3480462_lin_rmax_400.npz\n",
        "./dat/var_g_0.33_s_4_k_400_win_10000_int_2000_N_3480524_lin_rmax_400.npz\n",
        "./dat/var_g_0.33_s_5_k_400_win_10000_int_2000_N_3464968_lin_rmax_400.npz\n",
        "./dat/var_g_0.33_s_6_k_400_win_10000_int_2000_N_3472698_lin_rmax_400.npz\n",
        "./dat/var_g_0.33_s_7_k_400_win_10000_int_2000_N_3480521_lin_rmax_400.npz\n",
        "./dat/var_g_0.33_s_8_k_400_win_10000_int_2000_N_3480507_lin_rmax_400.npz\n",
        "./dat/var_g_0.33_s_9_k_400_win_10000_int_2000_N_3472660_lin_rmax_400.npz\n",
        "./dat/var_g_0.345_s_10_k_400_win_10000_int_2000_N_3474807_lin_rmax_400.npz\n",
        "./dat/var_g_0.345_s_1_k_400_win_10000_int_2000_N_3480470_lin_rmax_400.npz\n",
        "./dat/var_g_0.345_s_2_k_400_win_10000_int_2000_N_3474800_lin_rmax_400.npz\n",
        "./dat/var_g_0.345_s_3_k_400_win_10000_int_2000_N_3480463_lin_rmax_400.npz\n",
        "./dat/var_g_0.345_s_4_k_400_win_10000_int_2000_N_3480531_lin_rmax_400.npz\n",
        "./dat/var_g_0.345_s_5_k_400_win_10000_int_2000_N_3467042_lin_rmax_400.npz\n",
        "./dat/var_g_0.345_s_6_k_400_win_10000_int_2000_N_3472703_lin_rmax_400.npz\n",
        "./dat/var_g_0.345_s_7_k_400_win_10000_int_2000_N_3480521_lin_rmax_400.npz\n",
        "./dat/var_g_0.345_s_8_k_400_win_10000_int_2000_N_3480510_lin_rmax_400.npz\n",
        "./dat/var_g_0.345_s_9_k_400_win_10000_int_2000_N_3472658_lin_rmax_400.npz\n",
        "./dat/var_g_0.3475241575_s_10_k_400_win_10000_int_2000_N_3474806_lin_rmax_400.npz\n",
        "./dat/var_g_0.3475241575_s_1_k_400_win_10000_int_2000_N_3480472_lin_rmax_400.npz"
       ]
      },
      {
       "output_type": "stream",
       "stream": "stdout",
       "text": [
        "\n",
        "./dat/var_g_0.3475241575_s_2_k_400_win_10000_int_2000_N_3474798_lin_rmax_400.npz\n",
        "./dat/var_g_0.3475241575_s_3_k_400_win_10000_int_2000_N_3480451_lin_rmax_400.npz\n",
        "./dat/var_g_0.3475241575_s_4_k_400_win_10000_int_2000_N_3480529_lin_rmax_400.npz\n",
        "./dat/var_g_0.3475241575_s_5_k_400_win_10000_int_2000_N_3467045_lin_rmax_400.npz\n",
        "./dat/var_g_0.3475241575_s_6_k_400_win_10000_int_2000_N_3472703_lin_rmax_400.npz\n",
        "./dat/var_g_0.3475241575_s_7_k_400_win_10000_int_2000_N_3480520_lin_rmax_400.npz\n",
        "./dat/var_g_0.3475241575_s_8_k_400_win_10000_int_2000_N_3480512_lin_rmax_400.npz\n",
        "./dat/var_g_0.3475241575_s_9_k_400_win_10000_int_2000_N_3472658_lin_rmax_400.npz\n",
        "./dat/var_g_0.34_s_10_k_400_win_10000_int_2000_N_3474807_lin_rmax_400.npz\n",
        "./dat/var_g_0.34_s_1_k_400_win_10000_int_2000_N_3480470_lin_rmax_400.npz\n",
        "./dat/var_g_0.34_s_2_k_400_win_10000_int_2000_N_3474800_lin_rmax_400.npz\n",
        "./dat/var_g_0.34_s_3_k_400_win_10000_int_2000_N_3480464_lin_rmax_400.npz\n",
        "./dat/var_g_0.34_s_4_k_400_win_10000_int_2000_N_3480521_lin_rmax_400.npz\n",
        "./dat/var_g_0.34_s_5_k_400_win_10000_int_2000_N_3464976_lin_rmax_400.npz\n",
        "./dat/var_g_0.34_s_6_k_400_win_10000_int_2000_N_3472708_lin_rmax_400.npz\n",
        "./dat/var_g_0.34_s_7_k_400_win_10000_int_2000_N_3480522_lin_rmax_400.npz\n",
        "./dat/var_g_0.34_s_8_k_400_win_10000_int_2000_N_3480509_lin_rmax_400.npz\n",
        "./dat/var_g_0.34_s_9_k_400_win_10000_int_2000_N_3472659_lin_rmax_400.npz\n",
        "./dat/var_g_0.355_s_10_k_400_win_10000_int_2000_N_3474806_lin_rmax_400.npz\n",
        "./dat/var_g_0.355_s_1_k_400_win_10000_int_2000_N_3480481_lin_rmax_400.npz\n",
        "./dat/var_g_0.355_s_2_k_400_win_10000_int_2000_N_3474804_lin_rmax_400.npz\n",
        "./dat/var_g_0.355_s_3_k_400_win_10000_int_2000_N_3480449_lin_rmax_400.npz\n",
        "./dat/var_g_0.355_s_4_k_400_win_10000_int_2000_N_3480527_lin_rmax_400.npz\n",
        "./dat/var_g_0.355_s_5_k_400_win_10000_int_2000_N_3467040_lin_rmax_400.npz"
       ]
      },
      {
       "output_type": "stream",
       "stream": "stdout",
       "text": [
        "\n",
        "./dat/var_g_0.355_s_6_k_400_win_10000_int_2000_N_3472701_lin_rmax_400.npz\n",
        "./dat/var_g_0.355_s_7_k_400_win_10000_int_2000_N_3480522_lin_rmax_400.npz\n",
        "./dat/var_g_0.355_s_8_k_400_win_10000_int_2000_N_3480515_lin_rmax_400.npz\n",
        "./dat/var_g_0.355_s_9_k_400_win_10000_int_2000_N_3474814_lin_rmax_400.npz\n",
        "./dat/var_g_0.35_s_10_k_400_win_10000_int_2000_N_3474809_lin_rmax_400.npz\n",
        "./dat/var_g_0.35_s_1_k_400_win_10000_int_2000_N_3480473_lin_rmax_400.npz\n",
        "./dat/var_g_0.35_s_2_k_400_win_10000_int_2000_N_3474798_lin_rmax_400.npz\n",
        "./dat/var_g_0.35_s_3_k_400_win_10000_int_2000_N_3480452_lin_rmax_400.npz\n",
        "./dat/var_g_0.35_s_4_k_400_win_10000_int_2000_N_3480529_lin_rmax_400.npz\n",
        "./dat/var_g_0.35_s_5_k_400_win_10000_int_2000_N_3467044_lin_rmax_400.npz\n",
        "./dat/var_g_0.35_s_6_k_400_win_10000_int_2000_N_3472705_lin_rmax_400.npz\n",
        "./dat/var_g_0.35_s_7_k_400_win_10000_int_2000_N_3480519_lin_rmax_400.npz\n",
        "./dat/var_g_0.35_s_8_k_400_win_10000_int_2000_N_3480512_lin_rmax_400.npz\n",
        "./dat/var_g_0.35_s_9_k_400_win_10000_int_2000_N_3474815_lin_rmax_400.npz\n",
        "./dat/var_g_0.365_s_10_k_400_win_10000_int_2000_N_3474805_lin_rmax_400.npz\n",
        "./dat/var_g_0.365_s_1_k_400_win_10000_int_2000_N_3480486_lin_rmax_400.npz\n",
        "./dat/var_g_0.365_s_2_k_400_win_10000_int_2000_N_3474801_lin_rmax_400.npz\n",
        "./dat/var_g_0.365_s_3_k_400_win_10000_int_2000_N_3480445_lin_rmax_400.npz\n",
        "./dat/var_g_0.365_s_4_k_400_win_10000_int_2000_N_3480525_lin_rmax_400.npz\n",
        "./dat/var_g_0.365_s_5_k_400_win_10000_int_2000_N_3467041_lin_rmax_400.npz\n",
        "./dat/var_g_0.365_s_6_k_400_win_10000_int_2000_N_3472691_lin_rmax_400.npz\n",
        "./dat/var_g_0.365_s_7_k_400_win_10000_int_2000_N_3480527_lin_rmax_400.npz\n",
        "./dat/var_g_0.365_s_8_k_400_win_10000_int_2000_N_3480516_lin_rmax_400.npz\n",
        "./dat/var_g_0.365_s_9_k_400_win_10000_int_2000_N_3474817_lin_rmax_400.npz"
       ]
      },
      {
       "output_type": "stream",
       "stream": "stdout",
       "text": [
        "\n",
        "./dat/var_g_0.36_s_10_k_400_win_10000_int_2000_N_3474807_lin_rmax_400.npz\n",
        "./dat/var_g_0.36_s_1_k_400_win_10000_int_2000_N_3480484_lin_rmax_400.npz\n",
        "./dat/var_g_0.36_s_2_k_400_win_10000_int_2000_N_3474801_lin_rmax_400.npz\n",
        "./dat/var_g_0.36_s_3_k_400_win_10000_int_2000_N_3480447_lin_rmax_400.npz\n",
        "./dat/var_g_0.36_s_4_k_400_win_10000_int_2000_N_3480525_lin_rmax_400.npz\n",
        "./dat/var_g_0.36_s_5_k_400_win_10000_int_2000_N_3467039_lin_rmax_400.npz\n",
        "./dat/var_g_0.36_s_6_k_400_win_10000_int_2000_N_3472696_lin_rmax_400.npz\n",
        "./dat/var_g_0.36_s_7_k_400_win_10000_int_2000_N_3480522_lin_rmax_400.npz\n",
        "./dat/var_g_0.36_s_8_k_400_win_10000_int_2000_N_3480515_lin_rmax_400.npz\n",
        "./dat/var_g_0.36_s_9_k_400_win_10000_int_2000_N_3474816_lin_rmax_400.npz\n",
        "./dat/var_g_0.375_s_10_k_400_win_10000_int_2000_N_3474807_lin_rmax_400.npz\n",
        "./dat/var_g_0.375_s_1_k_400_win_10000_int_2000_N_3480490_lin_rmax_400.npz\n",
        "./dat/var_g_0.375_s_2_k_400_win_10000_int_2000_N_3474800_lin_rmax_400.npz\n",
        "./dat/var_g_0.375_s_3_k_400_win_10000_int_2000_N_3480452_lin_rmax_400.npz\n",
        "./dat/var_g_0.375_s_4_k_400_win_10000_int_2000_N_3480522_lin_rmax_400.npz\n",
        "./dat/var_g_0.375_s_5_k_400_win_10000_int_2000_N_3467037_lin_rmax_400.npz\n",
        "./dat/var_g_0.375_s_6_k_400_win_10000_int_2000_N_3472684_lin_rmax_400.npz\n",
        "./dat/var_g_0.375_s_7_k_400_win_10000_int_2000_N_3480519_lin_rmax_400.npz\n",
        "./dat/var_g_0.375_s_8_k_400_win_10000_int_2000_N_3480514_lin_rmax_400.npz\n",
        "./dat/var_g_0.375_s_9_k_400_win_10000_int_2000_N_3474813_lin_rmax_400.npz\n",
        "./dat/var_g_0.37_s_10_k_400_win_10000_int_2000_N_3474806_lin_rmax_400.npz\n",
        "./dat/var_g_0.37_s_1_k_400_win_10000_int_2000_N_3480487_lin_rmax_400.npz\n",
        "./dat/var_g_0.37_s_2_k_400_win_10000_int_2000_N_3474801_lin_rmax_400.npz"
       ]
      },
      {
       "output_type": "stream",
       "stream": "stdout",
       "text": [
        "\n",
        "./dat/var_g_0.37_s_3_k_400_win_10000_int_2000_N_3480448_lin_rmax_400.npz\n",
        "./dat/var_g_0.37_s_4_k_400_win_10000_int_2000_N_3480524_lin_rmax_400.npz\n",
        "./dat/var_g_0.37_s_5_k_400_win_10000_int_2000_N_3467041_lin_rmax_400.npz\n",
        "./dat/var_g_0.37_s_6_k_400_win_10000_int_2000_N_3472690_lin_rmax_400.npz\n",
        "./dat/var_g_0.37_s_7_k_400_win_10000_int_2000_N_3480524_lin_rmax_400.npz\n",
        "./dat/var_g_0.37_s_8_k_400_win_10000_int_2000_N_3480513_lin_rmax_400.npz\n",
        "./dat/var_g_0.37_s_9_k_400_win_10000_int_2000_N_3474811_lin_rmax_400.npz\n",
        "./dat/var_g_0.3800_s_1_k_400_win_10000_int_2000_N_3480492_lin_rmax_400.npz\n",
        "./dat/var_g_0.3800_s_6_k_400_win_10000_int_2000_N_3472680_lin_rmax_400.npz\n",
        "./dat/var_g_0.3800_s_8_k_400_win_10000_int_2000_N_3480511_lin_rmax_400.npz\n",
        "./dat/var_g_0.3819660113_s_10_k_400_win_10000_int_2000_N_3474809_lin_rmax_400.npz\n",
        "./dat/var_g_0.3819660113_s_1_k_400_win_10000_int_2000_N_3480492_lin_rmax_400.npz\n",
        "./dat/var_g_0.3819660113_s_2_k_400_win_10000_int_2000_N_3474797_lin_rmax_400.npz\n",
        "./dat/var_g_0.3819660113_s_3_k_400_win_10000_int_2000_N_3480454_lin_rmax_400.npz\n",
        "./dat/var_g_0.3819660113_s_4_k_400_win_10000_int_2000_N_3480522_lin_rmax_400.npz\n",
        "./dat/var_g_0.3819660113_s_5_k_400_win_10000_int_2000_N_3467038_lin_rmax_400.npz\n",
        "./dat/var_g_0.3819660113_s_6_k_400_win_10000_int_2000_N_3472680_lin_rmax_400.npz\n",
        "./dat/var_g_0.3819660113_s_7_k_400_win_10000_int_2000_N_3480515_lin_rmax_400.npz\n",
        "./dat/var_g_0.3819660113_s_8_k_400_win_10000_int_2000_N_3480511_lin_rmax_400.npz\n",
        "./dat/var_g_0.3819660113_s_9_k_400_win_10000_int_2000_N_3474809_lin_rmax_400.npz\n",
        "./dat/var_g_0.385_s_10_k_400_win_10000_int_2000_N_3474809_lin_rmax_400.npz\n",
        "./dat/var_g_0.385_s_1_k_400_win_10000_int_2000_N_3480491_lin_rmax_400.npz\n",
        "./dat/var_g_0.385_s_2_k_400_win_10000_int_2000_N_3474801_lin_rmax_400.npz"
       ]
      },
      {
       "output_type": "stream",
       "stream": "stdout",
       "text": [
        "\n",
        "./dat/var_g_0.385_s_3_k_400_win_10000_int_2000_N_3480457_lin_rmax_400.npz\n",
        "./dat/var_g_0.385_s_4_k_400_win_10000_int_2000_N_3480521_lin_rmax_400.npz\n",
        "./dat/var_g_0.385_s_5_k_400_win_10000_int_2000_N_3467038_lin_rmax_400.npz\n",
        "./dat/var_g_0.385_s_6_k_400_win_10000_int_2000_N_3472677_lin_rmax_400.npz\n",
        "./dat/var_g_0.385_s_7_k_400_win_10000_int_2000_N_3480519_lin_rmax_400.npz\n",
        "./dat/var_g_0.385_s_8_k_400_win_10000_int_2000_N_3480511_lin_rmax_400.npz\n",
        "./dat/var_g_0.385_s_9_k_400_win_10000_int_2000_N_3474809_lin_rmax_400.npz\n",
        "./dat/var_g_0.38_s_10_k_400_win_10000_int_2000_N_3474808_lin_rmax_400.npz\n",
        "./dat/var_g_0.38_s_2_k_400_win_10000_int_2000_N_3474798_lin_rmax_400.npz\n",
        "./dat/var_g_0.38_s_3_k_400_win_10000_int_2000_N_3480453_lin_rmax_400.npz\n",
        "./dat/var_g_0.38_s_4_k_400_win_10000_int_2000_N_3480523_lin_rmax_400.npz\n",
        "./dat/var_g_0.38_s_5_k_400_win_10000_int_2000_N_3467037_lin_rmax_400.npz\n",
        "./dat/var_g_0.38_s_7_k_400_win_10000_int_2000_N_3480512_lin_rmax_400.npz\n",
        "./dat/var_g_0.38_s_9_k_400_win_10000_int_2000_N_3474814_lin_rmax_400.npz\n",
        "./dat/var_g_0.395_s_10_k_400_win_10000_int_2000_N_3474818_lin_rmax_400.npz\n",
        "./dat/var_g_0.395_s_1_k_400_win_10000_int_2000_N_3480489_lin_rmax_400.npz\n",
        "./dat/var_g_0.395_s_2_k_400_win_10000_int_2000_N_3474797_lin_rmax_400.npz\n",
        "./dat/var_g_0.395_s_3_k_400_win_10000_int_2000_N_3480453_lin_rmax_400.npz\n",
        "./dat/var_g_0.395_s_4_k_400_win_10000_int_2000_N_3480515_lin_rmax_400.npz\n",
        "./dat/var_g_0.395_s_5_k_400_win_10000_int_2000_N_3467030_lin_rmax_400.npz\n",
        "./dat/var_g_0.395_s_6_k_400_win_10000_int_2000_N_3472673_lin_rmax_400.npz"
       ]
      },
      {
       "output_type": "stream",
       "stream": "stdout",
       "text": [
        "\n",
        "./dat/var_g_0.395_s_7_k_400_win_10000_int_2000_N_3480521_lin_rmax_400.npz\n",
        "./dat/var_g_0.395_s_8_k_400_win_10000_int_2000_N_3480510_lin_rmax_400.npz\n",
        "./dat/var_g_0.395_s_9_k_400_win_10000_int_2000_N_3474812_lin_rmax_400.npz\n",
        "./dat/var_g_0.39_s_10_k_400_win_10000_int_2000_N_3474811_lin_rmax_400.npz\n",
        "./dat/var_g_0.39_s_1_k_400_win_10000_int_2000_N_3480494_lin_rmax_400.npz\n",
        "./dat/var_g_0.39_s_2_k_400_win_10000_int_2000_N_3474797_lin_rmax_400.npz\n",
        "./dat/var_g_0.39_s_3_k_400_win_10000_int_2000_N_3480454_lin_rmax_400.npz\n",
        "./dat/var_g_0.39_s_4_k_400_win_10000_int_2000_N_3480519_lin_rmax_400.npz\n",
        "./dat/var_g_0.39_s_5_k_400_win_10000_int_2000_N_3467034_lin_rmax_400.npz\n",
        "./dat/var_g_0.39_s_6_k_400_win_10000_int_2000_N_3472675_lin_rmax_400.npz\n",
        "./dat/var_g_0.39_s_7_k_400_win_10000_int_2000_N_3480519_lin_rmax_400.npz\n",
        "./dat/var_g_0.39_s_8_k_400_win_10000_int_2000_N_3480510_lin_rmax_400.npz\n",
        "./dat/var_g_0.39_s_9_k_400_win_10000_int_2000_N_3474808_lin_rmax_400.npz\n",
        "./dat/var_g_0.4000_s_10_k_400_win_10000_int_2000_N_3474817_lin_rmax_400.npz\n",
        "./dat/var_g_0.4000_s_1_k_400_win_10000_int_2000_N_3480493_lin_rmax_400.npz\n",
        "./dat/var_g_0.4000_s_2_k_400_win_10000_int_2000_N_3474796_lin_rmax_400.npz\n",
        "./dat/var_g_0.4000_s_3_k_400_win_10000_int_2000_N_3480456_lin_rmax_400.npz\n",
        "./dat/var_g_0.4000_s_4_k_400_win_10000_int_2000_N_3480512_lin_rmax_400.npz\n",
        "./dat/var_g_0.4000_s_5_k_400_win_10000_int_2000_N_3467027_lin_rmax_400.npz\n",
        "./dat/var_g_0.4000_s_6_k_400_win_10000_int_2000_N_3472671_lin_rmax_400.npz\n",
        "./dat/var_g_0.4000_s_7_k_400_win_10000_int_2000_N_3480516_lin_rmax_400.npz\n",
        "./dat/var_g_0.4000_s_8_k_400_win_10000_int_2000_N_3480509_lin_rmax_400.npz"
       ]
      },
      {
       "output_type": "stream",
       "stream": "stdout",
       "text": [
        "\n",
        "./dat/var_g_0.4000_s_9_k_400_win_10000_int_2000_N_3474813_lin_rmax_400.npz\n",
        "./dat/var_g_0.405_s_10_k_400_win_10000_int_2000_N_3474818_lin_rmax_400.npz\n",
        "./dat/var_g_0.405_s_1_k_400_win_10000_int_2000_N_3480491_lin_rmax_400.npz\n",
        "./dat/var_g_0.405_s_2_k_400_win_10000_int_2000_N_3474793_lin_rmax_400.npz\n",
        "./dat/var_g_0.405_s_3_k_400_win_10000_int_2000_N_3480454_lin_rmax_400.npz\n",
        "./dat/var_g_0.405_s_4_k_400_win_10000_int_2000_N_3480516_lin_rmax_400.npz\n",
        "./dat/var_g_0.405_s_5_k_400_win_10000_int_2000_N_3467028_lin_rmax_400.npz\n",
        "./dat/var_g_0.405_s_6_k_400_win_10000_int_2000_N_3472672_lin_rmax_400.npz\n",
        "./dat/var_g_0.405_s_7_k_400_win_10000_int_2000_N_3480513_lin_rmax_400.npz\n",
        "./dat/var_g_0.405_s_8_k_400_win_10000_int_2000_N_3480510_lin_rmax_400.npz\n",
        "./dat/var_g_0.405_s_9_k_400_win_10000_int_2000_N_3474809_lin_rmax_400.npz\n",
        "./dat/var_g_0.415_s_10_k_400_win_10000_int_2000_N_3474824_lin_rmax_400.npz\n",
        "./dat/var_g_0.415_s_1_k_400_win_10000_int_2000_N_3480493_lin_rmax_400.npz\n",
        "./dat/var_g_0.415_s_2_k_400_win_10000_int_2000_N_3474795_lin_rmax_400.npz\n",
        "./dat/var_g_0.415_s_3_k_400_win_10000_int_2000_N_3480456_lin_rmax_400.npz\n",
        "./dat/var_g_0.415_s_4_k_400_win_10000_int_2000_N_3480513_lin_rmax_400.npz\n",
        "./dat/var_g_0.415_s_5_k_400_win_10000_int_2000_N_3467030_lin_rmax_400.npz\n",
        "./dat/var_g_0.415_s_6_k_400_win_10000_int_2000_N_3472659_lin_rmax_400.npz\n",
        "./dat/var_g_0.415_s_7_k_400_win_10000_int_2000_N_3480511_lin_rmax_400.npz\n",
        "./dat/var_g_0.415_s_8_k_400_win_10000_int_2000_N_3480514_lin_rmax_400.npz\n",
        "./dat/var_g_0.415_s_9_k_400_win_10000_int_2000_N_3474810_lin_rmax_400.npz"
       ]
      },
      {
       "output_type": "stream",
       "stream": "stdout",
       "text": [
        "\n",
        "./dat/var_g_0.416407865_s_10_k_400_win_10000_int_2000_N_3474824_lin_rmax_400.npz\n",
        "./dat/var_g_0.416407865_s_1_k_400_win_10000_int_2000_N_3480494_lin_rmax_400.npz\n",
        "./dat/var_g_0.416407865_s_2_k_400_win_10000_int_2000_N_3474798_lin_rmax_400.npz\n",
        "./dat/var_g_0.416407865_s_3_k_400_win_10000_int_2000_N_3480458_lin_rmax_400.npz\n",
        "./dat/var_g_0.416407865_s_4_k_400_win_10000_int_2000_N_3480513_lin_rmax_400.npz\n",
        "./dat/var_g_0.416407865_s_5_k_400_win_10000_int_2000_N_3467030_lin_rmax_400.npz\n",
        "./dat/var_g_0.416407865_s_6_k_400_win_10000_int_2000_N_3472659_lin_rmax_400.npz\n",
        "./dat/var_g_0.416407865_s_7_k_400_win_10000_int_2000_N_3480511_lin_rmax_400.npz\n",
        "./dat/var_g_0.416407865_s_8_k_400_win_10000_int_2000_N_3480514_lin_rmax_400.npz\n",
        "./dat/var_g_0.416407865_s_9_k_400_win_10000_int_2000_N_3474811_lin_rmax_400.npz\n",
        "./dat/var_g_0.41_s_10_k_400_win_10000_int_2000_N_3474821_lin_rmax_400.npz\n",
        "./dat/var_g_0.41_s_1_k_400_win_10000_int_2000_N_3480491_lin_rmax_400.npz\n",
        "./dat/var_g_0.41_s_2_k_400_win_10000_int_2000_N_3474792_lin_rmax_400.npz\n",
        "./dat/var_g_0.41_s_3_k_400_win_10000_int_2000_N_3480456_lin_rmax_400.npz\n",
        "./dat/var_g_0.41_s_4_k_400_win_10000_int_2000_N_3480515_lin_rmax_400.npz\n",
        "./dat/var_g_0.41_s_5_k_400_win_10000_int_2000_N_3467029_lin_rmax_400.npz\n",
        "./dat/var_g_0.41_s_6_k_400_win_10000_int_2000_N_3472664_lin_rmax_400.npz\n",
        "./dat/var_g_0.41_s_7_k_400_win_10000_int_2000_N_3480512_lin_rmax_400.npz\n",
        "./dat/var_g_0.41_s_8_k_400_win_10000_int_2000_N_3480511_lin_rmax_400.npz\n",
        "./dat/var_g_0.41_s_9_k_400_win_10000_int_2000_N_3474808_lin_rmax_400.npz\n",
        "./dat/var_g_0.425_s_10_k_400_win_10000_int_2000_N_3474816_lin_rmax_400.npz\n",
        "./dat/var_g_0.425_s_1_k_400_win_10000_int_2000_N_3480498_lin_rmax_400.npz"
       ]
      },
      {
       "output_type": "stream",
       "stream": "stdout",
       "text": [
        "\n",
        "./dat/var_g_0.425_s_2_k_400_win_10000_int_2000_N_3474803_lin_rmax_400.npz\n",
        "./dat/var_g_0.425_s_3_k_400_win_10000_int_2000_N_3480457_lin_rmax_400.npz\n",
        "./dat/var_g_0.425_s_4_k_400_win_10000_int_2000_N_3480509_lin_rmax_400.npz\n",
        "./dat/var_g_0.425_s_5_k_400_win_10000_int_2000_N_3467032_lin_rmax_400.npz\n",
        "./dat/var_g_0.425_s_6_k_400_win_10000_int_2000_N_3472655_lin_rmax_400.npz\n",
        "./dat/var_g_0.425_s_7_k_400_win_10000_int_2000_N_3480513_lin_rmax_400.npz\n",
        "./dat/var_g_0.425_s_8_k_400_win_10000_int_2000_N_3480515_lin_rmax_400.npz\n",
        "./dat/var_g_0.425_s_9_k_400_win_10000_int_2000_N_3474807_lin_rmax_400.npz\n",
        "./dat/var_g_0.42_s_10_k_400_win_10000_int_2000_N_3474825_lin_rmax_400.npz\n",
        "./dat/var_g_0.42_s_1_k_400_win_10000_int_2000_N_3480497_lin_rmax_400.npz\n",
        "./dat/var_g_0.42_s_2_k_400_win_10000_int_2000_N_3474800_lin_rmax_400.npz\n",
        "./dat/var_g_0.42_s_3_k_400_win_10000_int_2000_N_3480458_lin_rmax_400.npz\n",
        "./dat/var_g_0.42_s_4_k_400_win_10000_int_2000_N_3480511_lin_rmax_400.npz\n",
        "./dat/var_g_0.42_s_5_k_400_win_10000_int_2000_N_3467029_lin_rmax_400.npz\n",
        "./dat/var_g_0.42_s_6_k_400_win_10000_int_2000_N_3472657_lin_rmax_400.npz\n",
        "./dat/var_g_0.42_s_7_k_400_win_10000_int_2000_N_3480514_lin_rmax_400.npz\n",
        "./dat/var_g_0.42_s_8_k_400_win_10000_int_2000_N_3480516_lin_rmax_400.npz\n",
        "./dat/var_g_0.42_s_9_k_400_win_10000_int_2000_N_3474812_lin_rmax_400.npz\n",
        "./dat/var_g_0.435_s_10_k_400_win_10000_int_2000_N_3474826_lin_rmax_400.npz\n",
        "./dat/var_g_0.435_s_1_k_400_win_10000_int_2000_N_3480498_lin_rmax_400.npz\n",
        "./dat/var_g_0.435_s_2_k_400_win_10000_int_2000_N_3474800_lin_rmax_400.npz\n",
        "./dat/var_g_0.435_s_3_k_400_win_10000_int_2000_N_3480457_lin_rmax_400.npz"
       ]
      },
      {
       "output_type": "stream",
       "stream": "stdout",
       "text": [
        "\n",
        "./dat/var_g_0.435_s_4_k_400_win_10000_int_2000_N_3480514_lin_rmax_400.npz\n",
        "./dat/var_g_0.435_s_5_k_400_win_10000_int_2000_N_3467025_lin_rmax_400.npz\n",
        "./dat/var_g_0.435_s_6_k_400_win_10000_int_2000_N_3472655_lin_rmax_400.npz\n",
        "./dat/var_g_0.435_s_7_k_400_win_10000_int_2000_N_3480518_lin_rmax_400.npz\n",
        "./dat/var_g_0.435_s_8_k_400_win_10000_int_2000_N_3480507_lin_rmax_400.npz\n",
        "./dat/var_g_0.435_s_9_k_400_win_10000_int_2000_N_3474807_lin_rmax_400.npz\n",
        "./dat/var_g_0.4376941013_s_10_k_400_win_10000_int_2000_N_3474827_lin_rmax_400.npz\n",
        "./dat/var_g_0.4376941013_s_1_k_400_win_10000_int_2000_N_3480497_lin_rmax_400.npz\n",
        "./dat/var_g_0.4376941013_s_2_k_400_win_10000_int_2000_N_3474797_lin_rmax_400.npz\n",
        "./dat/var_g_0.4376941013_s_3_k_400_win_10000_int_2000_N_3480457_lin_rmax_400.npz\n",
        "./dat/var_g_0.4376941013_s_4_k_400_win_10000_int_2000_N_3480516_lin_rmax_400.npz\n",
        "./dat/var_g_0.4376941013_s_5_k_400_win_10000_int_2000_N_3467025_lin_rmax_400.npz\n",
        "./dat/var_g_0.4376941013_s_6_k_400_win_10000_int_2000_N_3472654_lin_rmax_400.npz\n",
        "./dat/var_g_0.4376941013_s_7_k_400_win_10000_int_2000_N_3480518_lin_rmax_400.npz\n",
        "./dat/var_g_0.4376941013_s_8_k_400_win_10000_int_2000_N_3480507_lin_rmax_400.npz\n",
        "./dat/var_g_0.4376941013_s_9_k_400_win_10000_int_2000_N_3474807_lin_rmax_400.npz\n",
        "./dat/var_g_0.43_s_10_k_400_win_10000_int_2000_N_3474826_lin_rmax_400.npz\n",
        "./dat/var_g_0.43_s_1_k_400_win_10000_int_2000_N_3480495_lin_rmax_400.npz\n",
        "./dat/var_g_0.43_s_2_k_400_win_10000_int_2000_N_3474802_lin_rmax_400.npz\n",
        "./dat/var_g_0.43_s_3_k_400_win_10000_int_2000_N_3480455_lin_rmax_400.npz\n",
        "./dat/var_g_0.43_s_4_k_400_win_10000_int_2000_N_3480512_lin_rmax_400.npz\n",
        "./dat/var_g_0.43_s_5_k_400_win_10000_int_2000_N_3467025_lin_rmax_400.npz"
       ]
      },
      {
       "output_type": "stream",
       "stream": "stdout",
       "text": [
        "\n",
        "./dat/var_g_0.43_s_6_k_400_win_10000_int_2000_N_3472657_lin_rmax_400.npz\n",
        "./dat/var_g_0.43_s_7_k_400_win_10000_int_2000_N_3480518_lin_rmax_400.npz\n",
        "./dat/var_g_0.43_s_8_k_400_win_10000_int_2000_N_3480510_lin_rmax_400.npz\n",
        "./dat/var_g_0.43_s_9_k_400_win_10000_int_2000_N_3474806_lin_rmax_400.npz\n",
        "./dat/var_g_0.445_s_10_k_400_win_10000_int_2000_N_3474825_lin_rmax_400.npz\n",
        "./dat/var_g_0.445_s_1_k_400_win_10000_int_2000_N_3480499_lin_rmax_400.npz\n",
        "./dat/var_g_0.445_s_2_k_400_win_10000_int_2000_N_3474797_lin_rmax_400.npz\n",
        "./dat/var_g_0.445_s_3_k_400_win_10000_int_2000_N_3480458_lin_rmax_400.npz\n",
        "./dat/var_g_0.445_s_4_k_400_win_10000_int_2000_N_3480515_lin_rmax_400.npz\n",
        "./dat/var_g_0.445_s_5_k_400_win_10000_int_2000_N_3467027_lin_rmax_400.npz\n",
        "./dat/var_g_0.445_s_6_k_400_win_10000_int_2000_N_3472654_lin_rmax_400.npz\n",
        "./dat/var_g_0.445_s_7_k_400_win_10000_int_2000_N_3480520_lin_rmax_400.npz\n",
        "./dat/var_g_0.445_s_8_k_400_win_10000_int_2000_N_3480492_lin_rmax_400.npz\n",
        "./dat/var_g_0.445_s_9_k_400_win_10000_int_2000_N_3474805_lin_rmax_400.npz\n",
        "./dat/var_g_0.44_s_10_k_400_win_10000_int_2000_N_3474827_lin_rmax_400.npz\n",
        "./dat/var_g_0.44_s_1_k_400_win_10000_int_2000_N_3480498_lin_rmax_400.npz\n",
        "./dat/var_g_0.44_s_2_k_400_win_10000_int_2000_N_3474794_lin_rmax_400.npz\n",
        "./dat/var_g_0.44_s_3_k_400_win_10000_int_2000_N_3480462_lin_rmax_400.npz\n",
        "./dat/var_g_0.44_s_4_k_400_win_10000_int_2000_N_3480517_lin_rmax_400.npz\n",
        "./dat/var_g_0.44_s_5_k_400_win_10000_int_2000_N_3467025_lin_rmax_400.npz\n",
        "./dat/var_g_0.44_s_6_k_400_win_10000_int_2000_N_3472654_lin_rmax_400.npz\n",
        "./dat/var_g_0.44_s_7_k_400_win_10000_int_2000_N_3480519_lin_rmax_400.npz\n",
        "./dat/var_g_0.44_s_8_k_400_win_10000_int_2000_N_3480493_lin_rmax_400.npz\n",
        "./dat/var_g_0.44_s_9_k_400_win_10000_int_2000_N_3474805_lin_rmax_400.npz"
       ]
      },
      {
       "output_type": "stream",
       "stream": "stdout",
       "text": [
        "\n",
        "./dat/var_g_0.455_s_10_k_400_win_10000_int_2000_N_3474821_lin_rmax_400.npz\n",
        "./dat/var_g_0.455_s_1_k_400_win_10000_int_2000_N_3480491_lin_rmax_400.npz\n",
        "./dat/var_g_0.455_s_2_k_400_win_10000_int_2000_N_3474795_lin_rmax_400.npz\n",
        "./dat/var_g_0.455_s_3_k_400_win_10000_int_2000_N_3480461_lin_rmax_400.npz\n",
        "./dat/var_g_0.455_s_4_k_400_win_10000_int_2000_N_3480518_lin_rmax_400.npz\n",
        "./dat/var_g_0.455_s_5_k_400_win_10000_int_2000_N_3467025_lin_rmax_400.npz\n",
        "./dat/var_g_0.455_s_6_k_400_win_10000_int_2000_N_3472651_lin_rmax_400.npz\n",
        "./dat/var_g_0.455_s_7_k_400_win_10000_int_2000_N_3480515_lin_rmax_400.npz\n",
        "./dat/var_g_0.455_s_8_k_400_win_10000_int_2000_N_3480488_lin_rmax_400.npz\n",
        "./dat/var_g_0.455_s_9_k_400_win_10000_int_2000_N_3474804_lin_rmax_400.npz\n",
        "./dat/var_g_0.45_s_10_k_400_win_10000_int_2000_N_3474824_lin_rmax_400.npz\n",
        "./dat/var_g_0.45_s_1_k_400_win_10000_int_2000_N_3480482_lin_rmax_400.npz\n",
        "./dat/var_g_0.45_s_2_k_400_win_10000_int_2000_N_3474791_lin_rmax_400.npz\n",
        "./dat/var_g_0.45_s_3_k_400_win_10000_int_2000_N_3480457_lin_rmax_400.npz\n",
        "./dat/var_g_0.45_s_4_k_400_win_10000_int_2000_N_3480516_lin_rmax_400.npz\n",
        "./dat/var_g_0.45_s_5_k_400_win_10000_int_2000_N_3467026_lin_rmax_400.npz\n",
        "./dat/var_g_0.45_s_6_k_400_win_10000_int_2000_N_3472651_lin_rmax_400.npz\n",
        "./dat/var_g_0.45_s_7_k_400_win_10000_int_2000_N_3480518_lin_rmax_400.npz\n",
        "./dat/var_g_0.45_s_8_k_400_win_10000_int_2000_N_3480492_lin_rmax_400.npz\n",
        "./dat/var_g_0.45_s_9_k_400_win_10000_int_2000_N_3474805_lin_rmax_400.npz\n",
        "./dat/var_g_0.465_s_10_k_400_win_10000_int_2000_N_3474824_lin_rmax_400.npz\n",
        "./dat/var_g_0.465_s_1_k_400_win_10000_int_2000_N_3480490_lin_rmax_400.npz\n",
        "./dat/var_g_0.465_s_2_k_400_win_10000_int_2000_N_3474799_lin_rmax_400.npz\n",
        "./dat/var_g_0.465_s_3_k_400_win_10000_int_2000_N_3480466_lin_rmax_400.npz"
       ]
      },
      {
       "output_type": "stream",
       "stream": "stdout",
       "text": [
        "\n",
        "./dat/var_g_0.465_s_4_k_400_win_10000_int_2000_N_3480517_lin_rmax_400.npz\n",
        "./dat/var_g_0.465_s_5_k_400_win_10000_int_2000_N_3467032_lin_rmax_400.npz\n",
        "./dat/var_g_0.465_s_6_k_400_win_10000_int_2000_N_3472648_lin_rmax_400.npz\n",
        "./dat/var_g_0.465_s_7_k_400_win_10000_int_2000_N_3480512_lin_rmax_400.npz\n",
        "./dat/var_g_0.465_s_8_k_400_win_10000_int_2000_N_3480490_lin_rmax_400.npz\n",
        "./dat/var_g_0.465_s_9_k_400_win_10000_int_2000_N_3474805_lin_rmax_400.npz\n",
        "./dat/var_g_0.46_s_10_k_400_win_10000_int_2000_N_3474822_lin_rmax_400.npz\n",
        "./dat/var_g_0.46_s_1_k_400_win_10000_int_2000_N_3480491_lin_rmax_400.npz\n",
        "./dat/var_g_0.46_s_2_k_400_win_10000_int_2000_N_3474797_lin_rmax_400.npz\n",
        "./dat/var_g_0.46_s_3_k_400_win_10000_int_2000_N_3480459_lin_rmax_400.npz\n",
        "./dat/var_g_0.46_s_4_k_400_win_10000_int_2000_N_3480516_lin_rmax_400.npz\n",
        "./dat/var_g_0.46_s_5_k_400_win_10000_int_2000_N_3467033_lin_rmax_400.npz\n",
        "./dat/var_g_0.46_s_6_k_400_win_10000_int_2000_N_3472655_lin_rmax_400.npz\n",
        "./dat/var_g_0.46_s_7_k_400_win_10000_int_2000_N_3480515_lin_rmax_400.npz\n",
        "./dat/var_g_0.46_s_8_k_400_win_10000_int_2000_N_3480489_lin_rmax_400.npz\n",
        "./dat/var_g_0.46_s_9_k_400_win_10000_int_2000_N_3474804_lin_rmax_400.npz\n",
        "./dat/var_g_0.472135955_s_10_k_400_win_10000_int_2000_N_3474830_lin_rmax_400.npz\n",
        "./dat/var_g_0.472135955_s_1_k_400_win_10000_int_2000_N_3480490_lin_rmax_400.npz\n",
        "./dat/var_g_0.472135955_s_2_k_400_win_10000_int_2000_N_3474783_lin_rmax_400.npz\n",
        "./dat/var_g_0.472135955_s_3_k_400_win_10000_int_2000_N_3480463_lin_rmax_400.npz\n",
        "./dat/var_g_0.472135955_s_4_k_400_win_10000_int_2000_N_3480515_lin_rmax_400.npz\n",
        "./dat/var_g_0.472135955_s_5_k_400_win_10000_int_2000_N_3467034_lin_rmax_400.npz\n",
        "./dat/var_g_0.472135955_s_6_k_400_win_10000_int_2000_N_3472653_lin_rmax_400.npz\n",
        "./dat/var_g_0.472135955_s_7_k_400_win_10000_int_2000_N_3480516_lin_rmax_400.npz"
       ]
      },
      {
       "output_type": "stream",
       "stream": "stdout",
       "text": [
        "\n",
        "./dat/var_g_0.472135955_s_8_k_400_win_10000_int_2000_N_3480487_lin_rmax_400.npz\n",
        "./dat/var_g_0.472135955_s_9_k_400_win_10000_int_2000_N_3474802_lin_rmax_400.npz\n",
        "./dat/var_g_0.475_s_10_k_400_win_10000_int_2000_N_3474829_lin_rmax_400.npz\n",
        "./dat/var_g_0.475_s_1_k_400_win_10000_int_2000_N_3480489_lin_rmax_400.npz\n",
        "./dat/var_g_0.475_s_2_k_400_win_10000_int_2000_N_3474786_lin_rmax_400.npz\n",
        "./dat/var_g_0.475_s_3_k_400_win_10000_int_2000_N_3480465_lin_rmax_400.npz\n",
        "./dat/var_g_0.475_s_4_k_400_win_10000_int_2000_N_3480512_lin_rmax_400.npz\n",
        "./dat/var_g_0.475_s_5_k_400_win_10000_int_2000_N_3467035_lin_rmax_400.npz\n",
        "./dat/var_g_0.475_s_6_k_400_win_10000_int_2000_N_3472650_lin_rmax_400.npz\n",
        "./dat/var_g_0.475_s_7_k_400_win_10000_int_2000_N_3480519_lin_rmax_400.npz\n",
        "./dat/var_g_0.475_s_8_k_400_win_10000_int_2000_N_3480487_lin_rmax_400.npz\n",
        "./dat/var_g_0.475_s_9_k_400_win_10000_int_2000_N_3474803_lin_rmax_400.npz\n",
        "./dat/var_g_0.47_s_10_k_400_win_10000_int_2000_N_3474829_lin_rmax_400.npz\n",
        "./dat/var_g_0.47_s_1_k_400_win_10000_int_2000_N_3480491_lin_rmax_400.npz\n",
        "./dat/var_g_0.47_s_2_k_400_win_10000_int_2000_N_3474787_lin_rmax_400.npz\n",
        "./dat/var_g_0.47_s_3_k_400_win_10000_int_2000_N_3480463_lin_rmax_400.npz\n",
        "./dat/var_g_0.47_s_4_k_400_win_10000_int_2000_N_3480519_lin_rmax_400.npz\n",
        "./dat/var_g_0.47_s_5_k_400_win_10000_int_2000_N_3467033_lin_rmax_400.npz\n",
        "./dat/var_g_0.47_s_6_k_400_win_10000_int_2000_N_3472653_lin_rmax_400.npz\n",
        "./dat/var_g_0.47_s_7_k_400_win_10000_int_2000_N_3480518_lin_rmax_400.npz\n",
        "./dat/var_g_0.47_s_8_k_400_win_10000_int_2000_N_3480487_lin_rmax_400.npz\n",
        "./dat/var_g_0.47_s_9_k_400_win_10000_int_2000_N_3474805_lin_rmax_400.npz\n",
        "./dat/var_g_0.485_s_10_k_400_win_10000_int_2000_N_3474830_lin_rmax_400.npz"
       ]
      },
      {
       "output_type": "stream",
       "stream": "stdout",
       "text": [
        "\n",
        "./dat/var_g_0.485_s_1_k_400_win_10000_int_2000_N_3480488_lin_rmax_400.npz\n",
        "./dat/var_g_0.485_s_2_k_400_win_10000_int_2000_N_3474785_lin_rmax_400.npz\n",
        "./dat/var_g_0.485_s_3_k_400_win_10000_int_2000_N_3480456_lin_rmax_400.npz\n",
        "./dat/var_g_0.485_s_4_k_400_win_10000_int_2000_N_3480514_lin_rmax_400.npz\n",
        "./dat/var_g_0.485_s_5_k_400_win_10000_int_2000_N_3467031_lin_rmax_400.npz\n",
        "./dat/var_g_0.485_s_6_k_400_win_10000_int_2000_N_3472645_lin_rmax_400.npz\n",
        "./dat/var_g_0.485_s_7_k_400_win_10000_int_2000_N_3480520_lin_rmax_400.npz\n",
        "./dat/var_g_0.485_s_8_k_400_win_10000_int_2000_N_3480490_lin_rmax_400.npz\n",
        "./dat/var_g_0.485_s_9_k_400_win_10000_int_2000_N_3474797_lin_rmax_400.npz\n",
        "./dat/var_g_0.48_s_10_k_400_win_10000_int_2000_N_3474829_lin_rmax_400.npz\n",
        "./dat/var_g_0.48_s_1_k_400_win_10000_int_2000_N_3480488_lin_rmax_400.npz\n",
        "./dat/var_g_0.48_s_2_k_400_win_10000_int_2000_N_3474785_lin_rmax_400.npz\n",
        "./dat/var_g_0.48_s_3_k_400_win_10000_int_2000_N_3480459_lin_rmax_400.npz\n",
        "./dat/var_g_0.48_s_4_k_400_win_10000_int_2000_N_3480511_lin_rmax_400.npz\n",
        "./dat/var_g_0.48_s_5_k_400_win_10000_int_2000_N_3467038_lin_rmax_400.npz\n",
        "./dat/var_g_0.48_s_6_k_400_win_10000_int_2000_N_3472649_lin_rmax_400.npz\n",
        "./dat/var_g_0.48_s_7_k_400_win_10000_int_2000_N_3480517_lin_rmax_400.npz\n",
        "./dat/var_g_0.48_s_8_k_400_win_10000_int_2000_N_3480487_lin_rmax_400.npz\n",
        "./dat/var_g_0.48_s_9_k_400_win_10000_int_2000_N_3474801_lin_rmax_400.npz\n",
        "./dat/var_g_0.495_s_10_k_400_win_10000_int_2000_N_3474832_lin_rmax_400.npz\n",
        "./dat/var_g_0.495_s_1_k_400_win_10000_int_2000_N_3480494_lin_rmax_400.npz\n",
        "./dat/var_g_0.495_s_2_k_400_win_10000_int_2000_N_3474780_lin_rmax_400.npz\n",
        "./dat/var_g_0.495_s_3_k_400_win_10000_int_2000_N_3480455_lin_rmax_400.npz"
       ]
      },
      {
       "output_type": "stream",
       "stream": "stdout",
       "text": [
        "\n",
        "./dat/var_g_0.495_s_4_k_400_win_10000_int_2000_N_3480522_lin_rmax_400.npz\n",
        "./dat/var_g_0.495_s_5_k_400_win_10000_int_2000_N_3467031_lin_rmax_400.npz\n",
        "./dat/var_g_0.495_s_6_k_400_win_10000_int_2000_N_3472643_lin_rmax_400.npz\n",
        "./dat/var_g_0.495_s_7_k_400_win_10000_int_2000_N_3480515_lin_rmax_400.npz\n",
        "./dat/var_g_0.495_s_8_k_400_win_10000_int_2000_N_3480492_lin_rmax_400.npz\n",
        "./dat/var_g_0.495_s_9_k_400_win_10000_int_2000_N_3474802_lin_rmax_400.npz\n",
        "./dat/var_g_0.49_s_10_k_400_win_10000_int_2000_N_3474834_lin_rmax_400.npz\n",
        "./dat/var_g_0.49_s_1_k_400_win_10000_int_2000_N_3480497_lin_rmax_400.npz\n",
        "./dat/var_g_0.49_s_2_k_400_win_10000_int_2000_N_3474784_lin_rmax_400.npz\n",
        "./dat/var_g_0.49_s_3_k_400_win_10000_int_2000_N_3480457_lin_rmax_400.npz\n",
        "./dat/var_g_0.49_s_4_k_400_win_10000_int_2000_N_3480514_lin_rmax_400.npz\n",
        "./dat/var_g_0.49_s_5_k_400_win_10000_int_2000_N_3467031_lin_rmax_400.npz\n",
        "./dat/var_g_0.49_s_6_k_400_win_10000_int_2000_N_3472642_lin_rmax_400.npz\n",
        "./dat/var_g_0.49_s_7_k_400_win_10000_int_2000_N_3480518_lin_rmax_400.npz\n",
        "./dat/var_g_0.49_s_8_k_400_win_10000_int_2000_N_3480490_lin_rmax_400.npz\n",
        "./dat/var_g_0.49_s_9_k_400_win_10000_int_2000_N_3474801_lin_rmax_400.npz\n",
        "./dat/var_g_0.5000_s_10_k_400_win_10000_int_2000_N_3474828_lin_rmax_400.npz\n",
        "./dat/var_g_0.5000_s_1_k_400_win_10000_int_2000_N_3480494_lin_rmax_400.npz\n",
        "./dat/var_g_0.5000_s_2_k_400_win_10000_int_2000_N_3474778_lin_rmax_400.npz\n",
        "./dat/var_g_0.5000_s_3_k_400_win_10000_int_2000_N_3480452_lin_rmax_400.npz\n",
        "./dat/var_g_0.5000_s_4_k_400_win_10000_int_2000_N_3480515_lin_rmax_400.npz\n",
        "./dat/var_g_0.5000_s_5_k_400_win_10000_int_2000_N_3467032_lin_rmax_400.npz\n",
        "./dat/var_g_0.5000_s_6_k_400_win_10000_int_2000_N_3472644_lin_rmax_400.npz"
       ]
      },
      {
       "output_type": "stream",
       "stream": "stdout",
       "text": [
        "\n",
        "./dat/var_g_0.5000_s_7_k_400_win_10000_int_2000_N_3480514_lin_rmax_400.npz\n",
        "./dat/var_g_0.5000_s_8_k_400_win_10000_int_2000_N_3480490_lin_rmax_400.npz\n",
        "./dat/var_g_0.5000_s_9_k_400_win_10000_int_2000_N_3474798_lin_rmax_400.npz\n",
        "116\n",
        "0.0 ,\n",
        "0.005 ,\n",
        "0.01 ,\n",
        "0.015 ,\n",
        "0.02 ,\n",
        "0.025 ,\n",
        "0.03 ,\n",
        "0.0344418537 ,\n",
        "0.035 ,\n",
        "0.04 ,\n",
        "0.045 ,\n",
        "0.05 ,\n",
        "0.055 ,\n",
        "0.05572809 ,\n",
        "0.06 ,\n",
        "0.065 ,\n",
        "0.07 ,\n",
        "0.075 ,\n",
        "0.08 ,\n",
        "0.085 ,\n",
        "0.09 ,\n",
        "0.0901699437 ,\n",
        "0.095 ,\n",
        "0.1 ,\n",
        "0.105 ,\n",
        "0.11 ,\n",
        "0.115 ,\n",
        "0.12 ,\n",
        "0.125 ,\n",
        "0.13 ,\n",
        "0.135 ,\n",
        "0.14 ,\n",
        "0.145 ,\n",
        "0.1458980338 ,\n",
        "0.15 ,\n",
        "0.155 ,\n",
        "0.16 ,\n",
        "0.165 ,\n",
        "0.17 ,\n",
        "0.175 ,\n",
        "0.18 ,\n",
        "0.1803398875 ,\n",
        "0.185 ,\n",
        "0.19 ,\n",
        "0.195 ,\n",
        "0.2 ,\n",
        "0.2016261238 ,\n",
        "0.205 ,\n",
        "0.21 ,\n",
        "0.215 ,\n",
        "0.22 ,\n",
        "0.225 ,\n",
        "0.23 ,\n",
        "0.235 ,\n",
        "0.2360679775 ,\n",
        "0.24 ,\n",
        "0.245 ,\n",
        "0.25 ,\n",
        "0.255 ,\n",
        "0.26 ,\n",
        "0.265 ,\n",
        "0.27 ,\n",
        "0.2705098312 ,\n",
        "0.275 ,\n",
        "0.28 ,\n",
        "0.285 ,\n",
        "0.29 ,\n",
        "0.2917960675 ,\n",
        "0.295 ,\n",
        "0.3 ,\n",
        "0.305 ,\n",
        "0.31 ,\n",
        "0.315 ,\n",
        "0.32 ,\n",
        "0.325 ,\n",
        "0.3262379212 ,\n",
        "0.33 ,\n",
        "0.335 ,\n",
        "0.34 ,\n",
        "0.345 ,\n",
        "0.3475241575 ,\n",
        "0.35 ,\n",
        "0.355 ,\n",
        "0.36 ,\n",
        "0.365 ,\n",
        "0.37 ,\n",
        "0.375 ,\n",
        "0.38 ,\n",
        "0.3819660113 ,\n",
        "0.385 ,\n",
        "0.39 ,\n",
        "0.395 ,\n",
        "0.4 ,\n",
        "0.405 ,\n",
        "0.41 ,\n",
        "0.415 ,\n",
        "0.416407865 ,\n",
        "0.42 ,\n",
        "0.425 ,\n",
        "0.43 ,\n",
        "0.435 ,\n",
        "0.4376941013 ,\n",
        "0.44 ,\n",
        "0.445 ,\n",
        "0.45 ,\n",
        "0.455 ,\n",
        "0.46 ,\n",
        "0.465 ,\n",
        "0.47 ,\n",
        "0.472135955 ,\n",
        "0.475 ,\n",
        "0.48 ,\n",
        "0.485 ,\n",
        "0.49 ,\n",
        "0.495 ,\n",
        "0.5 ,\n"
       ]
      }
     ],
     "prompt_number": 50
    },
    {
     "cell_type": "code",
     "collapsed": false,
     "input": [
      "files = glob.glob('./dat/*rmax_400*.npz')\n",
      "\n",
      "m = len(files)\n",
      "\n",
      "gam = []\n",
      "kmax = []\n",
      "seeds = []\n",
      "for i in range(m):\n",
      "    t = np.load(files[i])\n",
      "    gammasum = float(t['gammasum'])\n",
      "    kmax.append(int(t['kmax']))\n",
      "    seeds.append(int(t['seed']))\n",
      "    gam.append(round(gammasum % 1,10))\n",
      "\n",
      "kmax = np.array(kmax)\n",
      "seeds = np.array(seeds)\n",
      "gam = np.array(gam)\n",
      "unique_gam = np.unique(gam)\n",
      "\n",
      "print len(unique_gam)\n",
      "for i in unique_gam:\n",
      "    print i,','"
     ],
     "language": "python",
     "metadata": {},
     "outputs": [
      {
       "output_type": "stream",
       "stream": "stdout",
       "text": [
        "116\n",
        "0.0 ,\n",
        "0.005 ,\n",
        "0.01 ,\n",
        "0.015 ,\n",
        "0.02 ,\n",
        "0.025 ,\n",
        "0.03 ,\n",
        "0.0344418537 ,\n",
        "0.035 ,\n",
        "0.04 ,\n",
        "0.045 ,\n",
        "0.05 ,\n",
        "0.055 ,\n",
        "0.05572809 ,\n",
        "0.06 ,\n",
        "0.065 ,\n",
        "0.07 ,\n",
        "0.075 ,\n",
        "0.08 ,\n",
        "0.085 ,\n",
        "0.09 ,\n",
        "0.0901699437 ,\n",
        "0.095 ,\n",
        "0.1 ,\n",
        "0.105 ,\n",
        "0.11 ,\n",
        "0.115 ,\n",
        "0.12 ,\n",
        "0.125 ,\n",
        "0.13 ,\n",
        "0.135 ,\n",
        "0.14 ,\n",
        "0.145 ,\n",
        "0.1458980338 ,\n",
        "0.15 ,\n",
        "0.155 ,\n",
        "0.16 ,\n",
        "0.165 ,\n",
        "0.17 ,\n",
        "0.175 ,\n",
        "0.18 ,\n",
        "0.1803398875 ,\n",
        "0.185 ,\n",
        "0.19 ,\n",
        "0.195 ,\n",
        "0.2 ,\n",
        "0.2016261238 ,\n",
        "0.205 ,\n",
        "0.21 ,\n",
        "0.215 ,\n",
        "0.22 ,\n",
        "0.225 ,\n",
        "0.23 ,\n",
        "0.235 ,\n",
        "0.2360679775 ,\n",
        "0.24 ,\n",
        "0.245 ,\n",
        "0.25 ,\n",
        "0.255 ,\n",
        "0.26 ,\n",
        "0.265 ,\n",
        "0.27 ,\n",
        "0.2705098312 ,\n",
        "0.275 ,\n",
        "0.28 ,\n",
        "0.285 ,\n",
        "0.29 ,\n",
        "0.2917960675 ,\n",
        "0.295 ,\n",
        "0.3 ,\n",
        "0.305 ,\n",
        "0.31 ,\n",
        "0.315 ,\n",
        "0.32 ,\n",
        "0.325 ,\n",
        "0.3262379212 ,\n",
        "0.33 ,\n",
        "0.335 ,\n",
        "0.34 ,\n",
        "0.345 ,\n",
        "0.3475241575 ,\n",
        "0.35 ,\n",
        "0.355 ,\n",
        "0.36 ,\n",
        "0.365 ,\n",
        "0.37 ,\n",
        "0.375 ,\n",
        "0.38 ,\n",
        "0.3819660113 ,\n",
        "0.385 ,\n",
        "0.39 ,\n",
        "0.395 ,\n",
        "0.4 ,\n",
        "0.405 ,\n",
        "0.41 ,\n",
        "0.415 ,\n",
        "0.416407865 ,\n",
        "0.42 ,\n",
        "0.425 ,\n",
        "0.43 ,\n",
        "0.435 ,\n",
        "0.4376941013 ,\n",
        "0.44 ,\n",
        "0.445 ,\n",
        "0.45 ,\n",
        "0.455 ,\n",
        "0.46 ,\n",
        "0.465 ,\n",
        "0.47 ,\n",
        "0.472135955 ,\n",
        "0.475 ,\n",
        "0.48 ,\n",
        "0.485 ,\n",
        "0.49 ,\n",
        "0.495 ,\n",
        "0.5 ,\n"
       ]
      }
     ],
     "prompt_number": 51
    },
    {
     "cell_type": "code",
     "collapsed": false,
     "input": [
      "m = len(unique_gam)\n",
      "\n",
      "fits = []\n",
      "err = []\n",
      "\n",
      "for j in range(m):\n",
      "    g = unique_gam[j]\n",
      "    print g,\n",
      "    fits_g = []\n",
      "    ind = np.where(gam == g)[0]\n",
      "    print len(ind)\n",
      "    for i in ind:\n",
      "        t = np.load(files[i]) # load only max_k\n",
      "        \n",
      "        var = t['var']\n",
      "        rlist = t['rlist']\n",
      "\n",
      "        normvar = var / (np.pi * rho)**.5 / rlist / 2\n",
      "\n",
      "        y = var / (np.pi * rho)**.5 / 2 / rlist\n",
      "        x = rlist\n",
      "        \n",
      "        n = 0\n",
      "        xs, ys = CalcSmoothN(x,y,n)\n",
      "        ys *= (n+1)\n",
      "        \n",
      "        po, pc = curve_fit(f,xs,ys)\n",
      "        fits_g.append(po[0])\n",
      "    fits.append(np.mean(fits_g))\n",
      "    err.append(np.std(fits_g))\n",
      "fits = np.array(fits)\n",
      "err = np.array(err)"
     ],
     "language": "python",
     "metadata": {},
     "outputs": [
      {
       "output_type": "stream",
       "stream": "stdout",
       "text": [
        "0.0 10\n",
        "0.005"
       ]
      },
      {
       "output_type": "stream",
       "stream": "stdout",
       "text": [
        " 10\n",
        "0.01"
       ]
      },
      {
       "output_type": "stream",
       "stream": "stdout",
       "text": [
        " 10\n",
        "0.015"
       ]
      },
      {
       "output_type": "stream",
       "stream": "stdout",
       "text": [
        " 11\n",
        "0.02"
       ]
      },
      {
       "output_type": "stream",
       "stream": "stdout",
       "text": [
        " 10\n",
        "0.025"
       ]
      },
      {
       "output_type": "stream",
       "stream": "stdout",
       "text": [
        " 10\n",
        "0.03"
       ]
      },
      {
       "output_type": "stream",
       "stream": "stdout",
       "text": [
        " 10\n",
        "0.0344418537"
       ]
      },
      {
       "output_type": "stream",
       "stream": "stdout",
       "text": [
        " 10\n",
        "0.035"
       ]
      },
      {
       "output_type": "stream",
       "stream": "stdout",
       "text": [
        " 10\n",
        "0.04"
       ]
      },
      {
       "output_type": "stream",
       "stream": "stdout",
       "text": [
        " 10\n",
        "0.045"
       ]
      },
      {
       "output_type": "stream",
       "stream": "stdout",
       "text": [
        " 10\n",
        "0.05"
       ]
      },
      {
       "output_type": "stream",
       "stream": "stdout",
       "text": [
        " 10\n",
        "0.055"
       ]
      },
      {
       "output_type": "stream",
       "stream": "stdout",
       "text": [
        " 10\n",
        "0.05572809"
       ]
      },
      {
       "output_type": "stream",
       "stream": "stdout",
       "text": [
        " 10\n",
        "0.06"
       ]
      },
      {
       "output_type": "stream",
       "stream": "stdout",
       "text": [
        " 10\n",
        "0.065"
       ]
      },
      {
       "output_type": "stream",
       "stream": "stdout",
       "text": [
        " 10\n",
        "0.07"
       ]
      },
      {
       "output_type": "stream",
       "stream": "stdout",
       "text": [
        " 10\n",
        "0.075"
       ]
      },
      {
       "output_type": "stream",
       "stream": "stdout",
       "text": [
        " 10\n",
        "0.08"
       ]
      },
      {
       "output_type": "stream",
       "stream": "stdout",
       "text": [
        " 10\n",
        "0.085"
       ]
      },
      {
       "output_type": "stream",
       "stream": "stdout",
       "text": [
        " 10\n",
        "0.09"
       ]
      },
      {
       "output_type": "stream",
       "stream": "stdout",
       "text": [
        " 10\n",
        "0.0901699437"
       ]
      },
      {
       "output_type": "stream",
       "stream": "stdout",
       "text": [
        " 10\n",
        "0.095"
       ]
      },
      {
       "output_type": "stream",
       "stream": "stdout",
       "text": [
        " 10\n",
        "0.1"
       ]
      },
      {
       "output_type": "stream",
       "stream": "stdout",
       "text": [
        " 10\n",
        "0.105"
       ]
      },
      {
       "output_type": "stream",
       "stream": "stdout",
       "text": [
        " 10\n",
        "0.11"
       ]
      },
      {
       "output_type": "stream",
       "stream": "stdout",
       "text": [
        " 10\n",
        "0.115"
       ]
      },
      {
       "output_type": "stream",
       "stream": "stdout",
       "text": [
        " 10\n",
        "0.12"
       ]
      },
      {
       "output_type": "stream",
       "stream": "stdout",
       "text": [
        " 10\n",
        "0.125"
       ]
      },
      {
       "output_type": "stream",
       "stream": "stdout",
       "text": [
        " 10\n",
        "0.13"
       ]
      },
      {
       "output_type": "stream",
       "stream": "stdout",
       "text": [
        " 10\n",
        "0.135"
       ]
      },
      {
       "output_type": "stream",
       "stream": "stdout",
       "text": [
        " 10\n",
        "0.14"
       ]
      },
      {
       "output_type": "stream",
       "stream": "stdout",
       "text": [
        " 10\n",
        "0.145"
       ]
      },
      {
       "output_type": "stream",
       "stream": "stdout",
       "text": [
        " 10\n",
        "0.1458980338"
       ]
      },
      {
       "output_type": "stream",
       "stream": "stdout",
       "text": [
        " 10\n",
        "0.15"
       ]
      },
      {
       "output_type": "stream",
       "stream": "stdout",
       "text": [
        " 10\n",
        "0.155"
       ]
      },
      {
       "output_type": "stream",
       "stream": "stdout",
       "text": [
        " 10\n",
        "0.16"
       ]
      },
      {
       "output_type": "stream",
       "stream": "stdout",
       "text": [
        " 10\n",
        "0.165"
       ]
      },
      {
       "output_type": "stream",
       "stream": "stdout",
       "text": [
        " 10\n",
        "0.17"
       ]
      },
      {
       "output_type": "stream",
       "stream": "stdout",
       "text": [
        " 10\n",
        "0.175"
       ]
      },
      {
       "output_type": "stream",
       "stream": "stdout",
       "text": [
        " 10\n",
        "0.18"
       ]
      },
      {
       "output_type": "stream",
       "stream": "stdout",
       "text": [
        " 10\n",
        "0.1803398875"
       ]
      },
      {
       "output_type": "stream",
       "stream": "stdout",
       "text": [
        " 10\n",
        "0.185"
       ]
      },
      {
       "output_type": "stream",
       "stream": "stdout",
       "text": [
        " 10\n",
        "0.19"
       ]
      },
      {
       "output_type": "stream",
       "stream": "stdout",
       "text": [
        " 10\n",
        "0.195"
       ]
      },
      {
       "output_type": "stream",
       "stream": "stdout",
       "text": [
        " 10\n",
        "0.2"
       ]
      },
      {
       "output_type": "stream",
       "stream": "stdout",
       "text": [
        " 10\n",
        "0.2016261238"
       ]
      },
      {
       "output_type": "stream",
       "stream": "stdout",
       "text": [
        " 10\n",
        "0.205"
       ]
      },
      {
       "output_type": "stream",
       "stream": "stdout",
       "text": [
        " 10\n",
        "0.21"
       ]
      },
      {
       "output_type": "stream",
       "stream": "stdout",
       "text": [
        " 10\n",
        "0.215"
       ]
      },
      {
       "output_type": "stream",
       "stream": "stdout",
       "text": [
        " 10\n",
        "0.22"
       ]
      },
      {
       "output_type": "stream",
       "stream": "stdout",
       "text": [
        " 10\n",
        "0.225"
       ]
      },
      {
       "output_type": "stream",
       "stream": "stdout",
       "text": [
        " 10\n",
        "0.23"
       ]
      },
      {
       "output_type": "stream",
       "stream": "stdout",
       "text": [
        " 10\n",
        "0.235"
       ]
      },
      {
       "output_type": "stream",
       "stream": "stdout",
       "text": [
        " 10\n",
        "0.2360679775"
       ]
      },
      {
       "output_type": "stream",
       "stream": "stdout",
       "text": [
        " 10\n",
        "0.24"
       ]
      },
      {
       "output_type": "stream",
       "stream": "stdout",
       "text": [
        " 10\n",
        "0.245"
       ]
      },
      {
       "output_type": "stream",
       "stream": "stdout",
       "text": [
        " 10\n",
        "0.25"
       ]
      },
      {
       "output_type": "stream",
       "stream": "stdout",
       "text": [
        " 10\n",
        "0.255"
       ]
      },
      {
       "output_type": "stream",
       "stream": "stdout",
       "text": [
        " 10\n",
        "0.26"
       ]
      },
      {
       "output_type": "stream",
       "stream": "stdout",
       "text": [
        " 10\n",
        "0.265"
       ]
      },
      {
       "output_type": "stream",
       "stream": "stdout",
       "text": [
        " 10\n",
        "0.27"
       ]
      },
      {
       "output_type": "stream",
       "stream": "stdout",
       "text": [
        " 10\n",
        "0.2705098312"
       ]
      },
      {
       "output_type": "stream",
       "stream": "stdout",
       "text": [
        " 10\n",
        "0.275"
       ]
      },
      {
       "output_type": "stream",
       "stream": "stdout",
       "text": [
        " 10\n",
        "0.28"
       ]
      },
      {
       "output_type": "stream",
       "stream": "stdout",
       "text": [
        " 10\n",
        "0.285"
       ]
      },
      {
       "output_type": "stream",
       "stream": "stdout",
       "text": [
        " 10\n",
        "0.29"
       ]
      },
      {
       "output_type": "stream",
       "stream": "stdout",
       "text": [
        " 10\n",
        "0.2917960675"
       ]
      },
      {
       "output_type": "stream",
       "stream": "stdout",
       "text": [
        " 10\n",
        "0.295"
       ]
      },
      {
       "output_type": "stream",
       "stream": "stdout",
       "text": [
        " 10\n",
        "0.3"
       ]
      },
      {
       "output_type": "stream",
       "stream": "stdout",
       "text": [
        " 10\n",
        "0.305"
       ]
      },
      {
       "output_type": "stream",
       "stream": "stdout",
       "text": [
        " 10\n",
        "0.31"
       ]
      },
      {
       "output_type": "stream",
       "stream": "stdout",
       "text": [
        " 10\n",
        "0.315"
       ]
      },
      {
       "output_type": "stream",
       "stream": "stdout",
       "text": [
        " 10\n",
        "0.32"
       ]
      },
      {
       "output_type": "stream",
       "stream": "stdout",
       "text": [
        " 10\n",
        "0.325"
       ]
      },
      {
       "output_type": "stream",
       "stream": "stdout",
       "text": [
        " 10\n",
        "0.3262379212"
       ]
      },
      {
       "output_type": "stream",
       "stream": "stdout",
       "text": [
        " 10\n",
        "0.33"
       ]
      },
      {
       "output_type": "stream",
       "stream": "stdout",
       "text": [
        " 10\n",
        "0.335"
       ]
      },
      {
       "output_type": "stream",
       "stream": "stdout",
       "text": [
        " 10\n",
        "0.34"
       ]
      },
      {
       "output_type": "stream",
       "stream": "stdout",
       "text": [
        " 10\n",
        "0.345"
       ]
      },
      {
       "output_type": "stream",
       "stream": "stdout",
       "text": [
        " 10\n",
        "0.3475241575"
       ]
      },
      {
       "output_type": "stream",
       "stream": "stdout",
       "text": [
        " 10\n",
        "0.35"
       ]
      },
      {
       "output_type": "stream",
       "stream": "stdout",
       "text": [
        " 10\n",
        "0.355"
       ]
      },
      {
       "output_type": "stream",
       "stream": "stdout",
       "text": [
        " 10\n",
        "0.36"
       ]
      },
      {
       "output_type": "stream",
       "stream": "stdout",
       "text": [
        " 10\n",
        "0.365"
       ]
      },
      {
       "output_type": "stream",
       "stream": "stdout",
       "text": [
        " 10\n",
        "0.37"
       ]
      },
      {
       "output_type": "stream",
       "stream": "stdout",
       "text": [
        " 10\n",
        "0.375"
       ]
      },
      {
       "output_type": "stream",
       "stream": "stdout",
       "text": [
        " 10\n",
        "0.38"
       ]
      },
      {
       "output_type": "stream",
       "stream": "stdout",
       "text": [
        " 10\n",
        "0.3819660113"
       ]
      },
      {
       "output_type": "stream",
       "stream": "stdout",
       "text": [
        " 10\n",
        "0.385"
       ]
      },
      {
       "output_type": "stream",
       "stream": "stdout",
       "text": [
        " 10\n",
        "0.39"
       ]
      },
      {
       "output_type": "stream",
       "stream": "stdout",
       "text": [
        " 10\n",
        "0.395"
       ]
      },
      {
       "output_type": "stream",
       "stream": "stdout",
       "text": [
        " 10\n",
        "0.4"
       ]
      },
      {
       "output_type": "stream",
       "stream": "stdout",
       "text": [
        " 10\n",
        "0.405"
       ]
      },
      {
       "output_type": "stream",
       "stream": "stdout",
       "text": [
        " 10\n",
        "0.41"
       ]
      },
      {
       "output_type": "stream",
       "stream": "stdout",
       "text": [
        " 10\n",
        "0.415"
       ]
      },
      {
       "output_type": "stream",
       "stream": "stdout",
       "text": [
        " 10\n",
        "0.416407865"
       ]
      },
      {
       "output_type": "stream",
       "stream": "stdout",
       "text": [
        " 10\n",
        "0.42"
       ]
      },
      {
       "output_type": "stream",
       "stream": "stdout",
       "text": [
        " 10\n",
        "0.425"
       ]
      },
      {
       "output_type": "stream",
       "stream": "stdout",
       "text": [
        " 10\n",
        "0.43"
       ]
      },
      {
       "output_type": "stream",
       "stream": "stdout",
       "text": [
        " 10\n",
        "0.435"
       ]
      },
      {
       "output_type": "stream",
       "stream": "stdout",
       "text": [
        " 10\n",
        "0.4376941013"
       ]
      },
      {
       "output_type": "stream",
       "stream": "stdout",
       "text": [
        " 10\n",
        "0.44"
       ]
      },
      {
       "output_type": "stream",
       "stream": "stdout",
       "text": [
        " 10\n",
        "0.445"
       ]
      },
      {
       "output_type": "stream",
       "stream": "stdout",
       "text": [
        " 10\n",
        "0.45"
       ]
      },
      {
       "output_type": "stream",
       "stream": "stdout",
       "text": [
        " 10\n",
        "0.455"
       ]
      },
      {
       "output_type": "stream",
       "stream": "stdout",
       "text": [
        " 10\n",
        "0.46"
       ]
      },
      {
       "output_type": "stream",
       "stream": "stdout",
       "text": [
        " 10\n",
        "0.465"
       ]
      },
      {
       "output_type": "stream",
       "stream": "stdout",
       "text": [
        " 10\n",
        "0.47"
       ]
      },
      {
       "output_type": "stream",
       "stream": "stdout",
       "text": [
        " 10\n",
        "0.472135955"
       ]
      },
      {
       "output_type": "stream",
       "stream": "stdout",
       "text": [
        " 10\n",
        "0.475"
       ]
      },
      {
       "output_type": "stream",
       "stream": "stdout",
       "text": [
        " 10\n",
        "0.48"
       ]
      },
      {
       "output_type": "stream",
       "stream": "stdout",
       "text": [
        " 10\n",
        "0.485"
       ]
      },
      {
       "output_type": "stream",
       "stream": "stdout",
       "text": [
        " 10\n",
        "0.49"
       ]
      },
      {
       "output_type": "stream",
       "stream": "stdout",
       "text": [
        " 10\n",
        "0.495"
       ]
      },
      {
       "output_type": "stream",
       "stream": "stdout",
       "text": [
        " 10\n",
        "0.5"
       ]
      },
      {
       "output_type": "stream",
       "stream": "stdout",
       "text": [
        " 10\n"
       ]
      }
     ],
     "prompt_number": 52
    },
    {
     "cell_type": "code",
     "collapsed": false,
     "input": [
      "# with inset\n",
      "#http://akuederle.com/matplotlib-zoomed-up-inset\n",
      "\n",
      "from mpl_toolkits.axes_grid1.inset_locator import zoomed_inset_axes\n",
      "from mpl_toolkits.axes_grid1.inset_locator import mark_inset\n",
      "\n",
      "\n",
      "fig, ax = plt.subplots(figsize=(8,6))\n",
      "\n",
      "ax.tick_params(axis='both',which='both',direction='out')\n",
      "\n",
      "m = 15\n",
      "\n",
      "color=cm.jet(np.linspace(0,1,m))\n",
      "\n",
      "#ls =['-', '--', '-.',':',' ']\n",
      "\n",
      "overlap = [1, 4, 7, 9, 12, 14]\n",
      "\n",
      "for i in range(1,m+1):\n",
      "#    plt.axvline(EquivGam(i * tau), 0, 1, dashes=[i*2,i,3,i],alpha=1.,lw=2,color=color[i-1], label=i)\n",
      "\n",
      "    if i in overlap:\n",
      "        plt.axvline(EquivGam(i * tau), 0, 0.2, ls='-',alpha=.5,lw=1.5,color='black', label=i)\n",
      "        plt.axvline(EquivGam(i * tau), 0.3, 1, ls='-',alpha=.5,lw=1.5,color='black', label=i)\n",
      "    else:\n",
      "        plt.axvline(EquivGam(i * tau), 0, 1, ls='-',alpha=.5,lw=1.5,color='black', label=i)\n",
      "\n",
      "    if i==1:\n",
      "        text = r'$\\tau$'.format(int(i*tau))\n",
      "    else:\n",
      "        text = r'{:d}$\\tau$'.format(i,int(i*tau))\n",
      "\n",
      "    \n",
      "\n",
      "    x = EquivGam(i*tau)\n",
      "    ind = np.argmin(unique_gam < x)\n",
      "    y = fits[ind-1]\n",
      "    \n",
      "    print x, y, ind\n",
      "    \n",
      "    plt.annotate(text, family='monospace',\n",
      "                 #xy=(x,y-0.0025),\n",
      "                 xy=(x,0.1475),\n",
      "                xycoords='data',\n",
      "#                xytext=(0, 320*(-0.45 + EquivGam(i * tau))), textcoords='offset points',\n",
      "                xytext=(0,0), textcoords='offset points',\n",
      "                horizontalalignment='center', verticalalignment='center',fontsize=10,\n",
      "                bbox=dict(facecolor='white', edgecolor='None', alpha=1.0,pad=3.0)\n",
      "                )\n",
      "\n",
      "\n",
      "plt.errorbar(unique_gam, fits, yerr=err,color='black',lw=3,alpha=0.5)\n",
      "plt.plot(unique_gam, fits, color='black',lw=3)\n",
      "\n",
      "ax.set_xticks(np.arange(0,0.55,0.05),minor=True)\n",
      "ax.set_yticks(np.arange(0.145,0.185,0.0025),minor=True)\n",
      "\n",
      "plt.ylim(0.145,0.1775)\n",
      "\n",
      "#plt.legend(title='$n$',bbox_to_anchor=(0.72,0.62))\n",
      "plt.ylabel(r'$\\overline{\\Lambda}(\\infty)$',fontsize=25)\n",
      "plt.xlabel(r'$\\gamma$',fontsize=25)\n",
      "#plt.tight_layout()\n",
      "#fig.subplots_adjust(left=0.16,right=.95,bottom=0.14)#,top=0.95)\n",
      "#fig.savefig('fig_lambda_global.pdf',dpi=600)\n",
      "\n",
      "axins = zoomed_inset_axes(ax, 12, loc=5) # zoom-factor: 2.5, location: upper-left\n",
      "\n",
      "#x1, x2, y1, y2 = 0.374, 0.387, 0.1702, 0.1716 # specify the limits\n",
      "x1, x2, y1, y2 = 0.374, 0.387, 0.1701, 0.1714 # specify the limits\n",
      "axins.set_xlim(x1, x2) # apply the x-limits\n",
      "axins.set_ylim(y1, y2) # apply the y-limits\n",
      "\n",
      "plt.yticks(visible=False)\n",
      "#plt.xticks(visible=False)\n",
      "plt.xticks([0.375, 0.38,0.385])\n",
      "\n",
      "mark_inset(ax, axins, loc1=2, loc2=1, fc=\"none\", ec=\"0\")\n",
      "\n",
      "t = np.load('localmin.npz')\n",
      "local_g = t['g']\n",
      "local_fits = t['lg']\n",
      "local_err = t['lg_err']\n",
      "\n",
      "#axins.errorbar(local_g, local_fits, yerr=local_err,color='black',lw=3,alpha=0.3)\n",
      "#axins.errorbar(local_g, local_fits, yerr=local_err,color='black',lw=3,alpha=0.3)\n",
      "axins.plot(local_g, local_fits-0.0005,color='black',lw=3,marker='o',markersize=5)\n",
      "axins.axvline(EquivGam(tau), 0, 1, ls='-',alpha=0.5,lw=1.5,color='black')\n",
      "axins.annotate(r'$\\tau$', family='monospace',\n",
      "                 #xy=(x,y-0.0025),\n",
      "                 xy=(EquivGam(tau),0.171),\n",
      "                xycoords='data',\n",
      "#                xytext=(0, 320*(-0.45 + EquivGam(i * tau))), textcoords='offset points',\n",
      "                xytext=(0,0), textcoords='offset points',\n",
      "                horizontalalignment='center', verticalalignment='center',fontsize=20,\n",
      "                bbox=dict(facecolor='white', edgecolor='None', alpha=1.0,pad=3.0)\n",
      "                )\n",
      "\n",
      "plt.tight_layout()\n",
      "fig.subplots_adjust(left=0.16,right=.95,bottom=0.14)#,top=0.95)\n",
      "fig.savefig('fig_lambda_global.pdf',dpi=600)"
     ],
     "language": "python",
     "metadata": {},
     "outputs": [
      {
       "output_type": "stream",
       "stream": "stdout",
       "text": [
        "0.38196601125 0.171019473262 88\n",
        "0.2360679775 0.166324672778 54\n",
        "0.14589803375 0.161677079874 33\n",
        "0.472135955 0.175808365025 109\n",
        "0.0901699437495 0.158092640355 22\n",
        "0.291796067501 0.170132041552 68\n",
        "0.326237921249 0.171332076719 76\n",
        "0.0557280900008 0.155305709805 14\n",
        "0.437694101251 0.175302099672 101\n",
        "0.180339887499 0.164699867157 41\n",
        "0.201626123751 0.165829409058 46\n",
        "0.416407864999 0.174260414299 96\n",
        "0.0344418537486 0.153195584185 8\n",
        "0.347524157501 0.17188571238 81\n",
        "0.270509831248 0.169383562848 63\n"
       ]
      },
      {
       "metadata": {},
       "output_type": "display_data",
       "png": "[encoded data removed]",
       "text": [
        "<matplotlib.figure.Figure at 0x1144541d0>"
       ]
      }
     ],
     "prompt_number": 53
    }
   ],
   "metadata": {}
  }
 ]
}