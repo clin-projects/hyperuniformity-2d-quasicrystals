{
 "metadata": {
  "name": "",
  "signature": "sha256:a4b692efcd9327ad971ad375e1df7ef6f6b7b758ee0b4d2446c568426544eaa4"
 },
 "nbformat": 3,
 "nbformat_minor": 0,
 "worksheets": [
  {
   "cells": [
    {
     "cell_type": "code",
     "collapsed": false,
     "input": [
      "import glob\n",
      "import matplotlib as mpl\n",
      "import matplotlib.pyplot as plt\n",
      "import numpy as np\n",
      "import os\n",
      "from matplotlib.pyplot import cm \n",
      "from scipy.optimize import curve_fit\n",
      "\n",
      "def f(x,a,b):\n",
      "    return a*x + b\n",
      "\n",
      "%matplotlib inline\n",
      "\n",
      "mpl.rc(\"savefig\", dpi=100)\n",
      "\n",
      "font = {'family' : 'Times New Roman',\n",
      "        'weight' : 'normal',\n",
      "        'size'   : 20}\n",
      "\n",
      "# mpl.rcParams['text.usetex'] = True\n",
      "# mpl.rcParams['text.latex.preamble'] = [r'\\usepackage{amsmath}'] #for \\text command\n",
      "\n",
      "mpl.rc('font', **font)\n",
      "\n",
      "def CalcSmoothN(x,y,n):\n",
      "    # does cumulative average\n",
      "    # applies trapezoidal rule, returns new [x,y]\n",
      "    #\n",
      "    smoothy = []\n",
      "    midpt_x = []\n",
      "    cursum = 0\n",
      "    N = len(y)\n",
      "    x0 = (x[0] + x[1])/2\n",
      "    for i in range(1,N-1):\n",
      "        cur_integrand = (y[i]*x[i]**n + y[i+1]*x[i+1]**n)/2\n",
      "        cur_x = (x[i] +x[i+1])/2\n",
      "        dx = x[i+1] - x[i]\n",
      "        cursum += cur_integrand * dx\n",
      "        smoothy.append(cursum / (cur_x - x0)**(n+1))\n",
      "        midpt_x.append(cur_x)\n",
      "    return np.array(midpt_x), np.array(smoothy)\n",
      "\n",
      "def EquivGam(g):\n",
      "    if g % 1 <= 0.5:\n",
      "        return g % 1\n",
      "    else:\n",
      "        return 1 - g % 1\n",
      "\n",
      "tau = (1+5**.5) / 2\n",
      "rho = 2*(tau+1) / (tau+2) / (3-tau)**.5"
     ],
     "language": "python",
     "metadata": {},
     "outputs": [],
     "prompt_number": 1
    },
    {
     "cell_type": "code",
     "collapsed": false,
     "input": [
      "files = glob.glob('./out/*rmax_400*.npz')\n",
      "\n",
      "m = len(files)\n",
      "\n",
      "gam = []\n",
      "kmax = []\n",
      "seeds = []\n",
      "for i in range(m):\n",
      "    print files[i]\n",
      "    t = np.load(files[i])\n",
      "    \n",
      "    gammasum = float(t['gammasum'])\n",
      "    kmax.append(int(t['kmax']))\n",
      "    seeds.append(int(t['seed']))\n",
      "    gam.append(round(gammasum % 1,10))\n",
      "    \n",
      "    fsplit = files[i].split('_')\n",
      "    ind = fsplit.index('g')+1\n",
      "    cur_g_str = fsplit[ind]\n",
      "    \n",
      "    if round(gammasum % 1,10) != float(cur_g_str):\n",
      "        print i\n",
      "        fsplit = files[i].split('_')\n",
      "        ind = fsplit.index('g')+1\n",
      "        cur_g_str = fsplit[ind]\n",
      "        new_fname = files[i].replace('g_'+cur_g_str,'g_'+str(round(gammasum % 1, 10)))\n",
      "        os.rename(files[i], new_fname)\n",
      "\n",
      "kmax = np.array(kmax)\n",
      "seeds = np.array(seeds)\n",
      "gam = np.array(gam)\n",
      "unique_gam = np.unique(gam)\n",
      "\n",
      "print len(unique_gam)\n",
      "for i in unique_gam:\n",
      "    print i,','"
     ],
     "language": "python",
     "metadata": {},
     "outputs": [
      {
       "output_type": "stream",
       "stream": "stdout",
       "text": [
        "./out/var_g_0.375_s_10_k_400_win_10000_int_2000_N_3474807_lin_rmax_400.npz\n",
        "./out/var_g_0.375_s_1_k_400_win_10000_int_2000_N_3480490_lin_rmax_400.npz\n",
        "./out/var_g_0.375_s_2_k_400_win_10000_int_2000_N_3474800_lin_rmax_400.npz\n",
        "./out/var_g_0.375_s_3_k_400_win_10000_int_2000_N_3480452_lin_rmax_400.npz\n",
        "./out/var_g_0.375_s_4_k_400_win_10000_int_2000_N_3480522_lin_rmax_400.npz\n",
        "./out/var_g_0.375_s_5_k_400_win_10000_int_2000_N_3467037_lin_rmax_400.npz\n",
        "./out/var_g_0.375_s_6_k_400_win_10000_int_2000_N_3472684_lin_rmax_400.npz"
       ]
      },
      {
       "output_type": "stream",
       "stream": "stdout",
       "text": [
        "\n",
        "./out/var_g_0.375_s_7_k_400_win_10000_int_2000_N_3480519_lin_rmax_400.npz\n",
        "./out/var_g_0.375_s_8_k_400_win_10000_int_2000_N_3480514_lin_rmax_400.npz\n",
        "./out/var_g_0.375_s_9_k_400_win_10000_int_2000_N_3474813_lin_rmax_400.npz\n",
        "./out/var_g_0.3760_s_10_k_400_win_10000_int_2000_N_3474807_lin_rmax_400.npz\n",
        "./out/var_g_0.3760_s_1_k_400_win_10000_int_2000_N_3480490_lin_rmax_400.npz\n",
        "./out/var_g_0.3760_s_2_k_400_win_10000_int_2000_N_3474800_lin_rmax_400.npz"
       ]
      },
      {
       "output_type": "stream",
       "stream": "stdout",
       "text": [
        "\n",
        "./out/var_g_0.3760_s_3_k_400_win_10000_int_2000_N_3480453_lin_rmax_400.npz\n",
        "./out/var_g_0.3760_s_4_k_400_win_10000_int_2000_N_3480519_lin_rmax_400.npz\n",
        "./out/var_g_0.3760_s_5_k_400_win_10000_int_2000_N_3467036_lin_rmax_400.npz\n",
        "./out/var_g_0.3760_s_6_k_400_win_10000_int_2000_N_3472684_lin_rmax_400.npz\n",
        "./out/var_g_0.3760_s_7_k_400_win_10000_int_2000_N_3480519_lin_rmax_400.npz\n",
        "./out/var_g_0.3760_s_8_k_400_win_10000_int_2000_N_3480515_lin_rmax_400.npz\n",
        "./out/var_g_0.3760_s_9_k_400_win_10000_int_2000_N_3474815_lin_rmax_400.npz\n",
        "./out/var_g_0.3770_s_10_k_400_win_10000_int_2000_N_3474808_lin_rmax_400.npz\n",
        "./out/var_g_0.3770_s_1_k_400_win_10000_int_2000_N_3480489_lin_rmax_400.npz\n",
        "./out/var_g_0.3770_s_2_k_400_win_10000_int_2000_N_3474797_lin_rmax_400.npz"
       ]
      },
      {
       "output_type": "stream",
       "stream": "stdout",
       "text": [
        "\n",
        "./out/var_g_0.3770_s_3_k_400_win_10000_int_2000_N_3480453_lin_rmax_400.npz\n",
        "./out/var_g_0.3770_s_4_k_400_win_10000_int_2000_N_3480521_lin_rmax_400.npz\n",
        "./out/var_g_0.3770_s_5_k_400_win_10000_int_2000_N_3467035_lin_rmax_400.npz\n",
        "./out/var_g_0.3770_s_6_k_400_win_10000_int_2000_N_3472684_lin_rmax_400.npz\n",
        "./out/var_g_0.3770_s_7_k_400_win_10000_int_2000_N_3480518_lin_rmax_400.npz\n",
        "./out/var_g_0.3770_s_8_k_400_win_10000_int_2000_N_3480513_lin_rmax_400.npz\n",
        "./out/var_g_0.3770_s_9_k_400_win_10000_int_2000_N_3474819_lin_rmax_400.npz\n",
        "./out/var_g_0.3780_s_10_k_400_win_10000_int_2000_N_3474808_lin_rmax_400.npz\n",
        "./out/var_g_0.3780_s_1_k_400_win_10000_int_2000_N_3480492_lin_rmax_400.npz\n",
        "./out/var_g_0.3780_s_2_k_400_win_10000_int_2000_N_3474798_lin_rmax_400.npz\n",
        "./out/var_g_0.3780_s_3_k_400_win_10000_int_2000_N_3480453_lin_rmax_400.npz\n",
        "./out/var_g_0.3780_s_4_k_400_win_10000_int_2000_N_3480522_lin_rmax_400.npz"
       ]
      },
      {
       "output_type": "stream",
       "stream": "stdout",
       "text": [
        "\n",
        "./out/var_g_0.3780_s_5_k_400_win_10000_int_2000_N_3467035_lin_rmax_400.npz\n",
        "./out/var_g_0.3780_s_6_k_400_win_10000_int_2000_N_3472680_lin_rmax_400.npz\n",
        "./out/var_g_0.3780_s_7_k_400_win_10000_int_2000_N_3480514_lin_rmax_400.npz\n",
        "./out/var_g_0.3780_s_8_k_400_win_10000_int_2000_N_3480513_lin_rmax_400.npz\n",
        "./out/var_g_0.3780_s_9_k_400_win_10000_int_2000_N_3474818_lin_rmax_400.npz\n",
        "./out/var_g_0.3790_s_10_k_400_win_10000_int_2000_N_3474809_lin_rmax_400.npz\n",
        "./out/var_g_0.3790_s_1_k_400_win_10000_int_2000_N_3480492_lin_rmax_400.npz"
       ]
      },
      {
       "output_type": "stream",
       "stream": "stdout",
       "text": [
        "\n",
        "./out/var_g_0.3790_s_2_k_400_win_10000_int_2000_N_3474798_lin_rmax_400.npz\n",
        "./out/var_g_0.3790_s_3_k_400_win_10000_int_2000_N_3480453_lin_rmax_400.npz\n",
        "./out/var_g_0.3790_s_4_k_400_win_10000_int_2000_N_3480521_lin_rmax_400.npz\n",
        "./out/var_g_0.3790_s_5_k_400_win_10000_int_2000_N_3467037_lin_rmax_400.npz\n",
        "./out/var_g_0.3790_s_6_k_400_win_10000_int_2000_N_3472680_lin_rmax_400.npz\n",
        "./out/var_g_0.3790_s_7_k_400_win_10000_int_2000_N_3480513_lin_rmax_400.npz"
       ]
      },
      {
       "output_type": "stream",
       "stream": "stdout",
       "text": [
        "\n",
        "./out/var_g_0.3790_s_8_k_400_win_10000_int_2000_N_3480512_lin_rmax_400.npz\n",
        "./out/var_g_0.3790_s_9_k_400_win_10000_int_2000_N_3474819_lin_rmax_400.npz\n",
        "./out/var_g_0.3795_s_10_k_400_win_10000_int_2000_N_3474809_lin_rmax_400.npz\n",
        "./out/var_g_0.3795_s_1_k_400_win_10000_int_2000_N_3480492_lin_rmax_400.npz\n",
        "./out/var_g_0.3795_s_2_k_400_win_10000_int_2000_N_3474798_lin_rmax_400.npz\n",
        "./out/var_g_0.3795_s_3_k_400_win_10000_int_2000_N_3480453_lin_rmax_400.npz"
       ]
      },
      {
       "output_type": "stream",
       "stream": "stdout",
       "text": [
        "\n",
        "./out/var_g_0.3795_s_4_k_400_win_10000_int_2000_N_3480523_lin_rmax_400.npz\n",
        "./out/var_g_0.3795_s_5_k_400_win_10000_int_2000_N_3467036_lin_rmax_400.npz\n",
        "./out/var_g_0.3795_s_6_k_400_win_10000_int_2000_N_3472680_lin_rmax_400.npz\n",
        "./out/var_g_0.3795_s_7_k_400_win_10000_int_2000_N_3480512_lin_rmax_400.npz\n",
        "./out/var_g_0.3795_s_8_k_400_win_10000_int_2000_N_3480512_lin_rmax_400.npz\n",
        "./out/var_g_0.3795_s_9_k_400_win_10000_int_2000_N_3474819_lin_rmax_400.npz"
       ]
      },
      {
       "output_type": "stream",
       "stream": "stdout",
       "text": [
        "\n",
        "./out/var_g_0.37_s_10_k_400_win_10000_int_2000_N_3474806_lin_rmax_400.npz\n",
        "./out/var_g_0.37_s_1_k_400_win_10000_int_2000_N_3480487_lin_rmax_400.npz\n",
        "./out/var_g_0.37_s_2_k_400_win_10000_int_2000_N_3474801_lin_rmax_400.npz\n",
        "./out/var_g_0.37_s_3_k_400_win_10000_int_2000_N_3480448_lin_rmax_400.npz"
       ]
      },
      {
       "output_type": "stream",
       "stream": "stdout",
       "text": [
        "\n",
        "./out/var_g_0.37_s_4_k_400_win_10000_int_2000_N_3480524_lin_rmax_400.npz\n",
        "./out/var_g_0.37_s_5_k_400_win_10000_int_2000_N_3467041_lin_rmax_400.npz\n",
        "./out/var_g_0.37_s_6_k_400_win_10000_int_2000_N_3472690_lin_rmax_400.npz\n",
        "./out/var_g_0.37_s_7_k_400_win_10000_int_2000_N_3480524_lin_rmax_400.npz\n",
        "./out/var_g_0.37_s_8_k_400_win_10000_int_2000_N_3480513_lin_rmax_400.npz\n",
        "./out/var_g_0.37_s_9_k_400_win_10000_int_2000_N_3474811_lin_rmax_400.npz"
       ]
      },
      {
       "output_type": "stream",
       "stream": "stdout",
       "text": [
        "\n",
        "./out/var_g_0.3800_s_1_k_400_win_10000_int_2000_N_3480492_lin_rmax_400.npz\n",
        "./out/var_g_0.3800_s_6_k_400_win_10000_int_2000_N_3472680_lin_rmax_400.npz\n",
        "./out/var_g_0.3800_s_8_k_400_win_10000_int_2000_N_3480511_lin_rmax_400.npz\n",
        "./out/var_g_0.3805_s_10_k_400_win_10000_int_2000_N_3474809_lin_rmax_400.npz\n",
        "./out/var_g_0.3805_s_1_k_400_win_10000_int_2000_N_3480492_lin_rmax_400.npz\n",
        "./out/var_g_0.3805_s_2_k_400_win_10000_int_2000_N_3474798_lin_rmax_400.npz\n",
        "./out/var_g_0.3805_s_3_k_400_win_10000_int_2000_N_3480452_lin_rmax_400.npz\n",
        "./out/var_g_0.3805_s_4_k_400_win_10000_int_2000_N_3480522_lin_rmax_400.npz\n",
        "./out/var_g_0.3805_s_5_k_400_win_10000_int_2000_N_3467037_lin_rmax_400.npz"
       ]
      },
      {
       "output_type": "stream",
       "stream": "stdout",
       "text": [
        "\n",
        "./out/var_g_0.3805_s_6_k_400_win_10000_int_2000_N_3472680_lin_rmax_400.npz\n",
        "./out/var_g_0.3805_s_7_k_400_win_10000_int_2000_N_3480510_lin_rmax_400.npz\n",
        "./out/var_g_0.3805_s_8_k_400_win_10000_int_2000_N_3480511_lin_rmax_400.npz\n",
        "./out/var_g_0.3805_s_9_k_400_win_10000_int_2000_N_3474814_lin_rmax_400.npz\n",
        "./out/var_g_0.3810_s_10_k_400_win_10000_int_2000_N_3474808_lin_rmax_400.npz\n",
        "./out/var_g_0.3810_s_1_k_400_win_10000_int_2000_N_3480492_lin_rmax_400.npz\n",
        "./out/var_g_0.3810_s_2_k_400_win_10000_int_2000_N_3474798_lin_rmax_400.npz\n",
        "./out/var_g_0.3810_s_3_k_400_win_10000_int_2000_N_3480454_lin_rmax_400.npz"
       ]
      },
      {
       "output_type": "stream",
       "stream": "stdout",
       "text": [
        "\n",
        "./out/var_g_0.3810_s_4_k_400_win_10000_int_2000_N_3480522_lin_rmax_400.npz\n",
        "./out/var_g_0.3810_s_5_k_400_win_10000_int_2000_N_3467037_lin_rmax_400.npz\n",
        "./out/var_g_0.3810_s_6_k_400_win_10000_int_2000_N_3472680_lin_rmax_400.npz\n",
        "./out/var_g_0.3810_s_7_k_400_win_10000_int_2000_N_3480515_lin_rmax_400.npz\n",
        "./out/var_g_0.3810_s_8_k_400_win_10000_int_2000_N_3480511_lin_rmax_400.npz\n",
        "./out/var_g_0.3810_s_9_k_400_win_10000_int_2000_N_3474814_lin_rmax_400.npz\n",
        "./out/var_g_0.3815_s_10_k_400_win_10000_int_2000_N_3474809_lin_rmax_400.npz\n",
        "./out/var_g_0.3815_s_1_k_400_win_10000_int_2000_N_3480492_lin_rmax_400.npz\n",
        "./out/var_g_0.3815_s_2_k_400_win_10000_int_2000_N_3474797_lin_rmax_400.npz\n",
        "./out/var_g_0.3815_s_3_k_400_win_10000_int_2000_N_3480455_lin_rmax_400.npz\n",
        "./out/var_g_0.3815_s_4_k_400_win_10000_int_2000_N_3480522_lin_rmax_400.npz\n",
        "./out/var_g_0.3815_s_5_k_400_win_10000_int_2000_N_3467037_lin_rmax_400.npz"
       ]
      },
      {
       "output_type": "stream",
       "stream": "stdout",
       "text": [
        "\n",
        "./out/var_g_0.3815_s_6_k_400_win_10000_int_2000_N_3472680_lin_rmax_400.npz\n",
        "./out/var_g_0.3815_s_7_k_400_win_10000_int_2000_N_3480515_lin_rmax_400.npz\n",
        "./out/var_g_0.3815_s_8_k_400_win_10000_int_2000_N_3480511_lin_rmax_400.npz\n",
        "./out/var_g_0.3815_s_9_k_400_win_10000_int_2000_N_3474812_lin_rmax_400.npz\n",
        "./out/var_g_0.3819660113_s_10_k_400_win_10000_int_2000_N_3474809_lin_rmax_400.npz\n",
        "./out/var_g_0.3819660113_s_1_k_400_win_10000_int_2000_N_3480492_lin_rmax_400.npz\n",
        "./out/var_g_0.3819660113_s_2_k_400_win_10000_int_2000_N_3474797_lin_rmax_400.npz\n",
        "./out/var_g_0.3819660113_s_3_k_400_win_10000_int_2000_N_3480454_lin_rmax_400.npz\n",
        "./out/var_g_0.3819660113_s_4_k_400_win_10000_int_2000_N_3480522_lin_rmax_400.npz"
       ]
      },
      {
       "output_type": "stream",
       "stream": "stdout",
       "text": [
        "\n",
        "./out/var_g_0.3819660113_s_5_k_400_win_10000_int_2000_N_3467038_lin_rmax_400.npz\n",
        "./out/var_g_0.3819660113_s_6_k_400_win_10000_int_2000_N_3472680_lin_rmax_400.npz\n",
        "./out/var_g_0.3819660113_s_7_k_400_win_10000_int_2000_N_3480515_lin_rmax_400.npz\n",
        "./out/var_g_0.3819660113_s_8_k_400_win_10000_int_2000_N_3480511_lin_rmax_400.npz\n",
        "./out/var_g_0.3819660113_s_9_k_400_win_10000_int_2000_N_3474809_lin_rmax_400.npz"
       ]
      },
      {
       "output_type": "stream",
       "stream": "stdout",
       "text": [
        "\n",
        "./out/var_g_0.3820_s_10_k_400_win_10000_int_2000_N_3474809_lin_rmax_400.npz\n",
        "./out/var_g_0.3820_s_1_k_400_win_10000_int_2000_N_3480492_lin_rmax_400.npz\n",
        "./out/var_g_0.3820_s_2_k_400_win_10000_int_2000_N_3474797_lin_rmax_400.npz\n",
        "./out/var_g_0.3820_s_3_k_400_win_10000_int_2000_N_3480454_lin_rmax_400.npz\n",
        "./out/var_g_0.3820_s_4_k_400_win_10000_int_2000_N_3480522_lin_rmax_400.npz\n",
        "./out/var_g_0.3820_s_5_k_400_win_10000_int_2000_N_3467038_lin_rmax_400.npz\n",
        "./out/var_g_0.3820_s_6_k_400_win_10000_int_2000_N_3472680_lin_rmax_400.npz\n",
        "./out/var_g_0.3820_s_7_k_400_win_10000_int_2000_N_3480515_lin_rmax_400.npz\n",
        "./out/var_g_0.3820_s_8_k_400_win_10000_int_2000_N_3480511_lin_rmax_400.npz\n",
        "./out/var_g_0.3820_s_9_k_400_win_10000_int_2000_N_3474809_lin_rmax_400.npz\n",
        "./out/var_g_0.3825_s_10_k_400_win_10000_int_2000_N_3474809_lin_rmax_400.npz"
       ]
      },
      {
       "output_type": "stream",
       "stream": "stdout",
       "text": [
        "\n",
        "./out/var_g_0.3825_s_1_k_400_win_10000_int_2000_N_3480493_lin_rmax_400.npz\n",
        "./out/var_g_0.3825_s_2_k_400_win_10000_int_2000_N_3474799_lin_rmax_400.npz\n",
        "./out/var_g_0.3825_s_3_k_400_win_10000_int_2000_N_3480454_lin_rmax_400.npz\n",
        "./out/var_g_0.3825_s_4_k_400_win_10000_int_2000_N_3480522_lin_rmax_400.npz\n",
        "./out/var_g_0.3825_s_5_k_400_win_10000_int_2000_N_3467038_lin_rmax_400.npz\n",
        "./out/var_g_0.3825_s_6_k_400_win_10000_int_2000_N_3472679_lin_rmax_400.npz\n",
        "./out/var_g_0.3825_s_7_k_400_win_10000_int_2000_N_3480515_lin_rmax_400.npz\n",
        "./out/var_g_0.3825_s_8_k_400_win_10000_int_2000_N_3480511_lin_rmax_400.npz\n",
        "./out/var_g_0.3825_s_9_k_400_win_10000_int_2000_N_3474809_lin_rmax_400.npz\n",
        "./out/var_g_0.3830_s_10_k_400_win_10000_int_2000_N_3474809_lin_rmax_400.npz"
       ]
      },
      {
       "output_type": "stream",
       "stream": "stdout",
       "text": [
        "\n",
        "./out/var_g_0.3830_s_1_k_400_win_10000_int_2000_N_3480491_lin_rmax_400.npz\n",
        "./out/var_g_0.3830_s_2_k_400_win_10000_int_2000_N_3474800_lin_rmax_400.npz\n",
        "./out/var_g_0.3830_s_3_k_400_win_10000_int_2000_N_3480454_lin_rmax_400.npz\n",
        "./out/var_g_0.3830_s_4_k_400_win_10000_int_2000_N_3480522_lin_rmax_400.npz\n",
        "./out/var_g_0.3830_s_5_k_400_win_10000_int_2000_N_3467038_lin_rmax_400.npz\n",
        "./out/var_g_0.3830_s_6_k_400_win_10000_int_2000_N_3472677_lin_rmax_400.npz\n",
        "./out/var_g_0.3830_s_7_k_400_win_10000_int_2000_N_3480517_lin_rmax_400.npz\n",
        "./out/var_g_0.3830_s_8_k_400_win_10000_int_2000_N_3480511_lin_rmax_400.npz\n",
        "./out/var_g_0.3830_s_9_k_400_win_10000_int_2000_N_3474809_lin_rmax_400.npz\n",
        "./out/var_g_0.3835_s_10_k_400_win_10000_int_2000_N_3474809_lin_rmax_400.npz"
       ]
      },
      {
       "output_type": "stream",
       "stream": "stdout",
       "text": [
        "\n",
        "./out/var_g_0.3835_s_1_k_400_win_10000_int_2000_N_3480491_lin_rmax_400.npz\n",
        "./out/var_g_0.3835_s_2_k_400_win_10000_int_2000_N_3474800_lin_rmax_400.npz\n",
        "./out/var_g_0.3835_s_3_k_400_win_10000_int_2000_N_3480453_lin_rmax_400.npz\n",
        "./out/var_g_0.3835_s_4_k_400_win_10000_int_2000_N_3480522_lin_rmax_400.npz\n",
        "./out/var_g_0.3835_s_5_k_400_win_10000_int_2000_N_3467037_lin_rmax_400.npz\n",
        "./out/var_g_0.3835_s_6_k_400_win_10000_int_2000_N_3472677_lin_rmax_400.npz\n",
        "./out/var_g_0.3835_s_7_k_400_win_10000_int_2000_N_3480517_lin_rmax_400.npz\n",
        "./out/var_g_0.3835_s_8_k_400_win_10000_int_2000_N_3480511_lin_rmax_400.npz"
       ]
      },
      {
       "output_type": "stream",
       "stream": "stdout",
       "text": [
        "\n",
        "./out/var_g_0.3835_s_9_k_400_win_10000_int_2000_N_3474809_lin_rmax_400.npz\n",
        "./out/var_g_0.3840_s_10_k_400_win_10000_int_2000_N_3474809_lin_rmax_400.npz\n",
        "./out/var_g_0.3840_s_1_k_400_win_10000_int_2000_N_3480491_lin_rmax_400.npz\n",
        "./out/var_g_0.3840_s_2_k_400_win_10000_int_2000_N_3474800_lin_rmax_400.npz\n",
        "./out/var_g_0.3840_s_3_k_400_win_10000_int_2000_N_3480456_lin_rmax_400.npz\n",
        "./out/var_g_0.3840_s_4_k_400_win_10000_int_2000_N_3480521_lin_rmax_400.npz\n",
        "./out/var_g_0.3840_s_5_k_400_win_10000_int_2000_N_3467037_lin_rmax_400.npz"
       ]
      },
      {
       "output_type": "stream",
       "stream": "stdout",
       "text": [
        "\n",
        "./out/var_g_0.3840_s_6_k_400_win_10000_int_2000_N_3472677_lin_rmax_400.npz\n",
        "./out/var_g_0.3840_s_7_k_400_win_10000_int_2000_N_3480519_lin_rmax_400.npz\n",
        "./out/var_g_0.3840_s_8_k_400_win_10000_int_2000_N_3480511_lin_rmax_400.npz\n",
        "./out/var_g_0.3840_s_9_k_400_win_10000_int_2000_N_3474809_lin_rmax_400.npz\n",
        "./out/var_g_0.3845_s_10_k_400_win_10000_int_2000_N_3474809_lin_rmax_400.npz\n",
        "./out/var_g_0.3845_s_1_k_400_win_10000_int_2000_N_3480491_lin_rmax_400.npz\n",
        "./out/var_g_0.3845_s_2_k_400_win_10000_int_2000_N_3474801_lin_rmax_400.npz\n",
        "./out/var_g_0.3845_s_3_k_400_win_10000_int_2000_N_3480457_lin_rmax_400.npz\n",
        "./out/var_g_0.3845_s_4_k_400_win_10000_int_2000_N_3480521_lin_rmax_400.npz\n",
        "./out/var_g_0.3845_s_5_k_400_win_10000_int_2000_N_3467038_lin_rmax_400.npz\n",
        "./out/var_g_0.3845_s_6_k_400_win_10000_int_2000_N_3472677_lin_rmax_400.npz"
       ]
      },
      {
       "output_type": "stream",
       "stream": "stdout",
       "text": [
        "\n",
        "./out/var_g_0.3845_s_7_k_400_win_10000_int_2000_N_3480519_lin_rmax_400.npz\n",
        "./out/var_g_0.3845_s_8_k_400_win_10000_int_2000_N_3480511_lin_rmax_400.npz\n",
        "./out/var_g_0.3845_s_9_k_400_win_10000_int_2000_N_3474808_lin_rmax_400.npz\n",
        "./out/var_g_0.385_s_10_k_400_win_10000_int_2000_N_3474809_lin_rmax_400.npz\n",
        "./out/var_g_0.385_s_1_k_400_win_10000_int_2000_N_3480491_lin_rmax_400.npz\n",
        "./out/var_g_0.385_s_2_k_400_win_10000_int_2000_N_3474801_lin_rmax_400.npz\n",
        "./out/var_g_0.385_s_3_k_400_win_10000_int_2000_N_3480457_lin_rmax_400.npz\n",
        "./out/var_g_0.385_s_4_k_400_win_10000_int_2000_N_3480521_lin_rmax_400.npz"
       ]
      },
      {
       "output_type": "stream",
       "stream": "stdout",
       "text": [
        "\n",
        "./out/var_g_0.385_s_5_k_400_win_10000_int_2000_N_3467038_lin_rmax_400.npz\n",
        "./out/var_g_0.385_s_6_k_400_win_10000_int_2000_N_3472677_lin_rmax_400.npz\n",
        "./out/var_g_0.385_s_7_k_400_win_10000_int_2000_N_3480519_lin_rmax_400.npz\n",
        "./out/var_g_0.385_s_8_k_400_win_10000_int_2000_N_3480511_lin_rmax_400.npz\n",
        "./out/var_g_0.385_s_9_k_400_win_10000_int_2000_N_3474809_lin_rmax_400.npz\n",
        "./out/var_g_0.3860_s_10_k_400_win_10000_int_2000_N_3474810_lin_rmax_400.npz\n",
        "./out/var_g_0.3860_s_1_k_400_win_10000_int_2000_N_3480492_lin_rmax_400.npz\n",
        "./out/var_g_0.3860_s_2_k_400_win_10000_int_2000_N_3474801_lin_rmax_400.npz\n",
        "./out/var_g_0.3860_s_3_k_400_win_10000_int_2000_N_3480458_lin_rmax_400.npz\n",
        "./out/var_g_0.3860_s_4_k_400_win_10000_int_2000_N_3480520_lin_rmax_400.npz\n",
        "./out/var_g_0.3860_s_5_k_400_win_10000_int_2000_N_3467038_lin_rmax_400.npz"
       ]
      },
      {
       "output_type": "stream",
       "stream": "stdout",
       "text": [
        "\n",
        "./out/var_g_0.3860_s_6_k_400_win_10000_int_2000_N_3472675_lin_rmax_400.npz\n",
        "./out/var_g_0.3860_s_7_k_400_win_10000_int_2000_N_3480518_lin_rmax_400.npz\n",
        "./out/var_g_0.3860_s_8_k_400_win_10000_int_2000_N_3480510_lin_rmax_400.npz\n",
        "./out/var_g_0.3860_s_9_k_400_win_10000_int_2000_N_3474810_lin_rmax_400.npz\n",
        "./out/var_g_0.3870_s_10_k_400_win_10000_int_2000_N_3474810_lin_rmax_400.npz\n",
        "./out/var_g_0.3870_s_1_k_400_win_10000_int_2000_N_3480495_lin_rmax_400.npz\n",
        "./out/var_g_0.3870_s_2_k_400_win_10000_int_2000_N_3474800_lin_rmax_400.npz\n",
        "./out/var_g_0.3870_s_3_k_400_win_10000_int_2000_N_3480456_lin_rmax_400.npz\n",
        "./out/var_g_0.3870_s_4_k_400_win_10000_int_2000_N_3480520_lin_rmax_400.npz\n",
        "./out/var_g_0.3870_s_5_k_400_win_10000_int_2000_N_3467037_lin_rmax_400.npz\n",
        "./out/var_g_0.3870_s_6_k_400_win_10000_int_2000_N_3472677_lin_rmax_400.npz\n",
        "./out/var_g_0.3870_s_7_k_400_win_10000_int_2000_N_3480519_lin_rmax_400.npz\n",
        "./out/var_g_0.3870_s_8_k_400_win_10000_int_2000_N_3480511_lin_rmax_400.npz\n",
        "./out/var_g_0.3870_s_9_k_400_win_10000_int_2000_N_3474809_lin_rmax_400.npz\n",
        "./out/var_g_0.3880_s_10_k_400_win_10000_int_2000_N_3474811_lin_rmax_400.npz\n",
        "./out/var_g_0.3880_s_1_k_400_win_10000_int_2000_N_3480494_lin_rmax_400.npz\n",
        "./out/var_g_0.3880_s_2_k_400_win_10000_int_2000_N_3474800_lin_rmax_400.npz\n",
        "./out/var_g_0.3880_s_3_k_400_win_10000_int_2000_N_3480454_lin_rmax_400.npz\n",
        "./out/var_g_0.3880_s_4_k_400_win_10000_int_2000_N_3480520_lin_rmax_400.npz\n",
        "./out/var_g_0.3880_s_5_k_400_win_10000_int_2000_N_3467040_lin_rmax_400.npz\n",
        "./out/var_g_0.3880_s_6_k_400_win_10000_int_2000_N_3472675_lin_rmax_400.npz"
       ]
      },
      {
       "output_type": "stream",
       "stream": "stdout",
       "text": [
        "\n",
        "./out/var_g_0.3880_s_7_k_400_win_10000_int_2000_N_3480519_lin_rmax_400.npz\n",
        "./out/var_g_0.3880_s_8_k_400_win_10000_int_2000_N_3480509_lin_rmax_400.npz\n",
        "./out/var_g_0.3880_s_9_k_400_win_10000_int_2000_N_3474807_lin_rmax_400.npz\n",
        "./out/var_g_0.3890_s_10_k_400_win_10000_int_2000_N_3474811_lin_rmax_400.npz\n",
        "./out/var_g_0.3890_s_1_k_400_win_10000_int_2000_N_3480494_lin_rmax_400.npz\n",
        "./out/var_g_0.3890_s_2_k_400_win_10000_int_2000_N_3474799_lin_rmax_400.npz\n",
        "./out/var_g_0.3890_s_3_k_400_win_10000_int_2000_N_3480453_lin_rmax_400.npz\n",
        "./out/var_g_0.3890_s_4_k_400_win_10000_int_2000_N_3480519_lin_rmax_400.npz\n",
        "./out/var_g_0.3890_s_5_k_400_win_10000_int_2000_N_3467040_lin_rmax_400.npz\n",
        "./out/var_g_0.3890_s_6_k_400_win_10000_int_2000_N_3472675_lin_rmax_400.npz\n",
        "./out/var_g_0.3890_s_7_k_400_win_10000_int_2000_N_3480520_lin_rmax_400.npz\n",
        "./out/var_g_0.3890_s_8_k_400_win_10000_int_2000_N_3480510_lin_rmax_400.npz\n",
        "./out/var_g_0.3890_s_9_k_400_win_10000_int_2000_N_3474807_lin_rmax_400.npz\n",
        "./out/var_g_0.38_s_10_k_400_win_10000_int_2000_N_3474808_lin_rmax_400.npz\n",
        "./out/var_g_0.38_s_2_k_400_win_10000_int_2000_N_3474798_lin_rmax_400.npz\n",
        "./out/var_g_0.38_s_3_k_400_win_10000_int_2000_N_3480453_lin_rmax_400.npz\n",
        "./out/var_g_0.38_s_4_k_400_win_10000_int_2000_N_3480523_lin_rmax_400.npz"
       ]
      },
      {
       "output_type": "stream",
       "stream": "stdout",
       "text": [
        "\n",
        "./out/var_g_0.38_s_5_k_400_win_10000_int_2000_N_3467037_lin_rmax_400.npz\n",
        "./out/var_g_0.38_s_7_k_400_win_10000_int_2000_N_3480512_lin_rmax_400.npz\n",
        "./out/var_g_0.38_s_9_k_400_win_10000_int_2000_N_3474814_lin_rmax_400.npz\n",
        "./out/var_g_0.39_s_10_k_400_win_10000_int_2000_N_3474811_lin_rmax_400.npz\n",
        "./out/var_g_0.39_s_1_k_400_win_10000_int_2000_N_3480494_lin_rmax_400.npz\n",
        "./out/var_g_0.39_s_2_k_400_win_10000_int_2000_N_3474797_lin_rmax_400.npz\n",
        "./out/var_g_0.39_s_3_k_400_win_10000_int_2000_N_3480454_lin_rmax_400.npz\n",
        "./out/var_g_0.39_s_4_k_400_win_10000_int_2000_N_3480519_lin_rmax_400.npz\n",
        "./out/var_g_0.39_s_5_k_400_win_10000_int_2000_N_3467034_lin_rmax_400.npz"
       ]
      },
      {
       "output_type": "stream",
       "stream": "stdout",
       "text": [
        "\n",
        "./out/var_g_0.39_s_6_k_400_win_10000_int_2000_N_3472675_lin_rmax_400.npz\n",
        "./out/var_g_0.39_s_7_k_400_win_10000_int_2000_N_3480519_lin_rmax_400.npz\n",
        "./out/var_g_0.39_s_8_k_400_win_10000_int_2000_N_3480510_lin_rmax_400.npz\n",
        "./out/var_g_0.39_s_9_k_400_win_10000_int_2000_N_3474808_lin_rmax_400.npz\n",
        "./out/var_g_0.4000_s_10_k_400_win_10000_int_2000_N_3474817_lin_rmax_400.npz\n",
        "./out/var_g_0.4000_s_1_k_400_win_10000_int_2000_N_3480493_lin_rmax_400.npz\n",
        "./out/var_g_0.4000_s_2_k_400_win_10000_int_2000_N_3474796_lin_rmax_400.npz\n",
        "./out/var_g_0.4000_s_3_k_400_win_10000_int_2000_N_3480456_lin_rmax_400.npz\n",
        "./out/var_g_0.4000_s_4_k_400_win_10000_int_2000_N_3480512_lin_rmax_400.npz"
       ]
      },
      {
       "output_type": "stream",
       "stream": "stdout",
       "text": [
        "\n",
        "./out/var_g_0.4000_s_5_k_400_win_10000_int_2000_N_3467027_lin_rmax_400.npz\n",
        "./out/var_g_0.4000_s_6_k_400_win_10000_int_2000_N_3472671_lin_rmax_400.npz\n",
        "./out/var_g_0.4000_s_7_k_400_win_10000_int_2000_N_3480516_lin_rmax_400.npz\n",
        "./out/var_g_0.4000_s_8_k_400_win_10000_int_2000_N_3480509_lin_rmax_400.npz\n",
        "./out/var_g_0.4000_s_9_k_400_win_10000_int_2000_N_3474813_lin_rmax_400.npz\n",
        "25\n",
        "0.37 ,\n",
        "0.375 ,\n",
        "0.376 ,\n",
        "0.377 ,\n",
        "0.378 ,\n",
        "0.379 ,\n",
        "0.3795 ,\n",
        "0.38 ,\n",
        "0.3805 ,\n",
        "0.381 ,\n",
        "0.3815 ,\n",
        "0.3819660113 ,\n",
        "0.382 ,\n",
        "0.3825 ,\n",
        "0.383 ,\n",
        "0.3835 ,\n",
        "0.384 ,\n",
        "0.3845 ,\n",
        "0.385 ,\n",
        "0.386 ,\n",
        "0.387 ,\n",
        "0.388 ,\n",
        "0.389 ,\n",
        "0.39 ,\n",
        "0.4 ,\n"
       ]
      }
     ],
     "prompt_number": 2
    },
    {
     "cell_type": "code",
     "collapsed": false,
     "input": [
      "files = glob.glob('./out/*rmax_400*.npz')\n",
      "\n",
      "m = len(files)\n",
      "\n",
      "gam = []\n",
      "kmax = []\n",
      "seeds = []\n",
      "for i in range(m):\n",
      "    t = np.load(files[i])\n",
      "    gammasum = float(t['gammasum'])\n",
      "    kmax.append(int(t['kmax']))\n",
      "    seeds.append(int(t['seed']))\n",
      "    gam.append(round(gammasum % 1,10))\n",
      "\n",
      "kmax = np.array(kmax)\n",
      "seeds = np.array(seeds)\n",
      "gam = np.array(gam)\n",
      "unique_gam = np.unique(gam)\n",
      "\n",
      "print len(unique_gam)\n",
      "for i in unique_gam:\n",
      "    print i,','"
     ],
     "language": "python",
     "metadata": {},
     "outputs": [
      {
       "output_type": "stream",
       "stream": "stdout",
       "text": [
        "25\n",
        "0.37 ,\n",
        "0.375 ,\n",
        "0.376 ,\n",
        "0.377 ,\n",
        "0.378 ,\n",
        "0.379 ,\n",
        "0.3795 ,\n",
        "0.38 ,\n",
        "0.3805 ,\n",
        "0.381 ,\n",
        "0.3815 ,\n",
        "0.3819660113 ,\n",
        "0.382 ,\n",
        "0.3825 ,\n",
        "0.383 ,\n",
        "0.3835 ,\n",
        "0.384 ,\n",
        "0.3845 ,\n",
        "0.385 ,\n",
        "0.386 ,\n",
        "0.387 ,\n",
        "0.388 ,\n",
        "0.389 ,\n",
        "0.39 ,\n",
        "0.4 ,\n"
       ]
      }
     ],
     "prompt_number": 3
    },
    {
     "cell_type": "code",
     "collapsed": false,
     "input": [
      "m = len(unique_gam)\n",
      "\n",
      "color=cm.jet(np.linspace(0,1,m))\n",
      "\n",
      "fits = []\n",
      "err = []\n",
      "\n",
      "for j in range(m):\n",
      "    g = unique_gam[j]\n",
      "    print g,\n",
      "    fits_g = []\n",
      "    ind = np.where(gam == g)[0]\n",
      "    print len(ind)\n",
      "    for i in ind:\n",
      "        t = np.load(files[i]) # load only max_k\n",
      "        \n",
      "        var = t['var']\n",
      "        rlist = t['rlist']\n",
      "\n",
      "        normvar = var / (np.pi * rho)**.5 / rlist / 2\n",
      "\n",
      "        y = var / (np.pi * rho)**.5 / 2 / rlist\n",
      "        x = rlist\n",
      "        \n",
      "        n = 0\n",
      "        xs, ys = CalcSmoothN(x,y,n)\n",
      "        ys *= (n+1)\n",
      "        \n",
      "        po, pc = curve_fit(f,xs,ys)\n",
      "        fits_g.append(po[0])\n",
      "    fits.append(np.mean(fits_g))\n",
      "    err.append(np.std(fits_g))\n",
      "fits = np.array(fits)\n",
      "err = np.array(err)"
     ],
     "language": "python",
     "metadata": {},
     "outputs": [
      {
       "output_type": "stream",
       "stream": "stdout",
       "text": [
        "0.37 10\n",
        "0.375"
       ]
      },
      {
       "output_type": "stream",
       "stream": "stdout",
       "text": [
        " 10\n",
        "0.376"
       ]
      },
      {
       "output_type": "stream",
       "stream": "stdout",
       "text": [
        " 10\n",
        "0.377"
       ]
      },
      {
       "output_type": "stream",
       "stream": "stdout",
       "text": [
        " 10\n",
        "0.378"
       ]
      },
      {
       "output_type": "stream",
       "stream": "stdout",
       "text": [
        " 10\n",
        "0.379"
       ]
      },
      {
       "output_type": "stream",
       "stream": "stdout",
       "text": [
        " 10\n",
        "0.3795"
       ]
      },
      {
       "output_type": "stream",
       "stream": "stdout",
       "text": [
        " 10\n",
        "0.38"
       ]
      },
      {
       "output_type": "stream",
       "stream": "stdout",
       "text": [
        " 10\n",
        "0.3805"
       ]
      },
      {
       "output_type": "stream",
       "stream": "stdout",
       "text": [
        " 10\n",
        "0.381"
       ]
      },
      {
       "output_type": "stream",
       "stream": "stdout",
       "text": [
        " 10\n",
        "0.3815"
       ]
      },
      {
       "output_type": "stream",
       "stream": "stdout",
       "text": [
        " 10\n",
        "0.3819660113"
       ]
      },
      {
       "output_type": "stream",
       "stream": "stdout",
       "text": [
        " 10\n",
        "0.382"
       ]
      },
      {
       "output_type": "stream",
       "stream": "stdout",
       "text": [
        " 10\n",
        "0.3825"
       ]
      },
      {
       "output_type": "stream",
       "stream": "stdout",
       "text": [
        " 10\n",
        "0.383"
       ]
      },
      {
       "output_type": "stream",
       "stream": "stdout",
       "text": [
        " 10\n",
        "0.3835"
       ]
      },
      {
       "output_type": "stream",
       "stream": "stdout",
       "text": [
        " 10\n",
        "0.384"
       ]
      },
      {
       "output_type": "stream",
       "stream": "stdout",
       "text": [
        " 10\n",
        "0.3845"
       ]
      },
      {
       "output_type": "stream",
       "stream": "stdout",
       "text": [
        " 10\n",
        "0.385"
       ]
      },
      {
       "output_type": "stream",
       "stream": "stdout",
       "text": [
        " 10\n",
        "0.386"
       ]
      },
      {
       "output_type": "stream",
       "stream": "stdout",
       "text": [
        " 10\n",
        "0.387"
       ]
      },
      {
       "output_type": "stream",
       "stream": "stdout",
       "text": [
        " 10\n",
        "0.388"
       ]
      },
      {
       "output_type": "stream",
       "stream": "stdout",
       "text": [
        " 10\n",
        "0.389"
       ]
      },
      {
       "output_type": "stream",
       "stream": "stdout",
       "text": [
        " 10\n",
        "0.39"
       ]
      },
      {
       "output_type": "stream",
       "stream": "stdout",
       "text": [
        " 10\n",
        "0.4"
       ]
      },
      {
       "output_type": "stream",
       "stream": "stdout",
       "text": [
        " 10\n"
       ]
      }
     ],
     "prompt_number": 45
    },
    {
     "cell_type": "code",
     "collapsed": false,
     "input": [
      "fig, ax = plt.subplots(figsize=(8,6))\n",
      "\n",
      "ax.tick_params(axis='both',which='both',direction='out')\n",
      "\n",
      "m = 15\n",
      "\n",
      "color=cm.jet(np.linspace(0,1,m))\n",
      "\n",
      "#ls =['-', '--', '-.',':',' ']\n",
      "\n",
      "for i in range(1,m+1):\n",
      "#    plt.axvline(EquivGam(i * tau), 0, 1, dashes=[i*2,i,3,i],alpha=1.,lw=2,color=color[i-1], label=i)\n",
      "    plt.axvline(EquivGam(i * tau), 0, 1, ls='-',alpha=0.5,lw=1.5,color='black', label=i)\n",
      "\n",
      "    if i==1:\n",
      "        text = r'$\\tau$'.format(int(i*tau))\n",
      "    else:\n",
      "        text = r'{:d}$\\tau$'.format(i,int(i*tau))\n",
      "\n",
      "    \n",
      "\n",
      "    x = EquivGam(i*tau)\n",
      "    ind = np.argmin(unique_gam < x)\n",
      "    y = fits[ind-1]\n",
      "    \n",
      "    print x, y, ind\n",
      "    \n",
      "    plt.annotate(text, family='monospace',\n",
      "                 #xy=(x,y-0.0025),\n",
      "                 xy=(x,0.15),\n",
      "                xycoords='data',\n",
      "#                xytext=(0, 320*(-0.45 + EquivGam(i * tau))), textcoords='offset points',\n",
      "                xytext=(0,0), textcoords='offset points',\n",
      "                horizontalalignment='center', verticalalignment='center',fontsize=10,\n",
      "                bbox=dict(facecolor='white', edgecolor='None', alpha=1.0,pad=3.0)\n",
      "                )\n",
      "\n",
      "\n",
      "plt.errorbar(unique_gam, fits, yerr=err,color='black',lw=3)\n",
      "#plt.plot(unique_gam, fits, color='black',lw=2)\n",
      "\n",
      "#ax.set_xticks(np.arange(0,0.55,0.05),minor=True)\n",
      "#ax.set_yticks(np.arange(0.145,0.185,0.0025),minor=True)\n",
      "\n",
      "plt.xlim(0.373,0.387)\n",
      "plt.ylim(0.17,0.172)\n",
      "\n",
      "#plt.legend(title='$n$',bbox_to_anchor=(0.72,0.62))\n",
      "plt.ylabel(r'$\\overline{\\Lambda}_\\gamma$',fontsize=25)\n",
      "plt.xlabel(r'$\\gamma$',fontsize=25)\n",
      "plt.tight_layout()\n",
      "fig.subplots_adjust(left=0.16,right=.95,bottom=0.14)#,top=0.95)\n",
      "#fig.savefig('fig_lambda_global.pdf',dpi=600)"
     ],
     "language": "python",
     "metadata": {},
     "outputs": [
      {
       "output_type": "stream",
       "stream": "stdout",
       "text": [
        "0.38196601125 0.170617477296 11\n",
        "0.2360679775 0.173056703565 0\n",
        "0.14589803375 0.173056703565 0\n",
        "0.472135955 0.173056703565 0\n",
        "0.0901699437495 0.173056703565 0\n",
        "0.291796067501 0.173056703565 0\n",
        "0.326237921249 0.173056703565 0\n",
        "0.0557280900008 0.173056703565 0\n",
        "0.437694101251 0.173056703565 0\n",
        "0.180339887499 0.173056703565 0\n",
        "0.201626123751 0.173056703565 0\n",
        "0.416407864999 0.173056703565 0\n",
        "0.0344418537486 0.173056703565 0\n",
        "0.347524157501 0.173056703565 0\n",
        "0.270509831248 0.173056703565 0\n"
       ]
      },
      {
       "metadata": {},
       "output_type": "display_data",
       "png": "[encoded data removed]",
       "text": [
        "<matplotlib.figure.Figure at 0x1134f0d90>"
       ]
      }
     ],
     "prompt_number": 46
    },
    {
     "cell_type": "code",
     "collapsed": false,
     "input": [
      "np.savez('localmin',g=unique_gam,lg=fits,lg_err=err)"
     ],
     "language": "python",
     "metadata": {},
     "outputs": [],
     "prompt_number": 47
    },
    {
     "cell_type": "code",
     "collapsed": false,
     "input": [
      "    "
     ],
     "language": "python",
     "metadata": {},
     "outputs": []
    }
   ],
   "metadata": {}
  }
 ]
}