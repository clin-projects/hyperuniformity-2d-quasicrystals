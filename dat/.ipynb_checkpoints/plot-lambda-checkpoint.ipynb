{
 "metadata": {
  "name": "",
  "signature": "sha256:708dca7ef93e7a4773d49ac5a652e98b4d2f6236ea4850ed453fd60c1b6bd833"
 },
 "nbformat": 3,
 "nbformat_minor": 0,
 "worksheets": [
  {
   "cells": [
    {
     "cell_type": "code",
     "collapsed": false,
     "input": [
      "import glob\n",
      "import matplotlib as mpl\n",
      "import matplotlib.pyplot as plt\n",
      "import numpy as np\n",
      "import os\n",
      "from matplotlib.pyplot import cm \n",
      "from scipy.optimize import curve_fit\n",
      "\n",
      "def f(x,a,b):\n",
      "    return a*x + b\n",
      "\n",
      "%matplotlib inline\n",
      "\n",
      "mpl.rc(\"savefig\", dpi=100)\n",
      "\n",
      "font = {'family' : 'Times New Roman',\n",
      "        'weight' : 'normal',\n",
      "        'size'   : 20}\n",
      "\n",
      "# mpl.rcParams['text.usetex'] = True\n",
      "# mpl.rcParams['text.latex.preamble'] = [r'\\usepackage{amsmath}'] #for \\text command\n",
      "\n",
      "mpl.rc('font', **font)\n",
      "\n",
      "def CalcSmoothN(x,y,n):\n",
      "    # does cumulative average\n",
      "    # applies trapezoidal rule, returns new [x,y]\n",
      "    #\n",
      "    smoothy = []\n",
      "    midpt_x = []\n",
      "    cursum = 0\n",
      "    N = len(y)\n",
      "    x0 = (x[0] + x[1])/2\n",
      "    for i in range(1,N-1):\n",
      "        cur_integrand = (y[i]*x[i]**n + y[i+1]*x[i+1]**n)/2\n",
      "        cur_x = (x[i] +x[i+1])/2\n",
      "        dx = x[i+1] - x[i]\n",
      "        cursum += cur_integrand * dx\n",
      "        smoothy.append(cursum / (cur_x - x0)**(n+1))\n",
      "        midpt_x.append(cur_x)\n",
      "    return np.array(midpt_x), np.array(smoothy)\n",
      "\n",
      "def EquivGam(g):\n",
      "    if g % 1 <= 0.5:\n",
      "        return g % 1\n",
      "    else:\n",
      "        return 1 - g % 1\n",
      "\n",
      "tau = (1+5**.5) / 2\n",
      "rho = 2*(tau+1) / (tau+2) / (3-tau)**.5"
     ],
     "language": "python",
     "metadata": {},
     "outputs": [],
     "prompt_number": 1
    },
    {
     "cell_type": "code",
     "collapsed": false,
     "input": [
      "files = glob.glob('./out/*rmax_400*.npz')\n",
      "\n",
      "m = len(files)\n",
      "\n",
      "gam = []\n",
      "kmax = []\n",
      "seeds = []\n",
      "for i in range(m):\n",
      "    t = np.load(files[i])\n",
      "    gammasum = float(t['gammasum'])\n",
      "    kmax.append(int(t['kmax']))\n",
      "    seeds.append(int(t['seed']))\n",
      "    gam.append(round(gammasum % 1,10))\n",
      "    \n",
      "    fsplit = files[i].split('_')\n",
      "    ind = fsplit.index('g')+1\n",
      "    cur_g_str = fsplit[ind]\n",
      "    \n",
      "    if round(gammasum % 1,10) != float(cur_g_str):\n",
      "        print i\n",
      "        fsplit = files[i].split('_')\n",
      "        ind = fsplit.index('g')+1\n",
      "        cur_g_str = fsplit[ind]\n",
      "        new_fname = files[i].replace('g_'+cur_g_str,'g_'+str(round(gammasum % 1, 10)))\n",
      "        os.rename(files[i], new_fname)\n",
      "\n",
      "kmax = np.array(kmax)\n",
      "seeds = np.array(seeds)\n",
      "gam = np.array(gam)\n",
      "unique_gam = np.unique(gam)\n",
      "\n",
      "print len(unique_gam)\n",
      "for i in unique_gam:\n",
      "    print i,','"
     ],
     "language": "python",
     "metadata": {},
     "outputs": [
      {
       "output_type": "stream",
       "stream": "stdout",
       "text": [
        "116\n",
        "0.0 ,\n",
        "0.005 ,\n",
        "0.01 ,\n",
        "0.015 ,\n",
        "0.02 ,\n",
        "0.025 ,\n",
        "0.03 ,\n",
        "0.0344418537 ,\n",
        "0.035 ,\n",
        "0.04 ,\n",
        "0.045 ,\n",
        "0.05 ,\n",
        "0.055 ,\n",
        "0.05572809 ,\n",
        "0.06 ,\n",
        "0.065 ,\n",
        "0.07 ,\n",
        "0.075 ,\n",
        "0.08 ,\n",
        "0.085 ,\n",
        "0.09 ,\n",
        "0.0901699437 ,\n",
        "0.095 ,\n",
        "0.1 ,\n",
        "0.105 ,\n",
        "0.11 ,\n",
        "0.115 ,\n",
        "0.12 ,\n",
        "0.125 ,\n",
        "0.13 ,\n",
        "0.135 ,\n",
        "0.14 ,\n",
        "0.145 ,\n",
        "0.1458980338 ,\n",
        "0.15 ,\n",
        "0.155 ,\n",
        "0.16 ,\n",
        "0.165 ,\n",
        "0.17 ,\n",
        "0.175 ,\n",
        "0.18 ,\n",
        "0.1803398875 ,\n",
        "0.185 ,\n",
        "0.19 ,\n",
        "0.195 ,\n",
        "0.2 ,\n",
        "0.2016261238 ,\n",
        "0.205 ,\n",
        "0.21 ,\n",
        "0.215 ,\n",
        "0.22 ,\n",
        "0.225 ,\n",
        "0.23 ,\n",
        "0.235 ,\n",
        "0.2360679775 ,\n",
        "0.24 ,\n",
        "0.245 ,\n",
        "0.25 ,\n",
        "0.255 ,\n",
        "0.26 ,\n",
        "0.265 ,\n",
        "0.27 ,\n",
        "0.2705098312 ,\n",
        "0.275 ,\n",
        "0.28 ,\n",
        "0.285 ,\n",
        "0.29 ,\n",
        "0.2917960675 ,\n",
        "0.295 ,\n",
        "0.3 ,\n",
        "0.305 ,\n",
        "0.31 ,\n",
        "0.315 ,\n",
        "0.32 ,\n",
        "0.325 ,\n",
        "0.3262379212 ,\n",
        "0.33 ,\n",
        "0.335 ,\n",
        "0.34 ,\n",
        "0.345 ,\n",
        "0.3475241575 ,\n",
        "0.35 ,\n",
        "0.355 ,\n",
        "0.36 ,\n",
        "0.365 ,\n",
        "0.37 ,\n",
        "0.375 ,\n",
        "0.38 ,\n",
        "0.3819660113 ,\n",
        "0.385 ,\n",
        "0.39 ,\n",
        "0.395 ,\n",
        "0.4 ,\n",
        "0.405 ,\n",
        "0.41 ,\n",
        "0.415 ,\n",
        "0.416407865 ,\n",
        "0.42 ,\n",
        "0.425 ,\n",
        "0.43 ,\n",
        "0.435 ,\n",
        "0.4376941013 ,\n",
        "0.44 ,\n",
        "0.445 ,\n",
        "0.45 ,\n",
        "0.455 ,\n",
        "0.46 ,\n",
        "0.465 ,\n",
        "0.47 ,\n",
        "0.472135955 ,\n",
        "0.475 ,\n",
        "0.48 ,\n",
        "0.485 ,\n",
        "0.49 ,\n",
        "0.495 ,\n",
        "0.5 ,\n"
       ]
      }
     ],
     "prompt_number": 2
    },
    {
     "cell_type": "code",
     "collapsed": false,
     "input": [
      "files = glob.glob('./out/*rmax_400*.npz')\n",
      "\n",
      "m = len(files)\n",
      "\n",
      "gam = []\n",
      "kmax = []\n",
      "seeds = []\n",
      "for i in range(m):\n",
      "    t = np.load(files[i])\n",
      "    gammasum = float(t['gammasum'])\n",
      "    kmax.append(int(t['kmax']))\n",
      "    seeds.append(int(t['seed']))\n",
      "    gam.append(round(gammasum % 1,10))\n",
      "\n",
      "kmax = np.array(kmax)\n",
      "seeds = np.array(seeds)\n",
      "gam = np.array(gam)\n",
      "unique_gam = np.unique(gam)\n",
      "\n",
      "print len(unique_gam)\n",
      "for i in unique_gam:\n",
      "    print i,','"
     ],
     "language": "python",
     "metadata": {},
     "outputs": [
      {
       "output_type": "stream",
       "stream": "stdout",
       "text": [
        "116\n",
        "0.0 ,\n",
        "0.005 ,\n",
        "0.01 ,\n",
        "0.015 ,\n",
        "0.02 ,\n",
        "0.025 ,\n",
        "0.03 ,\n",
        "0.0344418537 ,\n",
        "0.035 ,\n",
        "0.04 ,\n",
        "0.045 ,\n",
        "0.05 ,\n",
        "0.055 ,\n",
        "0.05572809 ,\n",
        "0.06 ,\n",
        "0.065 ,\n",
        "0.07 ,\n",
        "0.075 ,\n",
        "0.08 ,\n",
        "0.085 ,\n",
        "0.09 ,\n",
        "0.0901699437 ,\n",
        "0.095 ,\n",
        "0.1 ,\n",
        "0.105 ,\n",
        "0.11 ,\n",
        "0.115 ,\n",
        "0.12 ,\n",
        "0.125 ,\n",
        "0.13 ,\n",
        "0.135 ,\n",
        "0.14 ,\n",
        "0.145 ,\n",
        "0.1458980338 ,\n",
        "0.15 ,\n",
        "0.155 ,\n",
        "0.16 ,\n",
        "0.165 ,\n",
        "0.17 ,\n",
        "0.175 ,\n",
        "0.18 ,\n",
        "0.1803398875 ,\n",
        "0.185 ,\n",
        "0.19 ,\n",
        "0.195 ,\n",
        "0.2 ,\n",
        "0.2016261238 ,\n",
        "0.205 ,\n",
        "0.21 ,\n",
        "0.215 ,\n",
        "0.22 ,\n",
        "0.225 ,\n",
        "0.23 ,\n",
        "0.235 ,\n",
        "0.2360679775 ,\n",
        "0.24 ,\n",
        "0.245 ,\n",
        "0.25 ,\n",
        "0.255 ,\n",
        "0.26 ,\n",
        "0.265 ,\n",
        "0.27 ,\n",
        "0.2705098312 ,\n",
        "0.275 ,\n",
        "0.28 ,\n",
        "0.285 ,\n",
        "0.29 ,\n",
        "0.2917960675 ,\n",
        "0.295 ,\n",
        "0.3 ,\n",
        "0.305 ,\n",
        "0.31 ,\n",
        "0.315 ,\n",
        "0.32 ,\n",
        "0.325 ,\n",
        "0.3262379212 ,\n",
        "0.33 ,\n",
        "0.335 ,\n",
        "0.34 ,\n",
        "0.345 ,\n",
        "0.3475241575 ,\n",
        "0.35 ,\n",
        "0.355 ,\n",
        "0.36 ,\n",
        "0.365 ,\n",
        "0.37 ,\n",
        "0.375 ,\n",
        "0.38 ,\n",
        "0.3819660113 ,\n",
        "0.385 ,\n",
        "0.39 ,\n",
        "0.395 ,\n",
        "0.4 ,\n",
        "0.405 ,\n",
        "0.41 ,\n",
        "0.415 ,\n",
        "0.416407865 ,\n",
        "0.42 ,\n",
        "0.425 ,\n",
        "0.43 ,\n",
        "0.435 ,\n",
        "0.4376941013 ,\n",
        "0.44 ,\n",
        "0.445 ,\n",
        "0.45 ,\n",
        "0.455 ,\n",
        "0.46 ,\n",
        "0.465 ,\n",
        "0.47 ,\n",
        "0.472135955 ,\n",
        "0.475 ,\n",
        "0.48 ,\n",
        "0.485 ,\n",
        "0.49 ,\n",
        "0.495 ,\n",
        "0.5 ,\n"
       ]
      }
     ],
     "prompt_number": 3
    },
    {
     "cell_type": "code",
     "collapsed": false,
     "input": [
      "m = len(unique_gam)\n",
      "\n",
      "for j in range(m):\n",
      "    g = unique_gam[j]\n",
      "    print g,\n",
      "    fits_g = []\n",
      "    ind = np.where(gam == g)[0]\n",
      "    print 10-len(ind)"
     ],
     "language": "python",
     "metadata": {},
     "outputs": [
      {
       "output_type": "stream",
       "stream": "stdout",
       "text": [
        "0.0 0\n",
        "0.005 0\n",
        "0.01 0\n",
        "0.015 -1\n",
        "0.02 0\n",
        "0.025 0\n",
        "0.03 0\n",
        "0.0344418537 0\n",
        "0.035 0\n",
        "0.04 0\n",
        "0.045 0\n",
        "0.05 0\n",
        "0.055 0\n",
        "0.05572809 0\n",
        "0.06 0\n",
        "0.065 0\n",
        "0.07 0\n",
        "0.075 0\n",
        "0.08 0\n",
        "0.085 0\n",
        "0.09 0\n",
        "0.0901699437 0\n",
        "0.095 0\n",
        "0.1 0\n",
        "0.105 0\n",
        "0.11 0\n",
        "0.115 0\n",
        "0.12 0\n",
        "0.125 0\n",
        "0.13 0\n",
        "0.135 0\n",
        "0.14 0\n",
        "0.145 0\n",
        "0.1458980338 0\n",
        "0.15 0\n",
        "0.155 0\n",
        "0.16 0\n",
        "0.165 0\n",
        "0.17 0\n",
        "0.175 0\n",
        "0.18 0\n",
        "0.1803398875 0\n",
        "0.185 0\n",
        "0.19 0\n",
        "0.195 0\n",
        "0.2 0\n",
        "0.2016261238 0\n",
        "0.205 0\n",
        "0.21 0\n",
        "0.215 0\n",
        "0.22 0\n",
        "0.225 0\n",
        "0.23 0\n",
        "0.235 0\n",
        "0.2360679775 0\n",
        "0.24 0\n",
        "0.245 0\n",
        "0.25 0\n",
        "0.255 0\n",
        "0.26 0\n",
        "0.265 0\n",
        "0.27 0\n",
        "0.2705098312 0\n",
        "0.275 0\n",
        "0.28 0\n",
        "0.285 0\n",
        "0.29 0\n",
        "0.2917960675 0\n",
        "0.295 0\n",
        "0.3 0\n",
        "0.305 0\n",
        "0.31 0\n",
        "0.315 0\n",
        "0.32 0\n",
        "0.325 0\n",
        "0.3262379212 0\n",
        "0.33 0\n",
        "0.335 0\n",
        "0.34 0\n",
        "0.345 0\n",
        "0.3475241575 0\n",
        "0.35 0\n",
        "0.355 0\n",
        "0.36 0\n",
        "0.365 0\n",
        "0.37 0\n",
        "0.375 0\n",
        "0.38 0\n",
        "0.3819660113 0\n",
        "0.385 0\n",
        "0.39 0\n",
        "0.395 0\n",
        "0.4 0\n",
        "0.405 0\n",
        "0.41 0\n",
        "0.415 0\n",
        "0.416407865 0\n",
        "0.42 0\n",
        "0.425 0\n",
        "0.43 0\n",
        "0.435 0\n",
        "0.4376941013 0\n",
        "0.44 0\n",
        "0.445 0\n",
        "0.45 0\n",
        "0.455 0\n",
        "0.46 0\n",
        "0.465 0\n",
        "0.47 0\n",
        "0.472135955 0\n",
        "0.475 0\n",
        "0.48 0\n",
        "0.485 0\n",
        "0.49 0\n",
        "0.495 0\n",
        "0.5 0\n"
       ]
      }
     ],
     "prompt_number": 4
    },
    {
     "cell_type": "code",
     "collapsed": false,
     "input": [
      "gi = np.round(np.arange(0.0,0.55,0.05),2)\n",
      "\n",
      "m = len(gi)\n",
      "\n",
      "color=cm.jet(np.linspace(0,1,m))\n",
      "\n",
      "smooth = 10\n",
      "fits = []\n",
      "err = []\n",
      "\n",
      "for j in range(m):\n",
      "    g = gi[j]\n",
      "    print g\n",
      "    fits_g = []\n",
      "    ind = np.where(gam == g)[0]\n",
      "    for i in ind:\n",
      "        t = np.load(files[i]) # load only max_k\n",
      "        \n",
      "        var = t['var']\n",
      "        rlist = t['rlist']\n",
      "        \n",
      "        print rlist[-1]\n",
      "\n",
      "        normvar = var / (np.pi * rho)**.5 / rlist / 2\n",
      "\n",
      "        y = var / (np.pi * rho)**.5 / 2\n",
      "        x = rlist\n",
      "        \n",
      "        n = 0\n",
      "        xs, ys = CalcSmoothN(x,y,n)\n",
      "        ys *= (n+2)\n",
      "\n",
      "        m = len(rlist)\n",
      "        \n",
      "        cur_fits = []\n",
      "        cur_r = []\n",
      "\n",
      "        max_ind = range(0,m+smooth,smooth)\n",
      "\n",
      "        for i in range(len(max_ind)-smooth):\n",
      "            cur_lo = max_ind[i]\n",
      "            cur_hi = max_ind[i+smooth]\n",
      "            po, pc = curve_fit(f,xs[cur_lo:cur_hi],ys[cur_lo:cur_hi])\n",
      "            cur_fits.append(po[0])\n",
      "        fits_g.append(cur_fits)\n",
      "    fits.append(np.mean(fits_g,axis=0))\n",
      "    err.append(np.std(fits_g,axis=0))\n",
      "fits = np.array(fits)\n",
      "err = np.array(err)\n",
      "\n",
      "rlist = t['rlist']\n",
      "m = len(rlist)\n",
      "\n",
      "r_min = []\n",
      "r_max = []\n",
      "r_mid = []\n",
      "\n",
      "for i in range(len(max_ind)-smooth):\n",
      "    cur_lo = max_ind[i]\n",
      "    cur_hi = max_ind[i+smooth]\n",
      "    r_min.append(rlist[cur_lo])\n",
      "    r_max.append(rlist[cur_hi-1])\n",
      "    r_mid.append((rlist[cur_lo] + rlist[cur_hi-1])/2)\n",
      "r_mid = np.array(r_mid)"
     ],
     "language": "python",
     "metadata": {},
     "outputs": [
      {
       "output_type": "stream",
       "stream": "stdout",
       "text": [
        "0.0\n",
        "400.0\n",
        "400.0"
       ]
      },
      {
       "output_type": "stream",
       "stream": "stdout",
       "text": [
        "\n",
        "400.0"
       ]
      },
      {
       "output_type": "stream",
       "stream": "stdout",
       "text": [
        "\n",
        "400.0"
       ]
      },
      {
       "output_type": "stream",
       "stream": "stdout",
       "text": [
        "\n",
        "400.0"
       ]
      },
      {
       "output_type": "stream",
       "stream": "stdout",
       "text": [
        "\n",
        "400.0"
       ]
      },
      {
       "output_type": "stream",
       "stream": "stdout",
       "text": [
        "\n",
        "400.0"
       ]
      },
      {
       "output_type": "stream",
       "stream": "stdout",
       "text": [
        "\n",
        "400.0"
       ]
      },
      {
       "output_type": "stream",
       "stream": "stdout",
       "text": [
        "\n",
        "400.0"
       ]
      },
      {
       "output_type": "stream",
       "stream": "stdout",
       "text": [
        "\n",
        "400.0"
       ]
      },
      {
       "output_type": "stream",
       "stream": "stdout",
       "text": [
        "\n",
        "0.05"
       ]
      },
      {
       "output_type": "stream",
       "stream": "stdout",
       "text": [
        "\n",
        "400.0\n",
        "400.0"
       ]
      },
      {
       "output_type": "stream",
       "stream": "stdout",
       "text": [
        "\n",
        "400.0"
       ]
      },
      {
       "output_type": "stream",
       "stream": "stdout",
       "text": [
        "\n",
        "400.0"
       ]
      },
      {
       "output_type": "stream",
       "stream": "stdout",
       "text": [
        "\n",
        "400.0"
       ]
      },
      {
       "output_type": "stream",
       "stream": "stdout",
       "text": [
        "\n",
        "400.0"
       ]
      },
      {
       "output_type": "stream",
       "stream": "stdout",
       "text": [
        "\n",
        "400.0"
       ]
      },
      {
       "output_type": "stream",
       "stream": "stdout",
       "text": [
        "\n",
        "400.0"
       ]
      },
      {
       "output_type": "stream",
       "stream": "stdout",
       "text": [
        "\n",
        "400.0"
       ]
      },
      {
       "output_type": "stream",
       "stream": "stdout",
       "text": [
        "\n",
        "400.0"
       ]
      },
      {
       "output_type": "stream",
       "stream": "stdout",
       "text": [
        "\n",
        "0.1"
       ]
      },
      {
       "output_type": "stream",
       "stream": "stdout",
       "text": [
        "\n",
        "0.15\n",
        "400.0\n",
        "400.0"
       ]
      },
      {
       "output_type": "stream",
       "stream": "stdout",
       "text": [
        "\n",
        "400.0"
       ]
      },
      {
       "output_type": "stream",
       "stream": "stdout",
       "text": [
        "\n",
        "400.0"
       ]
      },
      {
       "output_type": "stream",
       "stream": "stdout",
       "text": [
        "\n",
        "400.0"
       ]
      },
      {
       "output_type": "stream",
       "stream": "stdout",
       "text": [
        "\n",
        "400.0"
       ]
      },
      {
       "output_type": "stream",
       "stream": "stdout",
       "text": [
        "\n",
        "400.0"
       ]
      },
      {
       "output_type": "stream",
       "stream": "stdout",
       "text": [
        "\n",
        "400.0"
       ]
      },
      {
       "output_type": "stream",
       "stream": "stdout",
       "text": [
        "\n",
        "400.0"
       ]
      },
      {
       "output_type": "stream",
       "stream": "stdout",
       "text": [
        "\n",
        "400.0"
       ]
      },
      {
       "output_type": "stream",
       "stream": "stdout",
       "text": [
        "\n",
        "0.2"
       ]
      },
      {
       "output_type": "stream",
       "stream": "stdout",
       "text": [
        "\n",
        "0.25\n",
        "400.0\n",
        "400.0"
       ]
      },
      {
       "output_type": "stream",
       "stream": "stdout",
       "text": [
        "\n",
        "400.0"
       ]
      },
      {
       "output_type": "stream",
       "stream": "stdout",
       "text": [
        "\n",
        "400.0"
       ]
      },
      {
       "output_type": "stream",
       "stream": "stdout",
       "text": [
        "\n",
        "400.0"
       ]
      },
      {
       "output_type": "stream",
       "stream": "stdout",
       "text": [
        "\n",
        "400.0"
       ]
      },
      {
       "output_type": "stream",
       "stream": "stdout",
       "text": [
        "\n",
        "400.0"
       ]
      },
      {
       "output_type": "stream",
       "stream": "stdout",
       "text": [
        "\n",
        "400.0"
       ]
      },
      {
       "output_type": "stream",
       "stream": "stdout",
       "text": [
        "\n",
        "400.0"
       ]
      },
      {
       "output_type": "stream",
       "stream": "stdout",
       "text": [
        "\n",
        "400.0"
       ]
      },
      {
       "output_type": "stream",
       "stream": "stdout",
       "text": [
        "\n",
        "0.3"
       ]
      },
      {
       "output_type": "stream",
       "stream": "stdout",
       "text": [
        "\n",
        "0.35\n",
        "400.0\n",
        "400.0"
       ]
      },
      {
       "output_type": "stream",
       "stream": "stdout",
       "text": [
        "\n",
        "400.0"
       ]
      },
      {
       "output_type": "stream",
       "stream": "stdout",
       "text": [
        "\n",
        "400.0"
       ]
      },
      {
       "output_type": "stream",
       "stream": "stdout",
       "text": [
        "\n",
        "400.0"
       ]
      },
      {
       "output_type": "stream",
       "stream": "stdout",
       "text": [
        "\n",
        "400.0"
       ]
      },
      {
       "output_type": "stream",
       "stream": "stdout",
       "text": [
        "\n",
        "400.0"
       ]
      },
      {
       "output_type": "stream",
       "stream": "stdout",
       "text": [
        "\n",
        "400.0"
       ]
      },
      {
       "output_type": "stream",
       "stream": "stdout",
       "text": [
        "\n",
        "400.0"
       ]
      },
      {
       "output_type": "stream",
       "stream": "stdout",
       "text": [
        "\n",
        "400.0"
       ]
      },
      {
       "output_type": "stream",
       "stream": "stdout",
       "text": [
        "\n",
        "0.4"
       ]
      },
      {
       "output_type": "stream",
       "stream": "stdout",
       "text": [
        "\n",
        "0.45\n",
        "400.0\n",
        "400.0"
       ]
      },
      {
       "output_type": "stream",
       "stream": "stdout",
       "text": [
        "\n",
        "400.0"
       ]
      },
      {
       "output_type": "stream",
       "stream": "stdout",
       "text": [
        "\n",
        "400.0"
       ]
      },
      {
       "output_type": "stream",
       "stream": "stdout",
       "text": [
        "\n",
        "400.0"
       ]
      },
      {
       "output_type": "stream",
       "stream": "stdout",
       "text": [
        "\n",
        "400.0"
       ]
      },
      {
       "output_type": "stream",
       "stream": "stdout",
       "text": [
        "\n",
        "400.0"
       ]
      },
      {
       "output_type": "stream",
       "stream": "stdout",
       "text": [
        "\n",
        "400.0"
       ]
      },
      {
       "output_type": "stream",
       "stream": "stdout",
       "text": [
        "\n",
        "400.0"
       ]
      },
      {
       "output_type": "stream",
       "stream": "stdout",
       "text": [
        "\n",
        "400.0"
       ]
      },
      {
       "output_type": "stream",
       "stream": "stdout",
       "text": [
        "\n",
        "0.5"
       ]
      },
      {
       "output_type": "stream",
       "stream": "stdout",
       "text": [
        "\n",
        "400.0\n",
        "400.0"
       ]
      },
      {
       "output_type": "stream",
       "stream": "stdout",
       "text": [
        "\n",
        "400.0"
       ]
      },
      {
       "output_type": "stream",
       "stream": "stdout",
       "text": [
        "\n",
        "400.0"
       ]
      },
      {
       "output_type": "stream",
       "stream": "stdout",
       "text": [
        "\n",
        "400.0"
       ]
      },
      {
       "output_type": "stream",
       "stream": "stdout",
       "text": [
        "\n",
        "400.0"
       ]
      },
      {
       "output_type": "stream",
       "stream": "stdout",
       "text": [
        "\n",
        "400.0"
       ]
      },
      {
       "output_type": "stream",
       "stream": "stdout",
       "text": [
        "\n",
        "400.0"
       ]
      },
      {
       "output_type": "stream",
       "stream": "stdout",
       "text": [
        "\n",
        "400.0"
       ]
      },
      {
       "output_type": "stream",
       "stream": "stdout",
       "text": [
        "\n",
        "400.0"
       ]
      },
      {
       "output_type": "stream",
       "stream": "stdout",
       "text": [
        "\n"
       ]
      },
      {
       "output_type": "stream",
       "stream": "stderr",
       "text": [
        "/usr/local/Cellar/python/2.7.6/Frameworks/Python.framework/Versions/2.7/lib/python2.7/site-packages/numpy-1.12.0rc1-py2.7-macosx-10.9-x86_64.egg/numpy/core/fromnumeric.py:2889: RuntimeWarning: Mean of empty slice.\n",
        "  out=out, **kwargs)\n",
        "/usr/local/Cellar/python/2.7.6/Frameworks/Python.framework/Versions/2.7/lib/python2.7/site-packages/numpy-1.12.0rc1-py2.7-macosx-10.9-x86_64.egg/numpy/core/_methods.py:80: RuntimeWarning: invalid value encountered in double_scalars\n",
        "  ret = ret.dtype.type(ret / rcount)\n",
        "/usr/local/Cellar/python/2.7.6/Frameworks/Python.framework/Versions/2.7/lib/python2.7/site-packages/numpy-1.12.0rc1-py2.7-macosx-10.9-x86_64.egg/numpy/core/_methods.py:135: RuntimeWarning: Degrees of freedom <= 0 for slice\n",
        "  keepdims=keepdims)\n",
        "/usr/local/Cellar/python/2.7.6/Frameworks/Python.framework/Versions/2.7/lib/python2.7/site-packages/numpy-1.12.0rc1-py2.7-macosx-10.9-x86_64.egg/numpy/core/_methods.py:105: RuntimeWarning: invalid value encountered in true_divide\n",
        "  arrmean, rcount, out=arrmean, casting='unsafe', subok=False)\n",
        "/usr/local/Cellar/python/2.7.6/Frameworks/Python.framework/Versions/2.7/lib/python2.7/site-packages/numpy-1.12.0rc1-py2.7-macosx-10.9-x86_64.egg/numpy/core/_methods.py:127: RuntimeWarning: invalid value encountered in double_scalars\n",
        "  ret = ret.dtype.type(ret / rcount)\n"
       ]
      }
     ],
     "prompt_number": 103
    },
    {
     "cell_type": "code",
     "collapsed": false,
     "input": [
      "rlist[0], rlist[-1]"
     ],
     "language": "python",
     "metadata": {},
     "outputs": [
      {
       "metadata": {},
       "output_type": "pyout",
       "prompt_number": 33,
       "text": [
        "(0.20000000000000001, 400.0)"
       ]
      }
     ],
     "prompt_number": 33
    },
    {
     "cell_type": "code",
     "collapsed": false,
     "input": [
      "fig,ax = plt.subplots(figsize=(8,6))\n",
      "\n",
      "m = len(gi)\n",
      "\n",
      "min_angle = 0\n",
      "max_angle = np.pi/6\n",
      "range_angle = max_angle - min_angle\n",
      "\n",
      "\n",
      "angles = np.logspace(np.log(0.01),np.log(range_angle),m,base=np.exp(1))\n",
      "\n",
      "cur_x = r_mid[-1]\n",
      "cur_y = fits[-1][-1]\n",
      "text = r'$\\sum\\gamma_j}$'\n",
      "\n",
      "plt.annotate(text, family='monospace',xy=(cur_x, cur_y),\n",
      "        xycoords='data',\n",
      "        xytext=(cur_x + 45, cur_y*1.023),\n",
      "        textcoords='data',\n",
      "        horizontalalignment='left', verticalalignment='center',fontsize=16\n",
      "        )\n",
      "for j in range(m):\n",
      "    g = gi[j]\n",
      "\n",
      "#    plt.errorbar(r_mid, fits[j]/fits[0],yerr = err[j]/fits[0],color=color[j])\n",
      "    plt.plot(r_mid, fits[j]/fits[0],color=color[j])\n",
      "    \n",
      "    if j == m-1:\n",
      "        cur_x = r_mid[-1]\n",
      "        cur_y = fits[j][-1]\n",
      "        text = r'$\\sum\\gamma_j = {:0.2f}$'.format(g)\n",
      "        text = r'${:0.2f}$'.format(g)\n",
      "        plt.annotate(text, family='monospace',xy=(cur_x, cur_y),\n",
      "                xycoords='data',\n",
      "                xytext=(cur_x + 45, cur_y*1.01),\n",
      "                textcoords='data',\n",
      "                arrowprops=dict(color=color[j],headwidth=5,frac=0.3,shrink=0.2,width=1),\n",
      "                horizontalalignment='left', verticalalignment='center',fontsize=16\n",
      "                )\n",
      "    elif j == m-2: # manual doing second-to-last point... bc automated not quite right\n",
      "        cur_x = r_mid[-1]\n",
      "        cur_y = fits[j][-1]\n",
      "        text = r'${:0.2f}$'.format(g)\n",
      "        plt.annotate(text, family='monospace',xy=(cur_x, cur_y*.998),\n",
      "                xycoords='data',\n",
      "                xytext=(cur_x + 45, cur_y),\n",
      "                textcoords='data',\n",
      "                arrowprops=dict(color=color[j],headwidth=5,frac=0.3,shrink=0.2,width=1),\n",
      "                horizontalalignment='left', verticalalignment='center',fontsize=16\n",
      "                )\n",
      "    elif j == m-3: # manual doing second-to-last point... bc automated not quite right\n",
      "        cur_x = r_mid[-1]\n",
      "        cur_y = fits[j][-1]\n",
      "        text = r'${:0.2f}$'.format(g)\n",
      "        plt.annotate(text, family='monospace',xy=(cur_x, cur_y*1.002),\n",
      "                xycoords='data',\n",
      "                xytext=(cur_x + 45, cur_y*1.002),\n",
      "                textcoords='data',\n",
      "                arrowprops=dict(color=color[j],headwidth=5,frac=0.3,shrink=0.2,width=1),\n",
      "                horizontalalignment='left', verticalalignment='center',fontsize=16\n",
      "                )\n",
      "    elif j == m-4: # manual doing second-to-last point... bc automated not quite right\n",
      "        cur_x = r_mid[-1]\n",
      "        cur_y = fits[j][-1]\n",
      "        text = r'${:0.2f}$'.format(g)\n",
      "        plt.annotate(text, family='monospace',xy=(cur_x, cur_y),\n",
      "                xycoords='data',\n",
      "                xytext=(cur_x + 45, cur_y*1.0015),\n",
      "                textcoords='data',\n",
      "                arrowprops=dict(color=color[j],headwidth=5,frac=0.3,shrink=0.2,width=1),\n",
      "                horizontalalignment='left', verticalalignment='center',fontsize=16\n",
      "                )\n",
      "    else:\n",
      "        cur_x = r_mid[-1]\n",
      "        cur_y = fits[j][-1]\n",
      "        text = r'${:0.2f}$'.format(g)\n",
      "        plt.annotate(text, family='monospace',xy=(cur_x, cur_y),\n",
      "                xycoords='data',\n",
      "#                xytext=(cur_x + 45, cur_y + 0.01 *np.sin(min_angle + angles[j])),\n",
      "                xytext=(cur_x + 45, cur_y ),\n",
      "                textcoords='data',\n",
      "                arrowprops=dict(color=color[j],headwidth=5,frac=0.3,shrink=0.2,width=1),\n",
      "                horizontalalignment='left', verticalalignment='center',fontsize=16\n",
      "                )\n",
      "\n",
      "\n",
      "    \n",
      "#plt.ylim(0.145,0.18)\n",
      "plt.xlabel('$\\overline{R}_{max}$')\n",
      "plt.ylabel(r'$\\overline{\\Lambda}_L$')"
     ],
     "language": "python",
     "metadata": {},
     "outputs": [
      {
       "metadata": {},
       "output_type": "pyout",
       "prompt_number": 197,
       "text": [
        "<matplotlib.text.Text at 0x10d196390>"
       ]
      },
      {
       "metadata": {},
       "output_type": "display_data",
       "png": "[encoded data removed]",
       "text": [
        "<matplotlib.figure.Figure at 0x115fd9490>"
       ]
      }
     ],
     "prompt_number": 197
    },
    {
     "cell_type": "code",
     "collapsed": false,
     "input": [
      "fits[1]/fits[0]"
     ],
     "language": "python",
     "metadata": {},
     "outputs": [
      {
       "metadata": {},
       "output_type": "pyout",
       "prompt_number": 193,
       "text": [
        "array([ 1.03878467,  1.04431938,  1.04868795,  1.05082592,  1.0532985 ,\n",
        "        1.05502758,  1.05684903,  1.05744992,  1.05797365,  1.05748475,\n",
        "        1.05784715,  1.06032399,  1.05844129,  1.05578295,  1.05180197,\n",
        "        1.04776065,  1.04825436,  1.04991961,  1.05206046,  1.05578133,\n",
        "        1.05928327,  1.05942487,  1.05345624,  1.04144572,  1.02947548,\n",
        "        1.02413189,  1.02704136,  1.03209731,  1.03553781,  1.03846454,\n",
        "        1.04090477,  1.04578445,  1.05385757,  1.05879227,  1.06172042,\n",
        "        1.0625244 ,  1.06259559,  1.0641078 ,  1.0593073 ,  1.04571921,\n",
        "        1.02978577,  1.02017927,  1.02066999,  1.02690167,  1.03171095,\n",
        "        1.0341894 ,  1.03651554,  1.03970029,  1.0434164 ,  1.04539175,\n",
        "        1.04612643,  1.04699669,  1.04857811,  1.05196721,  1.05381345,\n",
        "        1.0548977 ,  1.055804  ,  1.05817066,  1.06219205,  1.06543499,\n",
        "        1.06765425,  1.06933854,  1.07099624,  1.07468724,  1.07411427,\n",
        "        1.0616032 ,  1.04347567,  1.02617965,  1.01973434,  1.02366632,\n",
        "        1.02732176,  1.03085914,  1.0341244 ,  1.03929158,  1.04475765,\n",
        "        1.04865527,  1.05052385,  1.05158549,  1.05480905,  1.06012539,\n",
        "        1.06396042,  1.05917475,  1.04854927,  1.03695853,  1.03209462,\n",
        "        1.03558103,  1.03994113,  1.04655668,  1.05125893,  1.05534129,\n",
        "        1.05778199,  1.05255058,  1.04472466,  1.03840941,  1.03581794,\n",
        "        1.03908012,  1.04372979,  1.04655025,  1.04898391,  1.05160996,\n",
        "        1.05426653,  1.05863633,  1.06359942,  1.06747339,  1.07036113,\n",
        "        1.0733241 ,  1.07498668,  1.06536047,  1.0474345 ,  1.02726613,\n",
        "        1.01423131,  1.0147033 ,  1.01855919,  1.02172827,  1.02459962,\n",
        "        1.02774589,  1.03168395,  1.03646835,  1.04158731,  1.04521557,\n",
        "        1.04842434,  1.05134701,  1.05351055,  1.05332559,  1.05226242,\n",
        "        1.05152151,  1.05299279,  1.05820866,  1.06139806,  1.06223196,\n",
        "        1.06323587,  1.06521699,  1.06881569,  1.0675084 ,  1.05626434,\n",
        "        1.04086309,  1.02897   ,  1.02558057,  1.02848189,  1.0323526 ,\n",
        "        1.03758114,  1.0438443 ,  1.05031109,  1.0551579 ,  1.05758903,\n",
        "        1.05874472,  1.06071242,  1.06344952,  1.0662462 ,  1.06701467,\n",
        "        1.0578328 ,  1.0442119 ,  1.03318539,  1.0290441 ,  1.03332008,\n",
        "        1.03735317,  1.04016927,  1.04190404,  1.04402528,  1.04632087,\n",
        "        1.04638245,  1.04480663,  1.04253691,  1.0432323 ,  1.04754838,\n",
        "        1.05120842,  1.05478795,  1.05741186,  1.05960579,  1.06350837,\n",
        "        1.06767675,  1.07214893,  1.07695249,  1.0796023 ,  1.08072855,\n",
        "        1.07907124,  1.06442665,  1.0439226 ,  1.02559427,  1.01613888,\n",
        "        1.01861012,  1.02198985,  1.02381629,  1.02581153,  1.02918917,\n",
        "        1.03509111,  1.04192931,  1.04659568,  1.04862255,  1.04961331,\n",
        "        1.05176751,  1.05477614,  1.05348801,  1.04839301,  1.04315148,\n",
        "        1.04010637,  1.04220249,  1.04530714,  1.04829718,  1.05237291,\n",
        "        1.0563669 ,  1.05909325,  1.05564288,  1.04754023,  1.03801402,\n",
        "        1.03196762,  1.0321491 ,  1.03420285,  1.03719067,  1.04111715,\n",
        "        1.04614851,  1.05151662,  1.05579267,  1.05853679,  1.05966539,\n",
        "        1.06209548,  1.06626679,  1.07098182,  1.0678562 ,  1.05367299,\n",
        "        1.03466922,  1.02008188,  1.01638922,  1.02044437,  1.02427921,\n",
        "        1.02826589,  1.03376391,  1.039132  ,  1.04389642,  1.04451677,\n",
        "        1.04266142,  1.04295205,  1.04625438,  1.05167267,  1.05447673,\n",
        "        1.05458806,  1.05380002,  1.05469159,  1.05941626,  1.06356384,\n",
        "        1.06682783,  1.06937855,  1.07233137,  1.07626507,  1.07583508,\n",
        "        1.06423593,  1.04644369,  1.03158402,  1.02505359,  1.02845595,\n",
        "        1.03183508,  1.03521629,  1.0374867 ,  1.040101  ,  1.04389499,\n",
        "        1.04892358,  1.05366964,  1.05815876,  1.06098912,  1.06352035,\n",
        "        1.06550335,  1.06032875,  1.05076128,  1.04174797,  1.03729987,\n",
        "        1.03915686,  1.04081159,  1.0416415 ,  1.04328712,  1.04686742,\n",
        "        1.05197154,  1.05192274,  1.04820231,  1.04303284,  1.03908727,\n",
        "        1.04022376,  1.04182153,  1.04394008,  1.04908731,  1.05516837,\n",
        "        1.06048683,  1.06503114,  1.06753712,  1.07054232,  1.07493524,\n",
        "        1.07944891,  1.08310169,  1.07231588,  1.0501425 ,  1.02557495,\n",
        "        1.00927298,  1.00947296,  1.01498177,  1.02026241,  1.02520942,\n",
        "        1.02960886,  1.03298424,  1.03676056,  1.03845663,  1.04112905,\n",
        "        1.04571987,  1.05038049,  1.05514643,  1.05565209,  1.05169382,\n",
        "        1.04523446,  1.04126601,  1.04264984,  1.04666667,  1.05142706,\n",
        "        1.05520701,  1.05937012,  1.06414936,  1.06326227,  1.05289009,\n",
        "        1.03873035,  1.02846587,  1.02727287,  1.03212135,  1.03498921,\n",
        "        1.0367811 ,  1.03935816,  1.04278678,  1.04832389,  1.05331944,\n",
        "        1.05738134,  1.06079938,  1.06257403,  1.0646131 ,  1.06289555,\n",
        "        1.05160492,  1.0367059 ,  1.02392398,  1.02009543,  1.0240132 ,\n",
        "        1.02736116,  1.03078407,  1.03548726,  1.04164557,  1.04700205,\n",
        "        1.04761392,  1.04344992,  1.03952777,  1.03902221,  1.04207682,\n",
        "        1.04702295,  1.05230187,  1.05717165,  1.06209021,  1.06519118,\n",
        "        1.06645056,  1.06714486,  1.07033322,  1.07345576,  1.07780104,\n",
        "        1.07985443,  1.06802825,  1.05018264,  1.03051721,  1.01842392,\n",
        "        1.01914787,  1.02215764,  1.0271282 ,  1.03288453,  1.03856376,\n",
        "        1.04257546,  1.04486759,  1.04623516,  1.04831793,  1.05206422,\n",
        "        1.05678511,  1.06149571,  1.05945531,  1.05299574,  1.04626698,\n",
        "        1.04222292,  1.04425007,  1.04689454,  1.0493848 ,  1.05322168,\n",
        "        1.05816115,  1.06177768,  1.05837341,  1.04936889,  1.03927122,\n",
        "        1.03392596,  1.03675702,  1.04087399,  1.04364365,  1.04579032,\n",
        "        1.04785515,  1.05237819,  1.0583766 ,  1.06240226,  1.06430326,\n",
        "        1.06540354])"
       ]
      }
     ],
     "prompt_number": 193
    },
    {
     "cell_type": "code",
     "collapsed": false,
     "input": [
      "all_seeds = set(range(1,11))\n",
      "\n",
      "\n",
      "m = len(unique_gam)\n",
      "\n",
      "for j in range(m):\n",
      "    g = unique_gam[j]\n",
      "    fits_g = []\n",
      "    ind = np.where(gam == g)[0]\n",
      "    missing_seeds = list(all_seeds - set(np.sort(seeds[ind])))\n",
      "    if len(missing_seeds)>0:\n",
      "        print g,len(ind), list(all_seeds - set(np.sort(seeds[ind])))"
     ],
     "language": "python",
     "metadata": {},
     "outputs": [
      {
       "output_type": "stream",
       "stream": "stdout",
       "text": [
        "0.005 7 [2, 3, 6]\n",
        "0.065 8 [8, 3]\n",
        "0.105 9 [7]\n",
        "0.115 8 [3, 7]\n",
        "0.135 9 [10]\n",
        "0.165 9 [10]\n",
        "0.205 9 [5]\n",
        "0.24 7 [1, 3, 6]\n",
        "0.275 9 [7]\n",
        "0.2917960675 5 [9, 2, 3, 4, 10]\n",
        "0.325 6 [1, 2, 3, 6]\n",
        "0.38 7 [8, 1, 6]\n",
        "0.472135955 7 [8, 3, 6]\n"
       ]
      }
     ],
     "prompt_number": 89
    },
    {
     "cell_type": "code",
     "collapsed": false,
     "input": [
      "def f(x,a,b):\n",
      "    return a + b/x\n",
      "\n",
      "m = len(unique_gam)\n",
      "\n",
      "color=cm.jet(np.linspace(0,1,m))\n",
      "\n",
      "fits = []\n",
      "err = []\n",
      "\n",
      "j == 0\n",
      "g = unique_gam[j]\n",
      "print g,\n",
      "fits_g = []\n",
      "ind = np.where(gam == g)[0]\n",
      "print len(ind)\n",
      "for i in ind:\n",
      "    t = np.load(files[i]) # load only max_k\n",
      "\n",
      "    var = t['var']\n",
      "    rlist = t['rlist']\n",
      "\n",
      "    normvar = var / (np.pi * rho)**.5 / rlist / 2\n",
      "\n",
      "    y = normvar #var / (np.pi * rho)**.5 / 2\n",
      "    x = rlist\n",
      "\n",
      "    n = 0\n",
      "    xs, ys = CalcSmoothN(x,y,n)\n",
      "    ys *= (n+1)\n",
      "\n",
      "    po, pc = curve_fit(f,xs,ys)\n",
      "    fits_g.append(po[0])\n",
      "\n"
     ],
     "language": "python",
     "metadata": {},
     "outputs": [
      {
       "output_type": "stream",
       "stream": "stdout",
       "text": [
        "0.5 10\n"
       ]
      }
     ],
     "prompt_number": 46
    },
    {
     "cell_type": "code",
     "collapsed": false,
     "input": [
      "plt.plot(xs,ys)\n",
      "plt.axhline(po[0],0,1,color='red')"
     ],
     "language": "python",
     "metadata": {},
     "outputs": [
      {
       "metadata": {},
       "output_type": "pyout",
       "prompt_number": 49,
       "text": [
        "<matplotlib.lines.Line2D at 0x116208fd0>"
       ]
      },
      {
       "metadata": {},
       "output_type": "display_data",
       "png": "[encoded data removed]",
       "text": [
        "<matplotlib.figure.Figure at 0x116208f50>"
       ]
      }
     ],
     "prompt_number": 49
    },
    {
     "cell_type": "code",
     "collapsed": false,
     "input": [
      "def f(x,a,b):\n",
      "    return a + b/x\n",
      "\n",
      "m = len(unique_gam)\n",
      "\n",
      "color=cm.jet(np.linspace(0,1,m))\n",
      "\n",
      "fits = []\n",
      "err = []\n",
      "\n",
      "for j in range(m):\n",
      "    g = unique_gam[j]\n",
      "    print g,\n",
      "    fits_g = []\n",
      "    ind = np.where(gam == g)[0]\n",
      "    print len(ind)\n",
      "    for i in ind:\n",
      "        t = np.load(files[i]) # load only max_k\n",
      "        \n",
      "        var = t['var']\n",
      "        rlist = t['rlist']\n",
      "\n",
      "        normvar = var / (np.pi * rho)**.5 / rlist / 2\n",
      "\n",
      "        y = normvar #var / (np.pi * rho)**.5 / 2\n",
      "        x = rlist\n",
      "        \n",
      "        n = 0\n",
      "        xs, ys = CalcSmoothN(x,y,n)\n",
      "        ys *= (n+1)\n",
      "        \n",
      "        po, pc = curve_fit(f,xs,ys)\n",
      "        fits_g.append(po[0])\n",
      "    fits.append(np.mean(fits_g))\n",
      "    err.append(np.std(fits_g))\n",
      "fits = np.array(fits)\n",
      "err = np.array(err)"
     ],
     "language": "python",
     "metadata": {},
     "outputs": [
      {
       "output_type": "stream",
       "stream": "stdout",
       "text": [
        "0.0 10\n",
        "0.005"
       ]
      },
      {
       "output_type": "stream",
       "stream": "stdout",
       "text": [
        " 10\n",
        "0.01"
       ]
      },
      {
       "output_type": "stream",
       "stream": "stdout",
       "text": [
        " 10\n",
        "0.015"
       ]
      },
      {
       "output_type": "stream",
       "stream": "stdout",
       "text": [
        " 11\n",
        "0.02"
       ]
      },
      {
       "output_type": "stream",
       "stream": "stdout",
       "text": [
        " 10\n",
        "0.025"
       ]
      },
      {
       "output_type": "stream",
       "stream": "stdout",
       "text": [
        " 10\n",
        "0.03"
       ]
      },
      {
       "output_type": "stream",
       "stream": "stdout",
       "text": [
        " 10\n",
        "0.0344418537"
       ]
      },
      {
       "output_type": "stream",
       "stream": "stdout",
       "text": [
        " 10\n",
        "0.035"
       ]
      },
      {
       "output_type": "stream",
       "stream": "stdout",
       "text": [
        " 10\n",
        "0.04"
       ]
      },
      {
       "output_type": "stream",
       "stream": "stdout",
       "text": [
        " 10\n",
        "0.045"
       ]
      },
      {
       "output_type": "stream",
       "stream": "stdout",
       "text": [
        " 10\n",
        "0.05"
       ]
      },
      {
       "output_type": "stream",
       "stream": "stdout",
       "text": [
        " 10\n",
        "0.055"
       ]
      },
      {
       "output_type": "stream",
       "stream": "stdout",
       "text": [
        " 10\n",
        "0.05572809"
       ]
      },
      {
       "output_type": "stream",
       "stream": "stdout",
       "text": [
        " 10\n",
        "0.06"
       ]
      },
      {
       "output_type": "stream",
       "stream": "stdout",
       "text": [
        " 10\n",
        "0.065"
       ]
      },
      {
       "output_type": "stream",
       "stream": "stdout",
       "text": [
        " 10\n",
        "0.07"
       ]
      },
      {
       "output_type": "stream",
       "stream": "stdout",
       "text": [
        " 10\n",
        "0.075"
       ]
      },
      {
       "output_type": "stream",
       "stream": "stdout",
       "text": [
        " 10\n",
        "0.08"
       ]
      },
      {
       "output_type": "stream",
       "stream": "stdout",
       "text": [
        " 10\n",
        "0.085"
       ]
      },
      {
       "output_type": "stream",
       "stream": "stdout",
       "text": [
        " 10\n",
        "0.09"
       ]
      },
      {
       "output_type": "stream",
       "stream": "stdout",
       "text": [
        " 10\n",
        "0.0901699437"
       ]
      },
      {
       "output_type": "stream",
       "stream": "stdout",
       "text": [
        " 10\n",
        "0.095"
       ]
      },
      {
       "output_type": "stream",
       "stream": "stdout",
       "text": [
        " 10\n",
        "0.1"
       ]
      },
      {
       "output_type": "stream",
       "stream": "stdout",
       "text": [
        " 10\n",
        "0.105"
       ]
      },
      {
       "output_type": "stream",
       "stream": "stdout",
       "text": [
        " 10\n",
        "0.11"
       ]
      },
      {
       "output_type": "stream",
       "stream": "stdout",
       "text": [
        " 10\n",
        "0.115"
       ]
      },
      {
       "output_type": "stream",
       "stream": "stdout",
       "text": [
        " 10\n",
        "0.12"
       ]
      },
      {
       "output_type": "stream",
       "stream": "stdout",
       "text": [
        " 10\n",
        "0.125"
       ]
      },
      {
       "output_type": "stream",
       "stream": "stdout",
       "text": [
        " 10\n",
        "0.13"
       ]
      },
      {
       "output_type": "stream",
       "stream": "stdout",
       "text": [
        " 10\n",
        "0.135"
       ]
      },
      {
       "output_type": "stream",
       "stream": "stdout",
       "text": [
        " 10\n",
        "0.14"
       ]
      },
      {
       "output_type": "stream",
       "stream": "stdout",
       "text": [
        " 10\n",
        "0.145"
       ]
      },
      {
       "output_type": "stream",
       "stream": "stdout",
       "text": [
        " 10\n",
        "0.1458980338"
       ]
      },
      {
       "output_type": "stream",
       "stream": "stdout",
       "text": [
        " 10\n",
        "0.15"
       ]
      },
      {
       "output_type": "stream",
       "stream": "stdout",
       "text": [
        " 10\n",
        "0.155"
       ]
      },
      {
       "output_type": "stream",
       "stream": "stdout",
       "text": [
        " 10\n",
        "0.16"
       ]
      },
      {
       "output_type": "stream",
       "stream": "stdout",
       "text": [
        " 10\n",
        "0.165"
       ]
      },
      {
       "output_type": "stream",
       "stream": "stdout",
       "text": [
        " 10\n",
        "0.17"
       ]
      },
      {
       "output_type": "stream",
       "stream": "stdout",
       "text": [
        " 10\n",
        "0.175"
       ]
      },
      {
       "output_type": "stream",
       "stream": "stdout",
       "text": [
        " 10\n",
        "0.18"
       ]
      },
      {
       "output_type": "stream",
       "stream": "stdout",
       "text": [
        " 10\n",
        "0.1803398875"
       ]
      },
      {
       "output_type": "stream",
       "stream": "stdout",
       "text": [
        " 10\n",
        "0.185"
       ]
      },
      {
       "output_type": "stream",
       "stream": "stdout",
       "text": [
        " 10\n",
        "0.19"
       ]
      },
      {
       "output_type": "stream",
       "stream": "stdout",
       "text": [
        " 10\n",
        "0.195"
       ]
      },
      {
       "output_type": "stream",
       "stream": "stdout",
       "text": [
        " 10\n",
        "0.2"
       ]
      },
      {
       "output_type": "stream",
       "stream": "stdout",
       "text": [
        " 10\n",
        "0.2016261238"
       ]
      },
      {
       "output_type": "stream",
       "stream": "stdout",
       "text": [
        " 10\n",
        "0.205"
       ]
      },
      {
       "output_type": "stream",
       "stream": "stdout",
       "text": [
        " 10\n",
        "0.21"
       ]
      },
      {
       "output_type": "stream",
       "stream": "stdout",
       "text": [
        " 10\n",
        "0.215"
       ]
      },
      {
       "output_type": "stream",
       "stream": "stdout",
       "text": [
        " 10\n",
        "0.22"
       ]
      },
      {
       "output_type": "stream",
       "stream": "stdout",
       "text": [
        " 10\n",
        "0.225"
       ]
      },
      {
       "output_type": "stream",
       "stream": "stdout",
       "text": [
        " 10\n",
        "0.23"
       ]
      },
      {
       "output_type": "stream",
       "stream": "stdout",
       "text": [
        " 10\n",
        "0.235"
       ]
      },
      {
       "output_type": "stream",
       "stream": "stdout",
       "text": [
        " 10\n",
        "0.2360679775"
       ]
      },
      {
       "output_type": "stream",
       "stream": "stdout",
       "text": [
        " 10\n",
        "0.24"
       ]
      },
      {
       "output_type": "stream",
       "stream": "stdout",
       "text": [
        " 10\n",
        "0.245"
       ]
      },
      {
       "output_type": "stream",
       "stream": "stdout",
       "text": [
        " 10\n",
        "0.25"
       ]
      },
      {
       "output_type": "stream",
       "stream": "stdout",
       "text": [
        " 10\n",
        "0.255"
       ]
      },
      {
       "output_type": "stream",
       "stream": "stdout",
       "text": [
        " 10\n",
        "0.26"
       ]
      },
      {
       "output_type": "stream",
       "stream": "stdout",
       "text": [
        " 10\n",
        "0.265"
       ]
      },
      {
       "output_type": "stream",
       "stream": "stdout",
       "text": [
        " 10\n",
        "0.27"
       ]
      },
      {
       "output_type": "stream",
       "stream": "stdout",
       "text": [
        " 10\n",
        "0.2705098312"
       ]
      },
      {
       "output_type": "stream",
       "stream": "stdout",
       "text": [
        " 10\n",
        "0.275"
       ]
      },
      {
       "output_type": "stream",
       "stream": "stdout",
       "text": [
        " 10\n",
        "0.28"
       ]
      },
      {
       "output_type": "stream",
       "stream": "stdout",
       "text": [
        " 10\n",
        "0.285"
       ]
      },
      {
       "output_type": "stream",
       "stream": "stdout",
       "text": [
        " 10\n",
        "0.29"
       ]
      },
      {
       "output_type": "stream",
       "stream": "stdout",
       "text": [
        " 10\n",
        "0.2917960675"
       ]
      },
      {
       "output_type": "stream",
       "stream": "stdout",
       "text": [
        " 10\n",
        "0.295"
       ]
      },
      {
       "output_type": "stream",
       "stream": "stdout",
       "text": [
        " 10\n",
        "0.3"
       ]
      },
      {
       "output_type": "stream",
       "stream": "stdout",
       "text": [
        " 10\n",
        "0.305"
       ]
      },
      {
       "output_type": "stream",
       "stream": "stdout",
       "text": [
        " 10\n",
        "0.31"
       ]
      },
      {
       "output_type": "stream",
       "stream": "stdout",
       "text": [
        " 10\n",
        "0.315"
       ]
      },
      {
       "output_type": "stream",
       "stream": "stdout",
       "text": [
        " 10\n",
        "0.32"
       ]
      },
      {
       "output_type": "stream",
       "stream": "stdout",
       "text": [
        " 10\n",
        "0.325"
       ]
      },
      {
       "output_type": "stream",
       "stream": "stdout",
       "text": [
        " 10\n",
        "0.3262379212"
       ]
      },
      {
       "output_type": "stream",
       "stream": "stdout",
       "text": [
        " 10\n",
        "0.33"
       ]
      },
      {
       "output_type": "stream",
       "stream": "stdout",
       "text": [
        " 10\n",
        "0.335"
       ]
      },
      {
       "output_type": "stream",
       "stream": "stdout",
       "text": [
        " 10\n",
        "0.34"
       ]
      },
      {
       "output_type": "stream",
       "stream": "stdout",
       "text": [
        " 10\n",
        "0.345"
       ]
      },
      {
       "output_type": "stream",
       "stream": "stdout",
       "text": [
        " 10\n",
        "0.3475241575"
       ]
      },
      {
       "output_type": "stream",
       "stream": "stdout",
       "text": [
        " 10\n",
        "0.35"
       ]
      },
      {
       "output_type": "stream",
       "stream": "stdout",
       "text": [
        " 10\n",
        "0.355"
       ]
      },
      {
       "output_type": "stream",
       "stream": "stdout",
       "text": [
        " 10\n",
        "0.36"
       ]
      },
      {
       "output_type": "stream",
       "stream": "stdout",
       "text": [
        " 10\n",
        "0.365"
       ]
      },
      {
       "output_type": "stream",
       "stream": "stdout",
       "text": [
        " 10\n",
        "0.37"
       ]
      },
      {
       "output_type": "stream",
       "stream": "stdout",
       "text": [
        " 10\n",
        "0.375"
       ]
      },
      {
       "output_type": "stream",
       "stream": "stdout",
       "text": [
        " 10\n",
        "0.38"
       ]
      },
      {
       "output_type": "stream",
       "stream": "stdout",
       "text": [
        " 10\n",
        "0.3819660113"
       ]
      },
      {
       "output_type": "stream",
       "stream": "stdout",
       "text": [
        " 10\n",
        "0.385"
       ]
      },
      {
       "output_type": "stream",
       "stream": "stdout",
       "text": [
        " 10\n",
        "0.39"
       ]
      },
      {
       "output_type": "stream",
       "stream": "stdout",
       "text": [
        " 10\n",
        "0.395"
       ]
      },
      {
       "output_type": "stream",
       "stream": "stdout",
       "text": [
        " 10\n",
        "0.4"
       ]
      },
      {
       "output_type": "stream",
       "stream": "stdout",
       "text": [
        " 10\n",
        "0.405"
       ]
      },
      {
       "output_type": "stream",
       "stream": "stdout",
       "text": [
        " 10\n",
        "0.41"
       ]
      },
      {
       "output_type": "stream",
       "stream": "stdout",
       "text": [
        " 10\n",
        "0.415"
       ]
      },
      {
       "output_type": "stream",
       "stream": "stdout",
       "text": [
        " 10\n",
        "0.416407865"
       ]
      },
      {
       "output_type": "stream",
       "stream": "stdout",
       "text": [
        " 10\n",
        "0.42"
       ]
      },
      {
       "output_type": "stream",
       "stream": "stdout",
       "text": [
        " 10\n",
        "0.425"
       ]
      },
      {
       "output_type": "stream",
       "stream": "stdout",
       "text": [
        " 10\n",
        "0.43"
       ]
      },
      {
       "output_type": "stream",
       "stream": "stdout",
       "text": [
        " 10\n",
        "0.435"
       ]
      },
      {
       "output_type": "stream",
       "stream": "stdout",
       "text": [
        " 10\n",
        "0.4376941013"
       ]
      },
      {
       "output_type": "stream",
       "stream": "stdout",
       "text": [
        " 10\n",
        "0.44"
       ]
      },
      {
       "output_type": "stream",
       "stream": "stdout",
       "text": [
        " 10\n",
        "0.445"
       ]
      },
      {
       "output_type": "stream",
       "stream": "stdout",
       "text": [
        " 10\n",
        "0.45"
       ]
      },
      {
       "output_type": "stream",
       "stream": "stdout",
       "text": [
        " 10\n",
        "0.455"
       ]
      },
      {
       "output_type": "stream",
       "stream": "stdout",
       "text": [
        " 10\n",
        "0.46"
       ]
      },
      {
       "output_type": "stream",
       "stream": "stdout",
       "text": [
        " 10\n",
        "0.465"
       ]
      },
      {
       "output_type": "stream",
       "stream": "stdout",
       "text": [
        " 10\n",
        "0.47"
       ]
      },
      {
       "output_type": "stream",
       "stream": "stdout",
       "text": [
        " 10\n",
        "0.472135955"
       ]
      },
      {
       "output_type": "stream",
       "stream": "stdout",
       "text": [
        " 10\n",
        "0.475"
       ]
      },
      {
       "output_type": "stream",
       "stream": "stdout",
       "text": [
        " 10\n",
        "0.48"
       ]
      },
      {
       "output_type": "stream",
       "stream": "stdout",
       "text": [
        " 10\n",
        "0.485"
       ]
      },
      {
       "output_type": "stream",
       "stream": "stdout",
       "text": [
        " 10\n",
        "0.49"
       ]
      },
      {
       "output_type": "stream",
       "stream": "stdout",
       "text": [
        " 10\n",
        "0.495"
       ]
      },
      {
       "output_type": "stream",
       "stream": "stdout",
       "text": [
        " 10\n",
        "0.5"
       ]
      },
      {
       "output_type": "stream",
       "stream": "stdout",
       "text": [
        " 10\n"
       ]
      }
     ],
     "prompt_number": 50
    },
    {
     "cell_type": "code",
     "collapsed": false,
     "input": [
      "m = len(unique_gam)\n",
      "\n",
      "color=cm.jet(np.linspace(0,1,m))\n",
      "\n",
      "fits = []\n",
      "err = []\n",
      "\n",
      "for j in range(m):\n",
      "    g = unique_gam[j]\n",
      "    print g,\n",
      "    fits_g = []\n",
      "    ind = np.where(gam == g)[0]\n",
      "    print len(ind)\n",
      "    for i in ind:\n",
      "        t = np.load(files[i]) # load only max_k\n",
      "        \n",
      "        var = t['var']\n",
      "        rlist = t['rlist']\n",
      "\n",
      "        normvar = var / (np.pi * rho)**.5 / rlist / 2\n",
      "\n",
      "        y = var / (np.pi * rho)**.5 / 2  / rlist\n",
      "        x = rlist\n",
      "        \n",
      "        n = 0\n",
      "        xs, ys = CalcSmoothN(x,y,n)\n",
      "        ys *= (n+1)\n",
      "        \n",
      "        po, pc = curve_fit(f,xs,ys)\n",
      "        fits_g.append(po[0])\n",
      "    fits.append(np.mean(fits_g))\n",
      "    err.append(np.std(fits_g))\n",
      "fits = np.array(fits)\n",
      "err = np.array(err)"
     ],
     "language": "python",
     "metadata": {},
     "outputs": [
      {
       "output_type": "stream",
       "stream": "stdout",
       "text": [
        "0.0 10\n",
        "0.005"
       ]
      },
      {
       "output_type": "stream",
       "stream": "stdout",
       "text": [
        " 10\n",
        "0.01"
       ]
      },
      {
       "output_type": "stream",
       "stream": "stdout",
       "text": [
        " 10\n",
        "0.015"
       ]
      },
      {
       "output_type": "stream",
       "stream": "stdout",
       "text": [
        " 11\n",
        "0.02"
       ]
      },
      {
       "output_type": "stream",
       "stream": "stdout",
       "text": [
        " 10\n",
        "0.025"
       ]
      },
      {
       "output_type": "stream",
       "stream": "stdout",
       "text": [
        " 10\n",
        "0.03"
       ]
      },
      {
       "output_type": "stream",
       "stream": "stdout",
       "text": [
        " 10\n",
        "0.0344418537"
       ]
      },
      {
       "output_type": "stream",
       "stream": "stdout",
       "text": [
        " 10\n",
        "0.035"
       ]
      },
      {
       "output_type": "stream",
       "stream": "stdout",
       "text": [
        " 10\n",
        "0.04"
       ]
      },
      {
       "output_type": "stream",
       "stream": "stdout",
       "text": [
        " 10\n",
        "0.045"
       ]
      },
      {
       "output_type": "stream",
       "stream": "stdout",
       "text": [
        " 10\n",
        "0.05"
       ]
      },
      {
       "output_type": "stream",
       "stream": "stdout",
       "text": [
        " 10\n",
        "0.055"
       ]
      },
      {
       "output_type": "stream",
       "stream": "stdout",
       "text": [
        " 10\n",
        "0.05572809"
       ]
      },
      {
       "output_type": "stream",
       "stream": "stdout",
       "text": [
        " 10\n",
        "0.06"
       ]
      },
      {
       "output_type": "stream",
       "stream": "stdout",
       "text": [
        " 10\n",
        "0.065"
       ]
      },
      {
       "output_type": "stream",
       "stream": "stdout",
       "text": [
        " 10\n",
        "0.07"
       ]
      },
      {
       "output_type": "stream",
       "stream": "stdout",
       "text": [
        " 10\n",
        "0.075"
       ]
      },
      {
       "output_type": "stream",
       "stream": "stdout",
       "text": [
        " 10\n",
        "0.08"
       ]
      },
      {
       "output_type": "stream",
       "stream": "stdout",
       "text": [
        " 10\n",
        "0.085"
       ]
      },
      {
       "output_type": "stream",
       "stream": "stdout",
       "text": [
        " 10\n",
        "0.09"
       ]
      },
      {
       "output_type": "stream",
       "stream": "stdout",
       "text": [
        " 10\n",
        "0.0901699437"
       ]
      },
      {
       "output_type": "stream",
       "stream": "stdout",
       "text": [
        " 10\n",
        "0.095"
       ]
      },
      {
       "output_type": "stream",
       "stream": "stdout",
       "text": [
        " 10\n",
        "0.1"
       ]
      },
      {
       "output_type": "stream",
       "stream": "stdout",
       "text": [
        " 10\n",
        "0.105"
       ]
      },
      {
       "output_type": "stream",
       "stream": "stdout",
       "text": [
        " 10\n",
        "0.11"
       ]
      },
      {
       "output_type": "stream",
       "stream": "stdout",
       "text": [
        " 10\n",
        "0.115"
       ]
      },
      {
       "output_type": "stream",
       "stream": "stdout",
       "text": [
        " 10\n",
        "0.12"
       ]
      },
      {
       "output_type": "stream",
       "stream": "stdout",
       "text": [
        " 10\n",
        "0.125"
       ]
      },
      {
       "output_type": "stream",
       "stream": "stdout",
       "text": [
        " 10\n",
        "0.13"
       ]
      },
      {
       "output_type": "stream",
       "stream": "stdout",
       "text": [
        " 10\n",
        "0.135"
       ]
      },
      {
       "output_type": "stream",
       "stream": "stdout",
       "text": [
        " 10\n",
        "0.14"
       ]
      },
      {
       "output_type": "stream",
       "stream": "stdout",
       "text": [
        " 10\n",
        "0.145"
       ]
      },
      {
       "output_type": "stream",
       "stream": "stdout",
       "text": [
        " 10\n",
        "0.1458980338"
       ]
      },
      {
       "output_type": "stream",
       "stream": "stdout",
       "text": [
        " 10\n",
        "0.15"
       ]
      },
      {
       "output_type": "stream",
       "stream": "stdout",
       "text": [
        " 10\n",
        "0.155"
       ]
      },
      {
       "output_type": "stream",
       "stream": "stdout",
       "text": [
        " 10\n",
        "0.16"
       ]
      },
      {
       "output_type": "stream",
       "stream": "stdout",
       "text": [
        " 10\n",
        "0.165"
       ]
      },
      {
       "output_type": "stream",
       "stream": "stdout",
       "text": [
        " 10\n",
        "0.17"
       ]
      },
      {
       "output_type": "stream",
       "stream": "stdout",
       "text": [
        " 10\n",
        "0.175"
       ]
      },
      {
       "output_type": "stream",
       "stream": "stdout",
       "text": [
        " 10\n",
        "0.18"
       ]
      },
      {
       "output_type": "stream",
       "stream": "stdout",
       "text": [
        " 10\n",
        "0.1803398875"
       ]
      },
      {
       "output_type": "stream",
       "stream": "stdout",
       "text": [
        " 10\n",
        "0.185"
       ]
      },
      {
       "output_type": "stream",
       "stream": "stdout",
       "text": [
        " 10\n",
        "0.19"
       ]
      },
      {
       "output_type": "stream",
       "stream": "stdout",
       "text": [
        " 10\n",
        "0.195"
       ]
      },
      {
       "output_type": "stream",
       "stream": "stdout",
       "text": [
        " 10\n",
        "0.2"
       ]
      },
      {
       "output_type": "stream",
       "stream": "stdout",
       "text": [
        " 10\n",
        "0.2016261238"
       ]
      },
      {
       "output_type": "stream",
       "stream": "stdout",
       "text": [
        " 10\n",
        "0.205"
       ]
      },
      {
       "output_type": "stream",
       "stream": "stdout",
       "text": [
        " 10\n",
        "0.21"
       ]
      },
      {
       "output_type": "stream",
       "stream": "stdout",
       "text": [
        " 10\n",
        "0.215"
       ]
      },
      {
       "output_type": "stream",
       "stream": "stdout",
       "text": [
        " 10\n",
        "0.22"
       ]
      },
      {
       "output_type": "stream",
       "stream": "stdout",
       "text": [
        " 10\n",
        "0.225"
       ]
      },
      {
       "output_type": "stream",
       "stream": "stdout",
       "text": [
        " 10\n",
        "0.23"
       ]
      },
      {
       "output_type": "stream",
       "stream": "stdout",
       "text": [
        " 10\n",
        "0.235"
       ]
      },
      {
       "output_type": "stream",
       "stream": "stdout",
       "text": [
        " 10\n",
        "0.2360679775"
       ]
      },
      {
       "output_type": "stream",
       "stream": "stdout",
       "text": [
        " 10\n",
        "0.24"
       ]
      },
      {
       "output_type": "stream",
       "stream": "stdout",
       "text": [
        " 10\n",
        "0.245"
       ]
      },
      {
       "output_type": "stream",
       "stream": "stdout",
       "text": [
        " 10\n",
        "0.25"
       ]
      },
      {
       "output_type": "stream",
       "stream": "stdout",
       "text": [
        " 10\n",
        "0.255"
       ]
      },
      {
       "output_type": "stream",
       "stream": "stdout",
       "text": [
        " 10\n",
        "0.26"
       ]
      },
      {
       "output_type": "stream",
       "stream": "stdout",
       "text": [
        " 10\n",
        "0.265"
       ]
      },
      {
       "output_type": "stream",
       "stream": "stdout",
       "text": [
        " 10\n",
        "0.27"
       ]
      },
      {
       "output_type": "stream",
       "stream": "stdout",
       "text": [
        " 10\n",
        "0.2705098312"
       ]
      },
      {
       "output_type": "stream",
       "stream": "stdout",
       "text": [
        " 10\n",
        "0.275"
       ]
      },
      {
       "output_type": "stream",
       "stream": "stdout",
       "text": [
        " 10\n",
        "0.28"
       ]
      },
      {
       "output_type": "stream",
       "stream": "stdout",
       "text": [
        " 10\n",
        "0.285"
       ]
      },
      {
       "output_type": "stream",
       "stream": "stdout",
       "text": [
        " 10\n",
        "0.29"
       ]
      },
      {
       "output_type": "stream",
       "stream": "stdout",
       "text": [
        " 10\n",
        "0.2917960675"
       ]
      },
      {
       "output_type": "stream",
       "stream": "stdout",
       "text": [
        " 10\n",
        "0.295"
       ]
      },
      {
       "output_type": "stream",
       "stream": "stdout",
       "text": [
        " 10\n",
        "0.3"
       ]
      },
      {
       "output_type": "stream",
       "stream": "stdout",
       "text": [
        " 10\n",
        "0.305"
       ]
      },
      {
       "output_type": "stream",
       "stream": "stdout",
       "text": [
        " 10\n",
        "0.31"
       ]
      },
      {
       "output_type": "stream",
       "stream": "stdout",
       "text": [
        " 10\n",
        "0.315"
       ]
      },
      {
       "output_type": "stream",
       "stream": "stdout",
       "text": [
        " 10\n",
        "0.32"
       ]
      },
      {
       "output_type": "stream",
       "stream": "stdout",
       "text": [
        " 10\n",
        "0.325"
       ]
      },
      {
       "output_type": "stream",
       "stream": "stdout",
       "text": [
        " 10\n",
        "0.3262379212"
       ]
      },
      {
       "output_type": "stream",
       "stream": "stdout",
       "text": [
        " 10\n",
        "0.33"
       ]
      },
      {
       "output_type": "stream",
       "stream": "stdout",
       "text": [
        " 10\n",
        "0.335"
       ]
      },
      {
       "output_type": "stream",
       "stream": "stdout",
       "text": [
        " 10\n",
        "0.34"
       ]
      },
      {
       "output_type": "stream",
       "stream": "stdout",
       "text": [
        " 10\n",
        "0.345"
       ]
      },
      {
       "output_type": "stream",
       "stream": "stdout",
       "text": [
        " 10\n",
        "0.3475241575"
       ]
      },
      {
       "output_type": "stream",
       "stream": "stdout",
       "text": [
        " 10\n",
        "0.35"
       ]
      },
      {
       "output_type": "stream",
       "stream": "stdout",
       "text": [
        " 10\n",
        "0.355"
       ]
      },
      {
       "output_type": "stream",
       "stream": "stdout",
       "text": [
        " 10\n",
        "0.36"
       ]
      },
      {
       "output_type": "stream",
       "stream": "stdout",
       "text": [
        " 10\n",
        "0.365"
       ]
      },
      {
       "output_type": "stream",
       "stream": "stdout",
       "text": [
        " 10\n",
        "0.37"
       ]
      },
      {
       "output_type": "stream",
       "stream": "stdout",
       "text": [
        " 10\n",
        "0.375"
       ]
      },
      {
       "output_type": "stream",
       "stream": "stdout",
       "text": [
        " 10\n",
        "0.38"
       ]
      },
      {
       "output_type": "stream",
       "stream": "stdout",
       "text": [
        " 10\n",
        "0.3819660113"
       ]
      },
      {
       "output_type": "stream",
       "stream": "stdout",
       "text": [
        " 10\n",
        "0.385"
       ]
      },
      {
       "output_type": "stream",
       "stream": "stdout",
       "text": [
        " 10\n",
        "0.39"
       ]
      },
      {
       "output_type": "stream",
       "stream": "stdout",
       "text": [
        " 10\n",
        "0.395"
       ]
      },
      {
       "output_type": "stream",
       "stream": "stdout",
       "text": [
        " 10\n",
        "0.4"
       ]
      },
      {
       "output_type": "stream",
       "stream": "stdout",
       "text": [
        " 10\n",
        "0.405"
       ]
      },
      {
       "output_type": "stream",
       "stream": "stdout",
       "text": [
        " 10\n",
        "0.41"
       ]
      },
      {
       "output_type": "stream",
       "stream": "stdout",
       "text": [
        " 10\n",
        "0.415"
       ]
      },
      {
       "output_type": "stream",
       "stream": "stdout",
       "text": [
        " 10\n",
        "0.416407865"
       ]
      },
      {
       "output_type": "stream",
       "stream": "stdout",
       "text": [
        " 10\n",
        "0.42"
       ]
      },
      {
       "output_type": "stream",
       "stream": "stdout",
       "text": [
        " 10\n",
        "0.425"
       ]
      },
      {
       "output_type": "stream",
       "stream": "stdout",
       "text": [
        " 10\n",
        "0.43"
       ]
      },
      {
       "output_type": "stream",
       "stream": "stdout",
       "text": [
        " 10\n",
        "0.435"
       ]
      },
      {
       "output_type": "stream",
       "stream": "stdout",
       "text": [
        " 10\n",
        "0.4376941013"
       ]
      },
      {
       "output_type": "stream",
       "stream": "stdout",
       "text": [
        " 10\n",
        "0.44"
       ]
      },
      {
       "output_type": "stream",
       "stream": "stdout",
       "text": [
        " 10\n",
        "0.445"
       ]
      },
      {
       "output_type": "stream",
       "stream": "stdout",
       "text": [
        " 10\n",
        "0.45"
       ]
      },
      {
       "output_type": "stream",
       "stream": "stdout",
       "text": [
        " 10\n",
        "0.455"
       ]
      },
      {
       "output_type": "stream",
       "stream": "stdout",
       "text": [
        " 10\n",
        "0.46"
       ]
      },
      {
       "output_type": "stream",
       "stream": "stdout",
       "text": [
        " 10\n",
        "0.465"
       ]
      },
      {
       "output_type": "stream",
       "stream": "stdout",
       "text": [
        " 10\n",
        "0.47"
       ]
      },
      {
       "output_type": "stream",
       "stream": "stdout",
       "text": [
        " 10\n",
        "0.472135955"
       ]
      },
      {
       "output_type": "stream",
       "stream": "stdout",
       "text": [
        " 10\n",
        "0.475"
       ]
      },
      {
       "output_type": "stream",
       "stream": "stdout",
       "text": [
        " 10\n",
        "0.48"
       ]
      },
      {
       "output_type": "stream",
       "stream": "stdout",
       "text": [
        " 10\n",
        "0.485"
       ]
      },
      {
       "output_type": "stream",
       "stream": "stdout",
       "text": [
        " 10\n",
        "0.49"
       ]
      },
      {
       "output_type": "stream",
       "stream": "stdout",
       "text": [
        " 10\n",
        "0.495"
       ]
      },
      {
       "output_type": "stream",
       "stream": "stdout",
       "text": [
        " 10\n",
        "0.5"
       ]
      },
      {
       "output_type": "stream",
       "stream": "stdout",
       "text": [
        " 10\n"
       ]
      }
     ],
     "prompt_number": 12
    },
    {
     "cell_type": "code",
     "collapsed": false,
     "input": [
      "fig, ax = plt.subplots(figsize=(8,6))\n",
      "\n",
      "ax.tick_params(axis='both',which='both',direction='out')\n",
      "\n",
      "m = 15\n",
      "\n",
      "color=cm.jet(np.linspace(0,1,m))\n",
      "\n",
      "#ls =['-', '--', '-.',':',' ']\n",
      "\n",
      "for i in range(1,m+1):\n",
      "#    plt.axvline(EquivGam(i * tau), 0, 1, dashes=[i*2,i,3,i],alpha=1.,lw=2,color=color[i-1], label=i)\n",
      "    plt.axvline(EquivGam(i * tau), 0, 1, ls='-',alpha=0.5,lw=1.5,color='black', label=i)\n",
      "\n",
      "    if i==1:\n",
      "        text = r'$\\tau$'.format(int(i*tau))\n",
      "    else:\n",
      "        text = r'{:d}$\\tau$'.format(i,int(i*tau))\n",
      "\n",
      "    \n",
      "\n",
      "    x = EquivGam(i*tau)\n",
      "    ind = np.argmin(unique_gam < x)\n",
      "    y = fits[ind-1]\n",
      "    \n",
      "    print x, y, ind\n",
      "    \n",
      "    plt.annotate(text, family='monospace',\n",
      "                 #xy=(x,y-0.0025),\n",
      "                 xy=(x,0.15),\n",
      "                xycoords='data',\n",
      "#                xytext=(0, 320*(-0.45 + EquivGam(i * tau))), textcoords='offset points',\n",
      "                xytext=(0,0), textcoords='offset points',\n",
      "                horizontalalignment='center', verticalalignment='center',fontsize=10,\n",
      "                bbox=dict(facecolor='white', edgecolor='None', alpha=1.0,pad=3.0)\n",
      "                )\n",
      "\n",
      "\n",
      "plt.errorbar(unique_gam, fits, yerr=err,color='black',lw=3)\n",
      "#plt.plot(unique_gam, fits, color='black',lw=2)\n",
      "\n",
      "ax.set_xticks(np.arange(0,0.55,0.05),minor=True)\n",
      "ax.set_yticks(np.arange(0.145,0.185,0.0025),minor=True)\n",
      "\n",
      "plt.ylim(0.145,0.18)\n",
      "\n",
      "#plt.legend(title='$n$',bbox_to_anchor=(0.72,0.62))\n",
      "plt.ylabel(r'$\\overline{\\Lambda}_\\gamma$',fontsize=25)\n",
      "plt.xlabel(r'$\\gamma$',fontsize=25)\n",
      "plt.tight_layout()\n",
      "fig.subplots_adjust(left=0.16,right=.95,bottom=0.14)#,top=0.95)\n",
      "#fig.savefig('fig_lambda_global.pdf',dpi=600)"
     ],
     "language": "python",
     "metadata": {},
     "outputs": [
      {
       "output_type": "stream",
       "stream": "stdout",
       "text": [
        "0.38196601125 0.170552701768 88\n",
        "0.2360679775 0.166070836667 54\n",
        "0.14589803375 0.161575853392 33\n",
        "0.472135955 0.175420235851 109\n",
        "0.0901699437495 0.158079914865 22\n",
        "0.291796067501 0.169907172415 68\n",
        "0.326237921249 0.171065252326 76\n",
        "0.0557280900008 0.155341367498 14\n",
        "0.437694101251 0.174976729121 101\n",
        "0.180339887499 0.164642133196 41\n",
        "0.201626123751 0.165753646221 46\n",
        "0.416407864999 0.173918339094 96\n",
        "0.0344418537486 0.153240338825 8\n",
        "0.347524157501 0.17160854695 81\n",
        "0.270509831248 0.169230156187 63\n"
       ]
      },
      {
       "metadata": {},
       "output_type": "display_data",
       "png": "[encoded data removed]",
       "text": [
        "<matplotlib.figure.Figure at 0x10ba3d690>"
       ]
      }
     ],
     "prompt_number": 13
    },
    {
     "cell_type": "code",
     "collapsed": false,
     "input": [
      "np.savez('global_lambda', g = unique_gam, fits=fits, err=err)"
     ],
     "language": "python",
     "metadata": {},
     "outputs": [],
     "prompt_number": 14
    },
    {
     "cell_type": "code",
     "collapsed": false,
     "input": [
      "# with inset\n",
      "#http://akuederle.com/matplotlib-zoomed-up-inset\n",
      "\n",
      "from mpl_toolkits.axes_grid1.inset_locator import zoomed_inset_axes\n",
      "from mpl_toolkits.axes_grid1.inset_locator import mark_inset\n",
      "\n",
      "\n",
      "fig, ax = plt.subplots(figsize=(8,6))\n",
      "\n",
      "ax.tick_params(axis='both',which='both',direction='out')\n",
      "\n",
      "m = 15\n",
      "\n",
      "color=cm.jet(np.linspace(0,1,m))\n",
      "\n",
      "#ls =['-', '--', '-.',':',' ']\n",
      "\n",
      "for i in range(1,m+1):\n",
      "#    plt.axvline(EquivGam(i * tau), 0, 1, dashes=[i*2,i,3,i],alpha=1.,lw=2,color=color[i-1], label=i)\n",
      "    plt.axvline(EquivGam(i * tau), 0, 1, ls='-',alpha=1.,lw=1.5,color='black', label=i)\n",
      "\n",
      "    if i==1:\n",
      "        text = r'$\\tau$'.format(int(i*tau))\n",
      "    else:\n",
      "        text = r'{:d}$\\tau$'.format(i,int(i*tau))\n",
      "\n",
      "    \n",
      "\n",
      "    x = EquivGam(i*tau)\n",
      "    ind = np.argmin(unique_gam < x)\n",
      "    y = fits[ind-1]\n",
      "    \n",
      "    print x, y, ind\n",
      "    \n",
      "    plt.annotate(text, family='monospace',\n",
      "                 #xy=(x,y-0.0025),\n",
      "                 xy=(x,0.1475),\n",
      "                xycoords='data',\n",
      "#                xytext=(0, 320*(-0.45 + EquivGam(i * tau))), textcoords='offset points',\n",
      "                xytext=(0,0), textcoords='offset points',\n",
      "                horizontalalignment='center', verticalalignment='center',fontsize=10,\n",
      "                bbox=dict(facecolor='white', edgecolor='None', alpha=1.0,pad=3.0)\n",
      "                )\n",
      "\n",
      "\n",
      "plt.errorbar(unique_gam, fits, yerr=err,color='black',lw=3,alpha=0.5)\n",
      "plt.plot(unique_gam, fits, color='black',lw=3)\n",
      "\n",
      "ax.set_xticks(np.arange(0,0.55,0.05),minor=True)\n",
      "ax.set_yticks(np.arange(0.145,0.185,0.0025),minor=True)\n",
      "\n",
      "plt.ylim(0.145,0.1775)\n",
      "\n",
      "#plt.legend(title='$n$',bbox_to_anchor=(0.72,0.62))\n",
      "plt.ylabel(r'$\\overline{\\Lambda}(\\infty)$',fontsize=25)\n",
      "plt.xlabel(r'$\\gamma$',fontsize=25)\n",
      "#plt.tight_layout()\n",
      "#fig.subplots_adjust(left=0.16,right=.95,bottom=0.14)#,top=0.95)\n",
      "#fig.savefig('fig_lambda_global.pdf',dpi=600)\n",
      "\n",
      "axins = zoomed_inset_axes(ax, 12, loc=5) # zoom-factor: 2.5, location: upper-left\n",
      "\n",
      "#x1, x2, y1, y2 = 0.374, 0.387, 0.1702, 0.1716 # specify the limits\n",
      "x1, x2, y1, y2 = 0.374, 0.387, 0.1704, 0.1716 # specify the limits\n",
      "axins.set_xlim(x1, x2) # apply the x-limits\n",
      "axins.set_ylim(y1, y2) # apply the y-limits\n",
      "\n",
      "plt.yticks(visible=False)\n",
      "plt.xticks(visible=False)\n",
      "\n",
      "mark_inset(ax, axins, loc1=2, loc2=1, fc=\"none\", ec=\"0\")\n",
      "\n",
      "t = np.load('localmin.npz')\n",
      "local_g = t['g']\n",
      "local_fits = t['lg']\n",
      "local_err = t['lg_err']\n",
      "\n",
      "#axins.errorbar(local_g, local_fits, yerr=local_err,color='black',lw=3,alpha=0.3)\n",
      "#axins.errorbar(local_g, local_fits, yerr=local_err,color='black',lw=3,alpha=0.3)\n",
      "axins.plot(local_g, local_fits,color='black',lw=3,marker='o')\n",
      "axins.axvline(EquivGam(tau), 0, 1, ls='-',alpha=0.5,lw=1.5,color='black')\n",
      "axins.annotate(r'$\\tau$', family='monospace',\n",
      "                 #xy=(x,y-0.0025),\n",
      "                 xy=(EquivGam(tau),0.1713),\n",
      "                xycoords='data',\n",
      "#                xytext=(0, 320*(-0.45 + EquivGam(i * tau))), textcoords='offset points',\n",
      "                xytext=(0,0), textcoords='offset points',\n",
      "                horizontalalignment='center', verticalalignment='center',fontsize=20,\n",
      "                    bbox=dict(facecolor='white', edgecolor='None', alpha=1.0,pad=3.0)\n",
      "                )\n",
      "\n",
      "fig.savefig('fig_lambda_global.pdf',dpi=600)"
     ],
     "language": "python",
     "metadata": {},
     "outputs": [
      {
       "output_type": "stream",
       "stream": "stdout",
       "text": [
        "0.38196601125 0.170552701768 88\n",
        "0.2360679775 0.166070836667 54\n",
        "0.14589803375 0.161575853392 33\n",
        "0.472135955 0.175420235851 109\n",
        "0.0901699437495 0.158079914865 22\n",
        "0.291796067501 0.169907172415 68\n",
        "0.326237921249 0.171065252326 76\n",
        "0.0557280900008 0.155341367498 14\n",
        "0.437694101251 0.174976729121 101\n",
        "0.180339887499 0.164642133196 41\n",
        "0.201626123751 0.165753646221 46\n",
        "0.416407864999 0.173918339094 96\n",
        "0.0344418537486 0.153240338825 8\n",
        "0.347524157501 0.17160854695 81\n",
        "0.270509831248 0.169230156187 63\n"
       ]
      },
      {
       "metadata": {},
       "output_type": "display_data",
       "png": "[encoded data removed]",
       "text": [
        "<matplotlib.figure.Figure at 0x10c110790>"
       ]
      }
     ],
     "prompt_number": 15
    },
    {
     "cell_type": "code",
     "collapsed": false,
     "input": [
      "def f(x,a,b,c,d):\n",
      "    return a + b/x + c*np.log(x)/x + d/np.log(x)\n",
      "\n",
      "\n",
      "m = len(unique_gam)\n",
      "\n",
      "color=cm.jet(np.linspace(0,1,m))\n",
      "\n",
      "fits = []\n",
      "err = []\n",
      "\n",
      "for j in range(m):\n",
      "    g = unique_gam[j]\n",
      "    print g,\n",
      "    fits_g = []\n",
      "    ind = np.where(gam == g)[0]\n",
      "    print len(ind)\n",
      "    for i in ind:\n",
      "        t = np.load(files[i]) # load only max_k\n",
      "        \n",
      "        var = t['var']\n",
      "        rlist = t['rlist']\n",
      "\n",
      "        normvar = var / (np.pi * rho)**.5 / rlist / 2\n",
      "\n",
      "        y = var / (np.pi * rho)**.5 / 2 / rlist\n",
      "        x = rlist\n",
      "        \n",
      "        n = 0\n",
      "        xs, ys = CalcSmoothN(x,y,n)\n",
      "        ys *= (n+1)\n",
      "        \n",
      "        po, pc = curve_fit(f,xs,ys)\n",
      "#        fits_g.append(po[0])\n",
      "#        fits_g.append(np.mean(ys))\n",
      "        fits_g.append(ys[-1])\n",
      "    fits.append(np.mean(fits_g))\n",
      "    err.append(np.std(fits_g))\n",
      "fits = np.array(fits)\n",
      "err = np.array(err)"
     ],
     "language": "python",
     "metadata": {},
     "outputs": [
      {
       "output_type": "stream",
       "stream": "stdout",
       "text": [
        "0.0 10\n",
        "0.005"
       ]
      },
      {
       "output_type": "stream",
       "stream": "stdout",
       "text": [
        " 10\n",
        "0.01"
       ]
      },
      {
       "output_type": "stream",
       "stream": "stdout",
       "text": [
        " 10\n",
        "0.015"
       ]
      },
      {
       "output_type": "stream",
       "stream": "stdout",
       "text": [
        " 11\n",
        "0.02"
       ]
      },
      {
       "output_type": "stream",
       "stream": "stdout",
       "text": [
        " 10\n",
        "0.025"
       ]
      },
      {
       "output_type": "stream",
       "stream": "stdout",
       "text": [
        " 10\n",
        "0.03"
       ]
      },
      {
       "output_type": "stream",
       "stream": "stdout",
       "text": [
        " 10\n",
        "0.0344418537"
       ]
      },
      {
       "output_type": "stream",
       "stream": "stdout",
       "text": [
        " 10\n",
        "0.035"
       ]
      },
      {
       "output_type": "stream",
       "stream": "stdout",
       "text": [
        " 10\n",
        "0.04"
       ]
      },
      {
       "output_type": "stream",
       "stream": "stdout",
       "text": [
        " 10\n",
        "0.045"
       ]
      },
      {
       "output_type": "stream",
       "stream": "stdout",
       "text": [
        " 10\n",
        "0.05"
       ]
      },
      {
       "output_type": "stream",
       "stream": "stdout",
       "text": [
        " 10\n",
        "0.055"
       ]
      },
      {
       "output_type": "stream",
       "stream": "stdout",
       "text": [
        " 10\n",
        "0.05572809"
       ]
      },
      {
       "output_type": "stream",
       "stream": "stdout",
       "text": [
        " 10\n",
        "0.06"
       ]
      },
      {
       "output_type": "stream",
       "stream": "stdout",
       "text": [
        " 10\n",
        "0.065"
       ]
      },
      {
       "output_type": "stream",
       "stream": "stdout",
       "text": [
        " 10\n",
        "0.07"
       ]
      },
      {
       "output_type": "stream",
       "stream": "stdout",
       "text": [
        " 10\n",
        "0.075"
       ]
      },
      {
       "output_type": "stream",
       "stream": "stdout",
       "text": [
        " 10\n",
        "0.08"
       ]
      },
      {
       "output_type": "stream",
       "stream": "stdout",
       "text": [
        " 10\n",
        "0.085"
       ]
      },
      {
       "output_type": "stream",
       "stream": "stdout",
       "text": [
        " 10\n",
        "0.09"
       ]
      },
      {
       "output_type": "stream",
       "stream": "stdout",
       "text": [
        " 10\n",
        "0.0901699437"
       ]
      },
      {
       "output_type": "stream",
       "stream": "stdout",
       "text": [
        " 10\n",
        "0.095"
       ]
      },
      {
       "output_type": "stream",
       "stream": "stdout",
       "text": [
        " 10\n",
        "0.1"
       ]
      },
      {
       "output_type": "stream",
       "stream": "stdout",
       "text": [
        " 10\n",
        "0.105"
       ]
      },
      {
       "output_type": "stream",
       "stream": "stdout",
       "text": [
        " 10\n",
        "0.11"
       ]
      },
      {
       "output_type": "stream",
       "stream": "stdout",
       "text": [
        " 10\n",
        "0.115"
       ]
      },
      {
       "output_type": "stream",
       "stream": "stdout",
       "text": [
        " 10\n",
        "0.12"
       ]
      },
      {
       "output_type": "stream",
       "stream": "stdout",
       "text": [
        " 10\n",
        "0.125"
       ]
      },
      {
       "output_type": "stream",
       "stream": "stdout",
       "text": [
        " 10\n",
        "0.13"
       ]
      },
      {
       "output_type": "stream",
       "stream": "stdout",
       "text": [
        " 10\n",
        "0.135"
       ]
      },
      {
       "output_type": "stream",
       "stream": "stdout",
       "text": [
        " 10\n",
        "0.14"
       ]
      },
      {
       "output_type": "stream",
       "stream": "stdout",
       "text": [
        " 10\n",
        "0.145"
       ]
      },
      {
       "output_type": "stream",
       "stream": "stdout",
       "text": [
        " 10\n",
        "0.1458980338"
       ]
      },
      {
       "output_type": "stream",
       "stream": "stdout",
       "text": [
        " 10\n",
        "0.15"
       ]
      },
      {
       "output_type": "stream",
       "stream": "stdout",
       "text": [
        " 10\n",
        "0.155"
       ]
      },
      {
       "output_type": "stream",
       "stream": "stdout",
       "text": [
        " 10\n",
        "0.16"
       ]
      },
      {
       "output_type": "stream",
       "stream": "stdout",
       "text": [
        " 10\n",
        "0.165"
       ]
      },
      {
       "output_type": "stream",
       "stream": "stdout",
       "text": [
        " 10\n",
        "0.17"
       ]
      },
      {
       "output_type": "stream",
       "stream": "stdout",
       "text": [
        " 10\n",
        "0.175"
       ]
      },
      {
       "output_type": "stream",
       "stream": "stdout",
       "text": [
        " 10\n",
        "0.18"
       ]
      },
      {
       "output_type": "stream",
       "stream": "stdout",
       "text": [
        " 10\n",
        "0.1803398875"
       ]
      },
      {
       "output_type": "stream",
       "stream": "stdout",
       "text": [
        " 10\n",
        "0.185"
       ]
      },
      {
       "output_type": "stream",
       "stream": "stdout",
       "text": [
        " 10\n",
        "0.19"
       ]
      },
      {
       "output_type": "stream",
       "stream": "stdout",
       "text": [
        " 10\n",
        "0.195"
       ]
      },
      {
       "output_type": "stream",
       "stream": "stdout",
       "text": [
        " 10\n",
        "0.2"
       ]
      },
      {
       "output_type": "stream",
       "stream": "stdout",
       "text": [
        " 10\n",
        "0.2016261238"
       ]
      },
      {
       "output_type": "stream",
       "stream": "stdout",
       "text": [
        " 10\n",
        "0.205"
       ]
      },
      {
       "output_type": "stream",
       "stream": "stdout",
       "text": [
        " 10\n",
        "0.21"
       ]
      },
      {
       "output_type": "stream",
       "stream": "stdout",
       "text": [
        " 10\n",
        "0.215"
       ]
      },
      {
       "output_type": "stream",
       "stream": "stdout",
       "text": [
        " 10\n",
        "0.22"
       ]
      },
      {
       "output_type": "stream",
       "stream": "stdout",
       "text": [
        " 10\n",
        "0.225"
       ]
      },
      {
       "output_type": "stream",
       "stream": "stdout",
       "text": [
        " 10\n",
        "0.23"
       ]
      },
      {
       "output_type": "stream",
       "stream": "stdout",
       "text": [
        " 10\n",
        "0.235"
       ]
      },
      {
       "output_type": "stream",
       "stream": "stdout",
       "text": [
        " 10\n",
        "0.2360679775"
       ]
      },
      {
       "output_type": "stream",
       "stream": "stdout",
       "text": [
        " 10\n",
        "0.24"
       ]
      },
      {
       "output_type": "stream",
       "stream": "stdout",
       "text": [
        " 10\n",
        "0.245"
       ]
      },
      {
       "output_type": "stream",
       "stream": "stdout",
       "text": [
        " 10\n",
        "0.25"
       ]
      },
      {
       "output_type": "stream",
       "stream": "stdout",
       "text": [
        " 10\n",
        "0.255"
       ]
      },
      {
       "output_type": "stream",
       "stream": "stdout",
       "text": [
        " 10\n",
        "0.26"
       ]
      },
      {
       "output_type": "stream",
       "stream": "stdout",
       "text": [
        " 10\n",
        "0.265"
       ]
      },
      {
       "output_type": "stream",
       "stream": "stdout",
       "text": [
        " 10\n",
        "0.27"
       ]
      },
      {
       "output_type": "stream",
       "stream": "stdout",
       "text": [
        " 10\n",
        "0.2705098312"
       ]
      },
      {
       "output_type": "stream",
       "stream": "stdout",
       "text": [
        " 10\n",
        "0.275"
       ]
      },
      {
       "output_type": "stream",
       "stream": "stdout",
       "text": [
        " 10\n",
        "0.28"
       ]
      },
      {
       "output_type": "stream",
       "stream": "stdout",
       "text": [
        " 10\n",
        "0.285"
       ]
      },
      {
       "output_type": "stream",
       "stream": "stdout",
       "text": [
        " 10\n",
        "0.29"
       ]
      },
      {
       "output_type": "stream",
       "stream": "stdout",
       "text": [
        " 10\n",
        "0.2917960675"
       ]
      },
      {
       "output_type": "stream",
       "stream": "stdout",
       "text": [
        " 10\n",
        "0.295"
       ]
      },
      {
       "output_type": "stream",
       "stream": "stdout",
       "text": [
        " 10\n",
        "0.3"
       ]
      },
      {
       "output_type": "stream",
       "stream": "stdout",
       "text": [
        " 10\n",
        "0.305"
       ]
      },
      {
       "output_type": "stream",
       "stream": "stdout",
       "text": [
        " 10\n",
        "0.31"
       ]
      },
      {
       "output_type": "stream",
       "stream": "stdout",
       "text": [
        " 10\n",
        "0.315"
       ]
      },
      {
       "output_type": "stream",
       "stream": "stdout",
       "text": [
        " 10\n",
        "0.32"
       ]
      },
      {
       "output_type": "stream",
       "stream": "stdout",
       "text": [
        " 10\n",
        "0.325"
       ]
      },
      {
       "output_type": "stream",
       "stream": "stdout",
       "text": [
        " 10\n",
        "0.3262379212"
       ]
      },
      {
       "output_type": "stream",
       "stream": "stdout",
       "text": [
        " 10\n",
        "0.33"
       ]
      },
      {
       "output_type": "stream",
       "stream": "stdout",
       "text": [
        " 10\n",
        "0.335"
       ]
      },
      {
       "output_type": "stream",
       "stream": "stdout",
       "text": [
        " 10\n",
        "0.34"
       ]
      },
      {
       "output_type": "stream",
       "stream": "stdout",
       "text": [
        " 10\n",
        "0.345"
       ]
      },
      {
       "output_type": "stream",
       "stream": "stdout",
       "text": [
        " 10\n",
        "0.3475241575"
       ]
      },
      {
       "output_type": "stream",
       "stream": "stdout",
       "text": [
        " 10\n",
        "0.35"
       ]
      },
      {
       "output_type": "stream",
       "stream": "stdout",
       "text": [
        " 10\n",
        "0.355"
       ]
      },
      {
       "output_type": "stream",
       "stream": "stdout",
       "text": [
        " 10\n",
        "0.36"
       ]
      },
      {
       "output_type": "stream",
       "stream": "stdout",
       "text": [
        " 10\n",
        "0.365"
       ]
      },
      {
       "output_type": "stream",
       "stream": "stdout",
       "text": [
        " 10\n",
        "0.37"
       ]
      },
      {
       "output_type": "stream",
       "stream": "stdout",
       "text": [
        " 10\n",
        "0.375"
       ]
      },
      {
       "output_type": "stream",
       "stream": "stdout",
       "text": [
        " 10\n",
        "0.38"
       ]
      },
      {
       "output_type": "stream",
       "stream": "stdout",
       "text": [
        " 10\n",
        "0.3819660113"
       ]
      },
      {
       "output_type": "stream",
       "stream": "stdout",
       "text": [
        " 10\n",
        "0.385"
       ]
      },
      {
       "output_type": "stream",
       "stream": "stdout",
       "text": [
        " 10\n",
        "0.39"
       ]
      },
      {
       "output_type": "stream",
       "stream": "stdout",
       "text": [
        " 10\n",
        "0.395"
       ]
      },
      {
       "output_type": "stream",
       "stream": "stdout",
       "text": [
        " 10\n",
        "0.4"
       ]
      },
      {
       "output_type": "stream",
       "stream": "stdout",
       "text": [
        " 10\n",
        "0.405"
       ]
      },
      {
       "output_type": "stream",
       "stream": "stdout",
       "text": [
        " 10\n",
        "0.41"
       ]
      },
      {
       "output_type": "stream",
       "stream": "stdout",
       "text": [
        " 10\n",
        "0.415"
       ]
      },
      {
       "output_type": "stream",
       "stream": "stdout",
       "text": [
        " 10\n",
        "0.416407865"
       ]
      },
      {
       "output_type": "stream",
       "stream": "stdout",
       "text": [
        " 10\n",
        "0.42"
       ]
      },
      {
       "output_type": "stream",
       "stream": "stdout",
       "text": [
        " 10\n",
        "0.425"
       ]
      },
      {
       "output_type": "stream",
       "stream": "stdout",
       "text": [
        " 10\n",
        "0.43"
       ]
      },
      {
       "output_type": "stream",
       "stream": "stdout",
       "text": [
        " 10\n",
        "0.435"
       ]
      },
      {
       "output_type": "stream",
       "stream": "stdout",
       "text": [
        " 10\n",
        "0.4376941013"
       ]
      },
      {
       "output_type": "stream",
       "stream": "stdout",
       "text": [
        " 10\n",
        "0.44"
       ]
      },
      {
       "output_type": "stream",
       "stream": "stdout",
       "text": [
        " 10\n",
        "0.445"
       ]
      },
      {
       "output_type": "stream",
       "stream": "stdout",
       "text": [
        " 10\n",
        "0.45"
       ]
      },
      {
       "output_type": "stream",
       "stream": "stdout",
       "text": [
        " 10\n",
        "0.455"
       ]
      },
      {
       "output_type": "stream",
       "stream": "stdout",
       "text": [
        " 10\n",
        "0.46"
       ]
      },
      {
       "output_type": "stream",
       "stream": "stdout",
       "text": [
        " 10\n",
        "0.465"
       ]
      },
      {
       "output_type": "stream",
       "stream": "stdout",
       "text": [
        " 10\n",
        "0.47"
       ]
      },
      {
       "output_type": "stream",
       "stream": "stdout",
       "text": [
        " 10\n",
        "0.472135955"
       ]
      },
      {
       "output_type": "stream",
       "stream": "stdout",
       "text": [
        " 10\n",
        "0.475"
       ]
      },
      {
       "output_type": "stream",
       "stream": "stdout",
       "text": [
        " 10\n",
        "0.48"
       ]
      },
      {
       "output_type": "stream",
       "stream": "stdout",
       "text": [
        " 10\n",
        "0.485"
       ]
      },
      {
       "output_type": "stream",
       "stream": "stdout",
       "text": [
        " 10\n",
        "0.49"
       ]
      },
      {
       "output_type": "stream",
       "stream": "stdout",
       "text": [
        " 10\n",
        "0.495"
       ]
      },
      {
       "output_type": "stream",
       "stream": "stdout",
       "text": [
        " 10\n",
        "0.5"
       ]
      },
      {
       "output_type": "stream",
       "stream": "stdout",
       "text": [
        " 10\n"
       ]
      }
     ],
     "prompt_number": 7
    },
    {
     "cell_type": "code",
     "collapsed": false,
     "input": [
      "# with inset\n",
      "#http://akuederle.com/matplotlib-zoomed-up-inset\n",
      "\n",
      "from mpl_toolkits.axes_grid1.inset_locator import zoomed_inset_axes\n",
      "from mpl_toolkits.axes_grid1.inset_locator import mark_inset\n",
      "\n",
      "\n",
      "fig, ax = plt.subplots(figsize=(8,6))\n",
      "\n",
      "ax.tick_params(axis='both',which='both',direction='out')\n",
      "\n",
      "m = 15\n",
      "\n",
      "color=cm.jet(np.linspace(0,1,m))\n",
      "\n",
      "#ls =['-', '--', '-.',':',' ']\n",
      "\n",
      "overlap = [1, 4, 7, 9, 12, 14]\n",
      "\n",
      "for i in range(1,m+1):\n",
      "#    plt.axvline(EquivGam(i * tau), 0, 1, dashes=[i*2,i,3,i],alpha=1.,lw=2,color=color[i-1], label=i)\n",
      "\n",
      "    if i in overlap:\n",
      "        plt.axvline(EquivGam(i * tau), 0, 0.2, ls='-',alpha=.5,lw=1.5,color='black', label=i)\n",
      "        plt.axvline(EquivGam(i * tau), 0.3, 1, ls='-',alpha=.5,lw=1.5,color='black', label=i)\n",
      "    else:\n",
      "        plt.axvline(EquivGam(i * tau), 0, 1, ls='-',alpha=.5,lw=1.5,color='black', label=i)\n",
      "\n",
      "    if i==1:\n",
      "        text = r'$\\tau$'.format(int(i*tau))\n",
      "    else:\n",
      "        text = r'{:d}$\\tau$'.format(i,int(i*tau))\n",
      "\n",
      "    \n",
      "\n",
      "    x = EquivGam(i*tau)\n",
      "    ind = np.argmin(unique_gam < x)\n",
      "    y = fits[ind-1]\n",
      "    \n",
      "    print x, y, ind\n",
      "    \n",
      "    plt.annotate(text, family='monospace',\n",
      "                 #xy=(x,y-0.0025),\n",
      "                 xy=(x,0.1475),\n",
      "                xycoords='data',\n",
      "#                xytext=(0, 320*(-0.45 + EquivGam(i * tau))), textcoords='offset points',\n",
      "                xytext=(0,0), textcoords='offset points',\n",
      "                horizontalalignment='center', verticalalignment='center',fontsize=10,\n",
      "                bbox=dict(facecolor='white', edgecolor='None', alpha=1.0,pad=3.0)\n",
      "                )\n",
      "\n",
      "\n",
      "plt.errorbar(unique_gam, fits, yerr=err,color='black',lw=3,alpha=0.5)\n",
      "plt.plot(unique_gam, fits, color='black',lw=3)\n",
      "\n",
      "ax.set_xticks(np.arange(0,0.55,0.05),minor=True)\n",
      "ax.set_yticks(np.arange(0.145,0.185,0.0025),minor=True)\n",
      "\n",
      "plt.ylim(0.145,0.1775)\n",
      "\n",
      "#plt.legend(title='$n$',bbox_to_anchor=(0.72,0.62))\n",
      "plt.ylabel(r'$\\overline{\\Lambda}(\\infty)$',fontsize=25)\n",
      "plt.xlabel(r'$\\gamma$',fontsize=25)\n",
      "#plt.tight_layout()\n",
      "#fig.subplots_adjust(left=0.16,right=.95,bottom=0.14)#,top=0.95)\n",
      "#fig.savefig('fig_lambda_global.pdf',dpi=600)\n",
      "\n",
      "axins = zoomed_inset_axes(ax, 12, loc=5) # zoom-factor: 2.5, location: upper-left\n",
      "\n",
      "#x1, x2, y1, y2 = 0.374, 0.387, 0.1702, 0.1716 # specify the limits\n",
      "x1, x2, y1, y2 = 0.374, 0.387, 0.1701, 0.1714 # specify the limits\n",
      "axins.set_xlim(x1, x2) # apply the x-limits\n",
      "axins.set_ylim(y1, y2) # apply the y-limits\n",
      "\n",
      "plt.yticks(visible=False)\n",
      "#plt.xticks(visible=False)\n",
      "plt.xticks([0.375, 0.38,0.385])\n",
      "\n",
      "mark_inset(ax, axins, loc1=2, loc2=1, fc=\"none\", ec=\"0\")\n",
      "\n",
      "t = np.load('localmin.npz')\n",
      "local_g = t['g']\n",
      "local_fits = t['lg']\n",
      "local_err = t['lg_err']\n",
      "\n",
      "#axins.errorbar(local_g, local_fits, yerr=local_err,color='black',lw=3,alpha=0.3)\n",
      "#axins.errorbar(local_g, local_fits, yerr=local_err,color='black',lw=3,alpha=0.3)\n",
      "axins.plot(local_g, local_fits-0.0005,color='black',lw=3,marker='o',markersize=5)\n",
      "axins.axvline(EquivGam(tau), 0, 1, ls='-',alpha=0.5,lw=1.5,color='black')\n",
      "axins.annotate(r'$\\tau$', family='monospace',\n",
      "                 #xy=(x,y-0.0025),\n",
      "                 xy=(EquivGam(tau),0.171),\n",
      "                xycoords='data',\n",
      "#                xytext=(0, 320*(-0.45 + EquivGam(i * tau))), textcoords='offset points',\n",
      "                xytext=(0,0), textcoords='offset points',\n",
      "                horizontalalignment='center', verticalalignment='center',fontsize=20,\n",
      "                bbox=dict(facecolor='white', edgecolor='None', alpha=1.0,pad=3.0)\n",
      "                )\n",
      "\n",
      "plt.tight_layout()\n",
      "fig.subplots_adjust(left=0.16,right=.95,bottom=0.14)#,top=0.95)\n",
      "fig.savefig('fig_lambda_global.pdf',dpi=600)"
     ],
     "language": "python",
     "metadata": {},
     "outputs": [
      {
       "output_type": "stream",
       "stream": "stdout",
       "text": [
        "0.38196601125 0.170552701768 88\n",
        "0.2360679775 0.166070836667 54\n",
        "0.14589803375 0.161575853392 33\n",
        "0.472135955 0.175420235851 109\n",
        "0.0901699437495 0.158079914865 22\n",
        "0.291796067501 0.169907172415 68\n",
        "0.326237921249 0.171065252326 76\n",
        "0.0557280900008 0.155341367498 14\n",
        "0.437694101251 0.174976729121 101\n",
        "0.180339887499 0.164642133196 41\n",
        "0.201626123751 0.165753646221 46\n",
        "0.416407864999 0.173918339094 96\n",
        "0.0344418537486 0.153240338825 8\n",
        "0.347524157501 0.17160854695 81\n",
        "0.270509831248 0.169230156187 63\n"
       ]
      },
      {
       "metadata": {},
       "output_type": "display_data",
       "png": "[encoded data removed]",
       "text": [
        "<matplotlib.figure.Figure at 0x10ecae690>"
       ]
      }
     ],
     "prompt_number": 47
    },
    {
     "cell_type": "code",
     "collapsed": false,
     "input": [
      ".00125/0.165"
     ],
     "language": "python",
     "metadata": {},
     "outputs": [
      {
       "metadata": {},
       "output_type": "pyout",
       "prompt_number": 11,
       "text": [
        "0.007575757575757576"
       ]
      }
     ],
     "prompt_number": 11
    },
    {
     "cell_type": "code",
     "collapsed": false,
     "input": [],
     "language": "python",
     "metadata": {},
     "outputs": []
    }
   ],
   "metadata": {}
  }
 ]
}